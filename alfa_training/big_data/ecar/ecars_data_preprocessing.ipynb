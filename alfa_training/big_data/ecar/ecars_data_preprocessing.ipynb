{
 "cells": [
  {
   "cell_type": "markdown",
   "metadata": {},
   "source": [
    "# Elektroautos\n",
    "\n",
    "\n",
    "Du arbeitest als Data Scientist in einem Automobilkonzern deiner Wahl. Dein Chef hat die neuesten Daten über den Elektroautomarkt. Wie immer ist die Zeit knapp und um 14 Uhr hält dein Chef eine Presskonferenz über die neuen Zahlen. Da dein Chef selbst heute einen vollen Terminkalendar hat, bittet er dich die Daten auf- und für die Präsentation vorzubereiten. Dabei ist es wichtig, die Erkenntnisse für das Unternehmen in dem du arbeitest, auszuarbeiten.\n",
    "(Wie steht euer Unternehmen im Vergleich zu den anderen Unternehmen am Markt da?)\n",
    "\n",
    "Der Datensatz besteht aus zwei Teilen. Füge diese zunächst zusammen.\n",
    "\n",
    "Erkunde den Datensatz. Hier kannst du beim Thema fehlende Werte weitere Vorgehensweisen ausprobieren, um die Daten zu befüllen. (hilfreiche Funktionen, um Häufigkeiten zu bestimmen: crosstab(),idxmax(), value_counts() ...)\n",
    "\n",
    "Weiterhin bietet der Datensatz mindestens ein neues Features! Erstelle eins davon.\n",
    "\n",
    "Werte den Datensatz aus! Welche Erkenntnisse kannst du daraus gewinnen?\n",
    "                            \n",
    "Vergiss nicht dein Vorgehen zu dokumentieren: Dokumentiere deine Schritte - bringe deine Gedanken auf Papier!\n",
    "\n",
    "\n",
    "## Wofür stehen die Spalten?\n",
    "\n",
    "\n",
    "- Brand ... Manufacturer of the vehicle\n",
    "- Model ... Model name\n",
    "- AccelSec ... Acceleration as 0-100 km/h\n",
    "- TopSpeed_KmH ... The top speed in km/h\n",
    "- Rang_Km ... Range in km\n",
    "- Efficiency_WhKm ... Efficiency Wh/km --> wie viel kw brauch ich pro km bzw. Stromverbrauch pro km\n",
    "- FastCharge_KmH ... Charge km/h --> Reichweite in km nach einer Stunde Schnellladen (ist ein theoretischer Wert)\n",
    "- RapidCharge ... Yes / No --> besitzt Schnellladefunktion ja/nein\n",
    "- PowerTrain ... Front (FWD), rear (RWD) , or all wheel drive (AWD)\n",
    "- PlugType ... Plug type (Stecktyp zum Laden an der Ladesäule; abhängig vom Land in dem das Auto später fährt)\n",
    "- BodyStyle ... Basic size or style (SUV, Schrägdach etc.)\n",
    "- Seats ... Number of seats\n",
    "- PriceEuro ... Price in Germany before tax incentives\n",
    "\n",
    "\n",
    "https://www.kaggle.com/geoffnel/evs-one-electric-vehicle-dataset\n"
   ]
  },
  {
   "cell_type": "markdown",
   "metadata": {},
   "source": [
    "## to DO\n",
    "\n",
    "                                       1. Data Preprocessing\n",
    "                                           1.1) Datensatz einlesen\n",
    "                                           1.2) fehlende Werte\n",
    "                                           1.3) Ausreißer\n",
    "                                           1.4) Speicherplatz\n",
    "                                           1.5) Pairplot - erste visuelle Inspektion\n",
    "                                           1.6) Features\n",
    "                                        \n",
    "                                        2. Visualisierung"
   ]
  },
  {
   "cell_type": "markdown",
   "metadata": {},
   "source": [
    "### Datensatz einlesen"
   ]
  },
  {
   "cell_type": "code",
   "execution_count": 1,
   "metadata": {},
   "outputs": [],
   "source": [
    "import pandas as pd\n",
    "import numpy as np\n",
    "import seaborn as sns"
   ]
  },
  {
   "cell_type": "code",
   "execution_count": 2,
   "metadata": {},
   "outputs": [
    {
     "data": {
      "text/html": [
       "<div>\n",
       "<style scoped>\n",
       "    .dataframe tbody tr th:only-of-type {\n",
       "        vertical-align: middle;\n",
       "    }\n",
       "\n",
       "    .dataframe tbody tr th {\n",
       "        vertical-align: top;\n",
       "    }\n",
       "\n",
       "    .dataframe thead th {\n",
       "        text-align: right;\n",
       "    }\n",
       "</style>\n",
       "<table border=\"1\" class=\"dataframe\">\n",
       "  <thead>\n",
       "    <tr style=\"text-align: right;\">\n",
       "      <th></th>\n",
       "      <th>,Brand,Model,AccelSec,TopSpeed_KmH,Range_Km,Efficiency_WhKm,connector</th>\n",
       "    </tr>\n",
       "  </thead>\n",
       "  <tbody>\n",
       "    <tr>\n",
       "      <th>0</th>\n",
       "      <td>0,Tesla ,Model 3 Long Range Dual Motor,4.6,233...</td>\n",
       "    </tr>\n",
       "    <tr>\n",
       "      <th>1</th>\n",
       "      <td>1,Volkswagen ,ID.3 Pure,10.0,160,270,167,101</td>\n",
       "    </tr>\n",
       "    <tr>\n",
       "      <th>2</th>\n",
       "      <td>2,Polestar ,2,4.7,210,400,181,102</td>\n",
       "    </tr>\n",
       "    <tr>\n",
       "      <th>3</th>\n",
       "      <td>3,BMW ,iX3 ,6.8,180,360,206,103</td>\n",
       "    </tr>\n",
       "    <tr>\n",
       "      <th>4</th>\n",
       "      <td>4,Honda ,e ,9.5,145,170,168,104</td>\n",
       "    </tr>\n",
       "    <tr>\n",
       "      <th>...</th>\n",
       "      <td>...</td>\n",
       "    </tr>\n",
       "    <tr>\n",
       "      <th>98</th>\n",
       "      <td>98,Nissan ,Ariya 63kWh,7.5,160,330,191,198</td>\n",
       "    </tr>\n",
       "    <tr>\n",
       "      <th>99</th>\n",
       "      <td>99,Audi ,e-tron S Sportback 55 quattro,4.5,210...</td>\n",
       "    </tr>\n",
       "    <tr>\n",
       "      <th>100</th>\n",
       "      <td>100,Nissan ,Ariya e-4ORCE 63kWh,5.9,200,325,19...</td>\n",
       "    </tr>\n",
       "    <tr>\n",
       "      <th>101</th>\n",
       "      <td>101,Nissan ,Ariya e-4ORCE 87kWh Performance,5....</td>\n",
       "    </tr>\n",
       "    <tr>\n",
       "      <th>102</th>\n",
       "      <td>102,Byton ,M-Byte 95 kWh 2WD,7.5,190,400,238,202</td>\n",
       "    </tr>\n",
       "  </tbody>\n",
       "</table>\n",
       "<p>103 rows × 1 columns</p>\n",
       "</div>"
      ],
      "text/plain": [
       "    ,Brand,Model,AccelSec,TopSpeed_KmH,Range_Km,Efficiency_WhKm,connector\n",
       "0    0,Tesla ,Model 3 Long Range Dual Motor,4.6,233...                   \n",
       "1         1,Volkswagen ,ID.3 Pure,10.0,160,270,167,101                   \n",
       "2                    2,Polestar ,2,4.7,210,400,181,102                   \n",
       "3                      3,BMW ,iX3 ,6.8,180,360,206,103                   \n",
       "4                      4,Honda ,e ,9.5,145,170,168,104                   \n",
       "..                                                 ...                   \n",
       "98          98,Nissan ,Ariya 63kWh,7.5,160,330,191,198                   \n",
       "99   99,Audi ,e-tron S Sportback 55 quattro,4.5,210...                   \n",
       "100  100,Nissan ,Ariya e-4ORCE 63kWh,5.9,200,325,19...                   \n",
       "101  101,Nissan ,Ariya e-4ORCE 87kWh Performance,5....                   \n",
       "102   102,Byton ,M-Byte 95 kWh 2WD,7.5,190,400,238,202                   \n",
       "\n",
       "[103 rows x 1 columns]"
      ]
     },
     "execution_count": 2,
     "metadata": {},
     "output_type": "execute_result"
    }
   ],
   "source": [
    "pd.read_csv(\"../data/ecar_part1.csv\", sep='/n', engine='python')"
   ]
  },
  {
   "cell_type": "code",
   "execution_count": 3,
   "metadata": {},
   "outputs": [
    {
     "data": {
      "text/html": [
       "<div>\n",
       "<style scoped>\n",
       "    .dataframe tbody tr th:only-of-type {\n",
       "        vertical-align: middle;\n",
       "    }\n",
       "\n",
       "    .dataframe tbody tr th {\n",
       "        vertical-align: top;\n",
       "    }\n",
       "\n",
       "    .dataframe thead th {\n",
       "        text-align: right;\n",
       "    }\n",
       "</style>\n",
       "<table border=\"1\" class=\"dataframe\">\n",
       "  <thead>\n",
       "    <tr style=\"text-align: right;\">\n",
       "      <th></th>\n",
       "      <th>Brand</th>\n",
       "      <th>Model</th>\n",
       "      <th>AccelSec</th>\n",
       "      <th>TopSpeed_KmH</th>\n",
       "      <th>Range_Km</th>\n",
       "      <th>Efficiency_WhKm</th>\n",
       "      <th>connector</th>\n",
       "    </tr>\n",
       "  </thead>\n",
       "  <tbody>\n",
       "    <tr>\n",
       "      <th>0</th>\n",
       "      <td>Tesla</td>\n",
       "      <td>Model 3 Long Range Dual Motor</td>\n",
       "      <td>4.6</td>\n",
       "      <td>233</td>\n",
       "      <td>450</td>\n",
       "      <td>161</td>\n",
       "      <td>100</td>\n",
       "    </tr>\n",
       "    <tr>\n",
       "      <th>1</th>\n",
       "      <td>Volkswagen</td>\n",
       "      <td>ID.3 Pure</td>\n",
       "      <td>10.0</td>\n",
       "      <td>160</td>\n",
       "      <td>270</td>\n",
       "      <td>167</td>\n",
       "      <td>101</td>\n",
       "    </tr>\n",
       "    <tr>\n",
       "      <th>2</th>\n",
       "      <td>Polestar</td>\n",
       "      <td>2</td>\n",
       "      <td>4.7</td>\n",
       "      <td>210</td>\n",
       "      <td>400</td>\n",
       "      <td>181</td>\n",
       "      <td>102</td>\n",
       "    </tr>\n",
       "    <tr>\n",
       "      <th>3</th>\n",
       "      <td>BMW</td>\n",
       "      <td>iX3</td>\n",
       "      <td>6.8</td>\n",
       "      <td>180</td>\n",
       "      <td>360</td>\n",
       "      <td>206</td>\n",
       "      <td>103</td>\n",
       "    </tr>\n",
       "    <tr>\n",
       "      <th>4</th>\n",
       "      <td>Honda</td>\n",
       "      <td>e</td>\n",
       "      <td>9.5</td>\n",
       "      <td>145</td>\n",
       "      <td>170</td>\n",
       "      <td>168</td>\n",
       "      <td>104</td>\n",
       "    </tr>\n",
       "    <tr>\n",
       "      <th>...</th>\n",
       "      <td>...</td>\n",
       "      <td>...</td>\n",
       "      <td>...</td>\n",
       "      <td>...</td>\n",
       "      <td>...</td>\n",
       "      <td>...</td>\n",
       "      <td>...</td>\n",
       "    </tr>\n",
       "    <tr>\n",
       "      <th>98</th>\n",
       "      <td>Nissan</td>\n",
       "      <td>Ariya 63kWh</td>\n",
       "      <td>7.5</td>\n",
       "      <td>160</td>\n",
       "      <td>330</td>\n",
       "      <td>191</td>\n",
       "      <td>198</td>\n",
       "    </tr>\n",
       "    <tr>\n",
       "      <th>99</th>\n",
       "      <td>Audi</td>\n",
       "      <td>e-tron S Sportback 55 quattro</td>\n",
       "      <td>4.5</td>\n",
       "      <td>210</td>\n",
       "      <td>335</td>\n",
       "      <td>258</td>\n",
       "      <td>199</td>\n",
       "    </tr>\n",
       "    <tr>\n",
       "      <th>100</th>\n",
       "      <td>Nissan</td>\n",
       "      <td>Ariya e-4ORCE 63kWh</td>\n",
       "      <td>5.9</td>\n",
       "      <td>200</td>\n",
       "      <td>325</td>\n",
       "      <td>194</td>\n",
       "      <td>200</td>\n",
       "    </tr>\n",
       "    <tr>\n",
       "      <th>101</th>\n",
       "      <td>Nissan</td>\n",
       "      <td>Ariya e-4ORCE 87kWh Performance</td>\n",
       "      <td>5.1</td>\n",
       "      <td>200</td>\n",
       "      <td>375</td>\n",
       "      <td>232</td>\n",
       "      <td>201</td>\n",
       "    </tr>\n",
       "    <tr>\n",
       "      <th>102</th>\n",
       "      <td>Byton</td>\n",
       "      <td>M-Byte 95 kWh 2WD</td>\n",
       "      <td>7.5</td>\n",
       "      <td>190</td>\n",
       "      <td>400</td>\n",
       "      <td>238</td>\n",
       "      <td>202</td>\n",
       "    </tr>\n",
       "  </tbody>\n",
       "</table>\n",
       "<p>103 rows × 7 columns</p>\n",
       "</div>"
      ],
      "text/plain": [
       "           Brand                            Model  AccelSec  TopSpeed_KmH  \\\n",
       "0         Tesla     Model 3 Long Range Dual Motor       4.6           233   \n",
       "1    Volkswagen                         ID.3 Pure      10.0           160   \n",
       "2      Polestar                                 2       4.7           210   \n",
       "3           BMW                              iX3        6.8           180   \n",
       "4         Honda                                e        9.5           145   \n",
       "..           ...                              ...       ...           ...   \n",
       "98       Nissan                       Ariya 63kWh       7.5           160   \n",
       "99         Audi     e-tron S Sportback 55 quattro       4.5           210   \n",
       "100      Nissan               Ariya e-4ORCE 63kWh       5.9           200   \n",
       "101      Nissan   Ariya e-4ORCE 87kWh Performance       5.1           200   \n",
       "102       Byton                 M-Byte 95 kWh 2WD       7.5           190   \n",
       "\n",
       "     Range_Km  Efficiency_WhKm  connector  \n",
       "0         450              161        100  \n",
       "1         270              167        101  \n",
       "2         400              181        102  \n",
       "3         360              206        103  \n",
       "4         170              168        104  \n",
       "..        ...              ...        ...  \n",
       "98        330              191        198  \n",
       "99        335              258        199  \n",
       "100       325              194        200  \n",
       "101       375              232        201  \n",
       "102       400              238        202  \n",
       "\n",
       "[103 rows x 7 columns]"
      ]
     },
     "execution_count": 3,
     "metadata": {},
     "output_type": "execute_result"
    }
   ],
   "source": [
    "df_part1 = pd.read_csv(\"../data/ecar_part1.csv\", sep=',', index_col=0)\n",
    "df_part1"
   ]
  },
  {
   "cell_type": "code",
   "execution_count": 4,
   "metadata": {},
   "outputs": [
    {
     "data": {
      "text/html": [
       "<div>\n",
       "<style scoped>\n",
       "    .dataframe tbody tr th:only-of-type {\n",
       "        vertical-align: middle;\n",
       "    }\n",
       "\n",
       "    .dataframe tbody tr th {\n",
       "        vertical-align: top;\n",
       "    }\n",
       "\n",
       "    .dataframe thead th {\n",
       "        text-align: right;\n",
       "    }\n",
       "</style>\n",
       "<table border=\"1\" class=\"dataframe\">\n",
       "  <thead>\n",
       "    <tr style=\"text-align: right;\">\n",
       "      <th></th>\n",
       "      <th>FastCharge_KmH</th>\n",
       "      <th>RapidCharge</th>\n",
       "      <th>PowerTrain</th>\n",
       "      <th>PlugType</th>\n",
       "      <th>BodyStyle</th>\n",
       "      <th>Seats</th>\n",
       "      <th>PriceEuro</th>\n",
       "      <th>connector</th>\n",
       "    </tr>\n",
       "  </thead>\n",
       "  <tbody>\n",
       "    <tr>\n",
       "      <th>0</th>\n",
       "      <td>940.0</td>\n",
       "      <td>Yes</td>\n",
       "      <td>AWD</td>\n",
       "      <td>Type 2 CCS</td>\n",
       "      <td>Sedan</td>\n",
       "      <td>5.0</td>\n",
       "      <td>55480</td>\n",
       "      <td>100</td>\n",
       "    </tr>\n",
       "    <tr>\n",
       "      <th>1</th>\n",
       "      <td>250.0</td>\n",
       "      <td>Yes</td>\n",
       "      <td>RWD</td>\n",
       "      <td>Type 2 CCS</td>\n",
       "      <td>Hatchback</td>\n",
       "      <td>?</td>\n",
       "      <td>30000</td>\n",
       "      <td>101</td>\n",
       "    </tr>\n",
       "    <tr>\n",
       "      <th>2</th>\n",
       "      <td>620.0</td>\n",
       "      <td>Yes</td>\n",
       "      <td>AWD</td>\n",
       "      <td>Type 2 CCS</td>\n",
       "      <td>Liftback</td>\n",
       "      <td>5.0</td>\n",
       "      <td>56440</td>\n",
       "      <td>102</td>\n",
       "    </tr>\n",
       "    <tr>\n",
       "      <th>3</th>\n",
       "      <td>560.0</td>\n",
       "      <td>Yes</td>\n",
       "      <td>RWD</td>\n",
       "      <td>Type 2 CCS</td>\n",
       "      <td>SUV</td>\n",
       "      <td>5.0</td>\n",
       "      <td>68040</td>\n",
       "      <td>103</td>\n",
       "    </tr>\n",
       "    <tr>\n",
       "      <th>4</th>\n",
       "      <td>190.0</td>\n",
       "      <td>Yes</td>\n",
       "      <td>RWD</td>\n",
       "      <td>Type 2 CCS</td>\n",
       "      <td>Hatchback</td>\n",
       "      <td>4.0</td>\n",
       "      <td>32997</td>\n",
       "      <td>104</td>\n",
       "    </tr>\n",
       "    <tr>\n",
       "      <th>...</th>\n",
       "      <td>...</td>\n",
       "      <td>...</td>\n",
       "      <td>...</td>\n",
       "      <td>...</td>\n",
       "      <td>...</td>\n",
       "      <td>...</td>\n",
       "      <td>...</td>\n",
       "      <td>...</td>\n",
       "    </tr>\n",
       "    <tr>\n",
       "      <th>98</th>\n",
       "      <td>440.0</td>\n",
       "      <td>Yes</td>\n",
       "      <td>FWD</td>\n",
       "      <td>Type 2 CCS</td>\n",
       "      <td>Hatchback</td>\n",
       "      <td>5.0</td>\n",
       "      <td>45000</td>\n",
       "      <td>198</td>\n",
       "    </tr>\n",
       "    <tr>\n",
       "      <th>99</th>\n",
       "      <td>540.0</td>\n",
       "      <td>Yes</td>\n",
       "      <td>AWD</td>\n",
       "      <td>Type 2 CCS</td>\n",
       "      <td>SUV</td>\n",
       "      <td>?</td>\n",
       "      <td>96050</td>\n",
       "      <td>199</td>\n",
       "    </tr>\n",
       "    <tr>\n",
       "      <th>100</th>\n",
       "      <td>440.0</td>\n",
       "      <td>Yes</td>\n",
       "      <td>AWD</td>\n",
       "      <td>missing_type</td>\n",
       "      <td>Hatchback</td>\n",
       "      <td>5.0</td>\n",
       "      <td>50000</td>\n",
       "      <td>200</td>\n",
       "    </tr>\n",
       "    <tr>\n",
       "      <th>101</th>\n",
       "      <td>450.0</td>\n",
       "      <td>Yes</td>\n",
       "      <td>AWD</td>\n",
       "      <td>Type 2 CCS</td>\n",
       "      <td>Hatchback</td>\n",
       "      <td>5.0</td>\n",
       "      <td>65000</td>\n",
       "      <td>201</td>\n",
       "    </tr>\n",
       "    <tr>\n",
       "      <th>102</th>\n",
       "      <td>480.0</td>\n",
       "      <td>Yes</td>\n",
       "      <td>AWD</td>\n",
       "      <td>missing_type</td>\n",
       "      <td>SUV</td>\n",
       "      <td>5.0</td>\n",
       "      <td>62000</td>\n",
       "      <td>202</td>\n",
       "    </tr>\n",
       "  </tbody>\n",
       "</table>\n",
       "<p>103 rows × 8 columns</p>\n",
       "</div>"
      ],
      "text/plain": [
       "     FastCharge_KmH RapidCharge PowerTrain      PlugType  BodyStyle Seats  \\\n",
       "0             940.0         Yes        AWD    Type 2 CCS      Sedan   5.0   \n",
       "1             250.0         Yes        RWD    Type 2 CCS  Hatchback     ?   \n",
       "2             620.0         Yes        AWD    Type 2 CCS   Liftback   5.0   \n",
       "3             560.0         Yes        RWD    Type 2 CCS        SUV   5.0   \n",
       "4             190.0         Yes        RWD    Type 2 CCS  Hatchback   4.0   \n",
       "..              ...         ...        ...           ...        ...   ...   \n",
       "98            440.0         Yes        FWD    Type 2 CCS  Hatchback   5.0   \n",
       "99            540.0         Yes        AWD    Type 2 CCS        SUV     ?   \n",
       "100           440.0         Yes        AWD  missing_type  Hatchback   5.0   \n",
       "101           450.0         Yes        AWD    Type 2 CCS  Hatchback   5.0   \n",
       "102           480.0         Yes        AWD  missing_type        SUV   5.0   \n",
       "\n",
       "     PriceEuro  connector  \n",
       "0        55480        100  \n",
       "1        30000        101  \n",
       "2        56440        102  \n",
       "3        68040        103  \n",
       "4        32997        104  \n",
       "..         ...        ...  \n",
       "98       45000        198  \n",
       "99       96050        199  \n",
       "100      50000        200  \n",
       "101      65000        201  \n",
       "102      62000        202  \n",
       "\n",
       "[103 rows x 8 columns]"
      ]
     },
     "execution_count": 4,
     "metadata": {},
     "output_type": "execute_result"
    }
   ],
   "source": [
    "df_part2 = pd.read_csv(\"../data/ecar_part2.csv\", sep='|', index_col=0)\n",
    "df_part2"
   ]
  },
  {
   "cell_type": "code",
   "execution_count": 5,
   "metadata": {},
   "outputs": [
    {
     "name": "stdout",
     "output_type": "stream",
     "text": [
      "(103, 7)\n",
      "(103, 8)\n"
     ]
    }
   ],
   "source": [
    "# Dataframe Größe\n",
    "\n",
    "print(df_part1.shape)\n",
    "print(df_part2.shape)"
   ]
  },
  {
   "cell_type": "code",
   "execution_count": 6,
   "metadata": {},
   "outputs": [
    {
     "data": {
      "text/html": [
       "<div>\n",
       "<style scoped>\n",
       "    .dataframe tbody tr th:only-of-type {\n",
       "        vertical-align: middle;\n",
       "    }\n",
       "\n",
       "    .dataframe tbody tr th {\n",
       "        vertical-align: top;\n",
       "    }\n",
       "\n",
       "    .dataframe thead th {\n",
       "        text-align: right;\n",
       "    }\n",
       "</style>\n",
       "<table border=\"1\" class=\"dataframe\">\n",
       "  <thead>\n",
       "    <tr style=\"text-align: right;\">\n",
       "      <th></th>\n",
       "      <th>Brand</th>\n",
       "      <th>Model</th>\n",
       "      <th>AccelSec</th>\n",
       "      <th>TopSpeed_KmH</th>\n",
       "      <th>Range_Km</th>\n",
       "      <th>Efficiency_WhKm</th>\n",
       "      <th>connector</th>\n",
       "      <th>FastCharge_KmH</th>\n",
       "      <th>RapidCharge</th>\n",
       "      <th>PowerTrain</th>\n",
       "      <th>PlugType</th>\n",
       "      <th>BodyStyle</th>\n",
       "      <th>Seats</th>\n",
       "      <th>PriceEuro</th>\n",
       "    </tr>\n",
       "  </thead>\n",
       "  <tbody>\n",
       "    <tr>\n",
       "      <th>0</th>\n",
       "      <td>Tesla</td>\n",
       "      <td>Model 3 Long Range Dual Motor</td>\n",
       "      <td>4.6</td>\n",
       "      <td>233</td>\n",
       "      <td>450</td>\n",
       "      <td>161</td>\n",
       "      <td>100</td>\n",
       "      <td>940.0</td>\n",
       "      <td>Yes</td>\n",
       "      <td>AWD</td>\n",
       "      <td>Type 2 CCS</td>\n",
       "      <td>Sedan</td>\n",
       "      <td>5.0</td>\n",
       "      <td>55480</td>\n",
       "    </tr>\n",
       "    <tr>\n",
       "      <th>1</th>\n",
       "      <td>Volkswagen</td>\n",
       "      <td>ID.3 Pure</td>\n",
       "      <td>10.0</td>\n",
       "      <td>160</td>\n",
       "      <td>270</td>\n",
       "      <td>167</td>\n",
       "      <td>101</td>\n",
       "      <td>250.0</td>\n",
       "      <td>Yes</td>\n",
       "      <td>RWD</td>\n",
       "      <td>Type 2 CCS</td>\n",
       "      <td>Hatchback</td>\n",
       "      <td>?</td>\n",
       "      <td>30000</td>\n",
       "    </tr>\n",
       "    <tr>\n",
       "      <th>2</th>\n",
       "      <td>Polestar</td>\n",
       "      <td>2</td>\n",
       "      <td>4.7</td>\n",
       "      <td>210</td>\n",
       "      <td>400</td>\n",
       "      <td>181</td>\n",
       "      <td>102</td>\n",
       "      <td>620.0</td>\n",
       "      <td>Yes</td>\n",
       "      <td>AWD</td>\n",
       "      <td>Type 2 CCS</td>\n",
       "      <td>Liftback</td>\n",
       "      <td>5.0</td>\n",
       "      <td>56440</td>\n",
       "    </tr>\n",
       "    <tr>\n",
       "      <th>3</th>\n",
       "      <td>BMW</td>\n",
       "      <td>iX3</td>\n",
       "      <td>6.8</td>\n",
       "      <td>180</td>\n",
       "      <td>360</td>\n",
       "      <td>206</td>\n",
       "      <td>103</td>\n",
       "      <td>560.0</td>\n",
       "      <td>Yes</td>\n",
       "      <td>RWD</td>\n",
       "      <td>Type 2 CCS</td>\n",
       "      <td>SUV</td>\n",
       "      <td>5.0</td>\n",
       "      <td>68040</td>\n",
       "    </tr>\n",
       "    <tr>\n",
       "      <th>4</th>\n",
       "      <td>Honda</td>\n",
       "      <td>e</td>\n",
       "      <td>9.5</td>\n",
       "      <td>145</td>\n",
       "      <td>170</td>\n",
       "      <td>168</td>\n",
       "      <td>104</td>\n",
       "      <td>190.0</td>\n",
       "      <td>Yes</td>\n",
       "      <td>RWD</td>\n",
       "      <td>Type 2 CCS</td>\n",
       "      <td>Hatchback</td>\n",
       "      <td>4.0</td>\n",
       "      <td>32997</td>\n",
       "    </tr>\n",
       "    <tr>\n",
       "      <th>...</th>\n",
       "      <td>...</td>\n",
       "      <td>...</td>\n",
       "      <td>...</td>\n",
       "      <td>...</td>\n",
       "      <td>...</td>\n",
       "      <td>...</td>\n",
       "      <td>...</td>\n",
       "      <td>...</td>\n",
       "      <td>...</td>\n",
       "      <td>...</td>\n",
       "      <td>...</td>\n",
       "      <td>...</td>\n",
       "      <td>...</td>\n",
       "      <td>...</td>\n",
       "    </tr>\n",
       "    <tr>\n",
       "      <th>98</th>\n",
       "      <td>Nissan</td>\n",
       "      <td>Ariya 63kWh</td>\n",
       "      <td>7.5</td>\n",
       "      <td>160</td>\n",
       "      <td>330</td>\n",
       "      <td>191</td>\n",
       "      <td>198</td>\n",
       "      <td>440.0</td>\n",
       "      <td>Yes</td>\n",
       "      <td>FWD</td>\n",
       "      <td>Type 2 CCS</td>\n",
       "      <td>Hatchback</td>\n",
       "      <td>5.0</td>\n",
       "      <td>45000</td>\n",
       "    </tr>\n",
       "    <tr>\n",
       "      <th>99</th>\n",
       "      <td>Audi</td>\n",
       "      <td>e-tron S Sportback 55 quattro</td>\n",
       "      <td>4.5</td>\n",
       "      <td>210</td>\n",
       "      <td>335</td>\n",
       "      <td>258</td>\n",
       "      <td>199</td>\n",
       "      <td>540.0</td>\n",
       "      <td>Yes</td>\n",
       "      <td>AWD</td>\n",
       "      <td>Type 2 CCS</td>\n",
       "      <td>SUV</td>\n",
       "      <td>?</td>\n",
       "      <td>96050</td>\n",
       "    </tr>\n",
       "    <tr>\n",
       "      <th>100</th>\n",
       "      <td>Nissan</td>\n",
       "      <td>Ariya e-4ORCE 63kWh</td>\n",
       "      <td>5.9</td>\n",
       "      <td>200</td>\n",
       "      <td>325</td>\n",
       "      <td>194</td>\n",
       "      <td>200</td>\n",
       "      <td>440.0</td>\n",
       "      <td>Yes</td>\n",
       "      <td>AWD</td>\n",
       "      <td>missing_type</td>\n",
       "      <td>Hatchback</td>\n",
       "      <td>5.0</td>\n",
       "      <td>50000</td>\n",
       "    </tr>\n",
       "    <tr>\n",
       "      <th>101</th>\n",
       "      <td>Nissan</td>\n",
       "      <td>Ariya e-4ORCE 87kWh Performance</td>\n",
       "      <td>5.1</td>\n",
       "      <td>200</td>\n",
       "      <td>375</td>\n",
       "      <td>232</td>\n",
       "      <td>201</td>\n",
       "      <td>450.0</td>\n",
       "      <td>Yes</td>\n",
       "      <td>AWD</td>\n",
       "      <td>Type 2 CCS</td>\n",
       "      <td>Hatchback</td>\n",
       "      <td>5.0</td>\n",
       "      <td>65000</td>\n",
       "    </tr>\n",
       "    <tr>\n",
       "      <th>102</th>\n",
       "      <td>Byton</td>\n",
       "      <td>M-Byte 95 kWh 2WD</td>\n",
       "      <td>7.5</td>\n",
       "      <td>190</td>\n",
       "      <td>400</td>\n",
       "      <td>238</td>\n",
       "      <td>202</td>\n",
       "      <td>480.0</td>\n",
       "      <td>Yes</td>\n",
       "      <td>AWD</td>\n",
       "      <td>missing_type</td>\n",
       "      <td>SUV</td>\n",
       "      <td>5.0</td>\n",
       "      <td>62000</td>\n",
       "    </tr>\n",
       "  </tbody>\n",
       "</table>\n",
       "<p>103 rows × 14 columns</p>\n",
       "</div>"
      ],
      "text/plain": [
       "           Brand                            Model  AccelSec  TopSpeed_KmH  \\\n",
       "0         Tesla     Model 3 Long Range Dual Motor       4.6           233   \n",
       "1    Volkswagen                         ID.3 Pure      10.0           160   \n",
       "2      Polestar                                 2       4.7           210   \n",
       "3           BMW                              iX3        6.8           180   \n",
       "4         Honda                                e        9.5           145   \n",
       "..           ...                              ...       ...           ...   \n",
       "98       Nissan                       Ariya 63kWh       7.5           160   \n",
       "99         Audi     e-tron S Sportback 55 quattro       4.5           210   \n",
       "100      Nissan               Ariya e-4ORCE 63kWh       5.9           200   \n",
       "101      Nissan   Ariya e-4ORCE 87kWh Performance       5.1           200   \n",
       "102       Byton                 M-Byte 95 kWh 2WD       7.5           190   \n",
       "\n",
       "     Range_Km  Efficiency_WhKm  connector  FastCharge_KmH RapidCharge  \\\n",
       "0         450              161        100           940.0         Yes   \n",
       "1         270              167        101           250.0         Yes   \n",
       "2         400              181        102           620.0         Yes   \n",
       "3         360              206        103           560.0         Yes   \n",
       "4         170              168        104           190.0         Yes   \n",
       "..        ...              ...        ...             ...         ...   \n",
       "98        330              191        198           440.0         Yes   \n",
       "99        335              258        199           540.0         Yes   \n",
       "100       325              194        200           440.0         Yes   \n",
       "101       375              232        201           450.0         Yes   \n",
       "102       400              238        202           480.0         Yes   \n",
       "\n",
       "    PowerTrain      PlugType  BodyStyle Seats  PriceEuro  \n",
       "0          AWD    Type 2 CCS      Sedan   5.0      55480  \n",
       "1          RWD    Type 2 CCS  Hatchback     ?      30000  \n",
       "2          AWD    Type 2 CCS   Liftback   5.0      56440  \n",
       "3          RWD    Type 2 CCS        SUV   5.0      68040  \n",
       "4          RWD    Type 2 CCS  Hatchback   4.0      32997  \n",
       "..         ...           ...        ...   ...        ...  \n",
       "98         FWD    Type 2 CCS  Hatchback   5.0      45000  \n",
       "99         AWD    Type 2 CCS        SUV     ?      96050  \n",
       "100        AWD  missing_type  Hatchback   5.0      50000  \n",
       "101        AWD    Type 2 CCS  Hatchback   5.0      65000  \n",
       "102        AWD  missing_type        SUV   5.0      62000  \n",
       "\n",
       "[103 rows x 14 columns]"
      ]
     },
     "execution_count": 6,
     "metadata": {},
     "output_type": "execute_result"
    }
   ],
   "source": [
    "# Merge two dataframes by index\n",
    "\n",
    "# df = pd.merge(df_part1, df_part2, left_index=True, right_index=True) # Var 1 \n",
    "# df = pd.concat([df_part1, df_part2], axis=1) # Var 2\n",
    "\n",
    "df = df_part1.merge(df_part2, on=\"connector\", how='outer')\n",
    "\n",
    "df"
   ]
  },
  {
   "cell_type": "markdown",
   "metadata": {},
   "source": [
    "### Fehlende Werte"
   ]
  },
  {
   "cell_type": "code",
   "execution_count": 7,
   "metadata": {},
   "outputs": [
    {
     "data": {
      "text/plain": [
       "Brand               object\n",
       "Model               object\n",
       "AccelSec           float64\n",
       "TopSpeed_KmH         int64\n",
       "Range_Km             int64\n",
       "Efficiency_WhKm      int64\n",
       "connector            int64\n",
       "FastCharge_KmH     float64\n",
       "RapidCharge         object\n",
       "PowerTrain          object\n",
       "PlugType            object\n",
       "BodyStyle           object\n",
       "Seats               object\n",
       "PriceEuro            int64\n",
       "dtype: object"
      ]
     },
     "execution_count": 7,
     "metadata": {},
     "output_type": "execute_result"
    }
   ],
   "source": [
    "df.dtypes"
   ]
  },
  {
   "cell_type": "code",
   "execution_count": 8,
   "metadata": {},
   "outputs": [
    {
     "data": {
      "text/plain": [
       "Brand              0\n",
       "Model              0\n",
       "AccelSec           0\n",
       "TopSpeed_KmH       0\n",
       "Range_Km           0\n",
       "Efficiency_WhKm    0\n",
       "connector          0\n",
       "FastCharge_KmH     5\n",
       "RapidCharge        0\n",
       "PowerTrain         0\n",
       "PlugType           0\n",
       "BodyStyle          0\n",
       "Seats              0\n",
       "PriceEuro          0\n",
       "dtype: int64"
      ]
     },
     "execution_count": 8,
     "metadata": {},
     "output_type": "execute_result"
    }
   ],
   "source": [
    "df.isnull().sum() # --> FastCharge_KmH hat 5 fellende Werte"
   ]
  },
  {
   "cell_type": "code",
   "execution_count": 9,
   "metadata": {},
   "outputs": [
    {
     "data": {
      "text/plain": [
       "array(['Tesla ', 'Volkswagen ', 'Polestar ', 'BMW ', 'Honda ', 'Lucid ',\n",
       "       'Peugeot ', 'Audi ', 'Mercedes ', 'Nissan ', 'Hyundai ',\n",
       "       'Porsche ', 'MG ', 'Mini ', 'Opel ', 'Skoda ', 'Volvo ', 'Kia ',\n",
       "       'Renault ', 'Mazda ', 'Lexus ', 'CUPRA ', 'SEAT ', 'Lightyear ',\n",
       "       'Aiways ', 'DS ', 'Citroen ', 'Jaguar ', 'Ford ', 'Byton ',\n",
       "       'Sono ', 'Smart ', 'Fiat '], dtype=object)"
      ]
     },
     "execution_count": 9,
     "metadata": {},
     "output_type": "execute_result"
    }
   ],
   "source": [
    "df.loc[:,'Brand'].unique() # --> Leerzeichen am Ende"
   ]
  },
  {
   "cell_type": "code",
   "execution_count": 10,
   "metadata": {},
   "outputs": [
    {
     "data": {
      "text/plain": [
       "array(['Tesla', 'Volkswagen', 'Polestar', 'BMW', 'Honda', 'Lucid',\n",
       "       'Peugeot', 'Audi', 'Mercedes', 'Nissan', 'Hyundai', 'Porsche',\n",
       "       'MG', 'Mini', 'Opel', 'Skoda', 'Volvo', 'Kia', 'Renault', 'Mazda',\n",
       "       'Lexus', 'CUPRA', 'SEAT', 'Lightyear', 'Aiways', 'DS', 'Citroen',\n",
       "       'Jaguar', 'Ford', 'Byton', 'Sono', 'Smart', 'Fiat'], dtype=object)"
      ]
     },
     "execution_count": 10,
     "metadata": {},
     "output_type": "execute_result"
    }
   ],
   "source": [
    "# Leerzeichen löschen\n",
    "df.loc[:,'Brand'] = df.loc[:,'Brand'].apply(lambda x: x.strip())\n",
    "df.loc[:,'Brand'].unique()"
   ]
  },
  {
   "cell_type": "code",
   "execution_count": 11,
   "metadata": {},
   "outputs": [
    {
     "data": {
      "text/plain": [
       "array(['Model 3 Long Range Dual Motor', 'ID.3 Pure', '2', 'iX3 ', 'e ',\n",
       "       'Air ', 'e-Golf ', 'e-208 ', 'Model 3 Standard Range Plus',\n",
       "       'Q4 e-tron ', 'EQC 400 4MATIC', 'Leaf ', 'Kona Electric 64 kWh',\n",
       "       'i4 ', 'IONIQ Electric', 'ID.3 Pro S', 'Taycan Turbo S', 'e-Up! ',\n",
       "       'ZS EV', 'Cooper SE ', 'Corsa-e ', 'Model Y Long Range Dual Motor',\n",
       "       'Enyaq iV 50', 'e-tron GT ', 'Model 3 Long Range Performance',\n",
       "       'ID.4 ', 'ID.3 Pro', 'XC40 P8 AWD Recharge', 'i3 120 Ah',\n",
       "       'e-2008 SUV ', 'e-tron 50 quattro', 'e-Niro 64 kWh',\n",
       "       'Zoe ZE50 R110', 'Cybertruck Tri Motor', 'MX-30 ', 'Leaf e+',\n",
       "       'UX 300e', 'el-Born ', 'Zoe ZE50 R135', 'EQA ',\n",
       "       'Model S Long Range', 'Kona Electric 39 kWh',\n",
       "       'e-tron Sportback 55 quattro', 'CITIGOe iV ', 'Mii Electric ',\n",
       "       'e-Soul 64 kWh', 'Ampera-e ', 'Taycan 4S', 'One ', 'U5 ',\n",
       "       'e-tron 55 quattro', 'Roadster ', 'Mokka-e ', 'Enyaq iV 80',\n",
       "       'Model X Long Range', 'e Advance', '3 Crossback E-Tense',\n",
       "       'Twingo ZE', 'e-C4 ', 'Model S Performance', 'Zoe ZE40 R110',\n",
       "       'Model Y Long Range Performance', 'Ariya 87kWh', 'I-Pace ',\n",
       "       'Mustang Mach-E ER RWD', 'Taycan 4S Plus', 'e-NV200 Evalia ',\n",
       "       'Cybertruck Dual Motor', 'Kangoo Maxi ZE 33',\n",
       "       'Mustang Mach-E ER AWD', 'i3s 120 Ah', 'Enyaq iV 80X',\n",
       "       'Taycan Cross Turismo ', 'M-Byte 95 kWh 4WD', 'Sion ',\n",
       "       'e-Niro 39 kWh', 'Q4 Sportback e-tron ', 'EQ forfour ',\n",
       "       'Mustang Mach-E SR AWD', 'Taycan Turbo', 'ID.3 1st',\n",
       "       'Model X Performance', 'EQ fortwo coupe', 'Mustang Mach-E SR RWD',\n",
       "       'EQV 300 Long', '500e Hatchback', 'Cybertruck Single Motor',\n",
       "       'e-tron Sportback 50 quattro', 'Enyaq iV vRS', 'Enyaq iV 60',\n",
       "       'e-tron S 55 quattro', 'EQ fortwo cabrio', 'Ariya e-4ORCE 87kWh',\n",
       "       '500e Convertible', 'ID.3 Pro Performance', 'e-Soul 39 kWh',\n",
       "       'M-Byte 72 kWh 2WD', 'Ariya 63kWh',\n",
       "       'e-tron S Sportback 55 quattro', 'Ariya e-4ORCE 63kWh',\n",
       "       'Ariya e-4ORCE 87kWh Performance', 'M-Byte 95 kWh 2WD'],\n",
       "      dtype=object)"
      ]
     },
     "execution_count": 11,
     "metadata": {},
     "output_type": "execute_result"
    }
   ],
   "source": [
    "df.loc[:,'Model'].unique() # --> Leerzeichen am Ende"
   ]
  },
  {
   "cell_type": "code",
   "execution_count": 12,
   "metadata": {},
   "outputs": [],
   "source": [
    "# Leerzeichen löschen\n",
    "df.loc[:,'Model'] = df.loc[:,'Model'].apply(lambda x: x.strip())"
   ]
  },
  {
   "cell_type": "code",
   "execution_count": 13,
   "metadata": {},
   "outputs": [],
   "source": [
    "## Var 2 Leerzeichen zu löschen\n",
    "\n",
    "# df.Brand = df.Brand.str.strip()\n",
    "# df.Model = df.Model.str.strip()"
   ]
  },
  {
   "cell_type": "code",
   "execution_count": 14,
   "metadata": {},
   "outputs": [],
   "source": [
    "# AccelSec -> float -> no null -> +\n",
    "# TopSpeed_KmH -> int -> no null -> +\n",
    "# Range_Km -> int -> no null -> +\n",
    "# Efficiency_WhKm -> int -> no null -> +\n",
    "# connector -> +\n",
    "# FastCharge_KmH -> float -> 5 nulls "
   ]
  },
  {
   "cell_type": "code",
   "execution_count": 15,
   "metadata": {},
   "outputs": [
    {
     "data": {
      "text/plain": [
       "array(['Yes', 'No'], dtype=object)"
      ]
     },
     "execution_count": 15,
     "metadata": {},
     "output_type": "execute_result"
    }
   ],
   "source": [
    "df.loc[:,'RapidCharge'].unique() # --> +"
   ]
  },
  {
   "cell_type": "code",
   "execution_count": 16,
   "metadata": {},
   "outputs": [
    {
     "data": {
      "text/plain": [
       "array(['AWD', 'RWD', 'FWD'], dtype=object)"
      ]
     },
     "execution_count": 16,
     "metadata": {},
     "output_type": "execute_result"
    }
   ],
   "source": [
    "df.loc[:,'PowerTrain'].unique() # --> +"
   ]
  },
  {
   "cell_type": "code",
   "execution_count": 17,
   "metadata": {},
   "outputs": [
    {
     "data": {
      "text/plain": [
       "array(['Type 2 CCS', 'missing_type', 'Type 2 CHAdeMO', 'Type 2',\n",
       "       'Type 1 CHAdeMO'], dtype=object)"
      ]
     },
     "execution_count": 17,
     "metadata": {},
     "output_type": "execute_result"
    }
   ],
   "source": [
    "df.loc[:,'PlugType'].unique() # --> 'missing_type' !!!"
   ]
  },
  {
   "cell_type": "code",
   "execution_count": 18,
   "metadata": {},
   "outputs": [
    {
     "data": {
      "text/plain": [
       "Type 2 CCS        75\n",
       "missing_type      15\n",
       "Type 2             9\n",
       "Type 2 CHAdeMO     3\n",
       "Type 1 CHAdeMO     1\n",
       "Name: PlugType, dtype: int64"
      ]
     },
     "execution_count": 18,
     "metadata": {},
     "output_type": "execute_result"
    }
   ],
   "source": [
    "df.loc[:,'PlugType'].value_counts()"
   ]
  },
  {
   "cell_type": "code",
   "execution_count": 19,
   "metadata": {},
   "outputs": [
    {
     "data": {
      "text/plain": [
       "array(['Sedan', 'Hatchback', 'Liftback', 'SUV', 'Pickup', 'MPV', 'Cabrio',\n",
       "       'SPV', 'Station'], dtype=object)"
      ]
     },
     "execution_count": 19,
     "metadata": {},
     "output_type": "execute_result"
    }
   ],
   "source": [
    "df.loc[:,'BodyStyle'].unique()"
   ]
  },
  {
   "cell_type": "code",
   "execution_count": 20,
   "metadata": {},
   "outputs": [
    {
     "ename": "ValueError",
     "evalue": "could not convert string to float: '?'",
     "output_type": "error",
     "traceback": [
      "\u001b[1;31m---------------------------------------------------------------------------\u001b[0m",
      "\u001b[1;31mValueError\u001b[0m                                Traceback (most recent call last)",
      "\u001b[1;32m<ipython-input-20-895ec5758538>\u001b[0m in \u001b[0;36m<module>\u001b[1;34m\u001b[0m\n\u001b[0;32m      2\u001b[0m \u001b[1;31m# Versuchen Daten in float Format zu konvertieren, um den Problemwert zu erkennen.\u001b[0m\u001b[1;33m\u001b[0m\u001b[1;33m\u001b[0m\u001b[1;33m\u001b[0m\u001b[0m\n\u001b[0;32m      3\u001b[0m \u001b[1;33m\u001b[0m\u001b[0m\n\u001b[1;32m----> 4\u001b[1;33m \u001b[0mdf\u001b[0m\u001b[1;33m.\u001b[0m\u001b[0mloc\u001b[0m\u001b[1;33m[\u001b[0m\u001b[1;33m:\u001b[0m\u001b[1;33m,\u001b[0m\u001b[1;34m'Seats'\u001b[0m\u001b[1;33m]\u001b[0m\u001b[1;33m.\u001b[0m\u001b[0mastype\u001b[0m\u001b[1;33m(\u001b[0m\u001b[0mfloat\u001b[0m\u001b[1;33m)\u001b[0m\u001b[1;33m\u001b[0m\u001b[1;33m\u001b[0m\u001b[0m\n\u001b[0m\u001b[0;32m      5\u001b[0m \u001b[1;33m\u001b[0m\u001b[0m\n\u001b[0;32m      6\u001b[0m \u001b[1;31m# --> ValueError: could not convert string to float: '?'\u001b[0m\u001b[1;33m\u001b[0m\u001b[1;33m\u001b[0m\u001b[1;33m\u001b[0m\u001b[0m\n",
      "\u001b[1;32m~\\anaconda3\\lib\\site-packages\\pandas\\core\\generic.py\u001b[0m in \u001b[0;36mastype\u001b[1;34m(self, dtype, copy, errors)\u001b[0m\n\u001b[0;32m   5875\u001b[0m         \u001b[1;32melse\u001b[0m\u001b[1;33m:\u001b[0m\u001b[1;33m\u001b[0m\u001b[1;33m\u001b[0m\u001b[0m\n\u001b[0;32m   5876\u001b[0m             \u001b[1;31m# else, only a single dtype is given\u001b[0m\u001b[1;33m\u001b[0m\u001b[1;33m\u001b[0m\u001b[1;33m\u001b[0m\u001b[0m\n\u001b[1;32m-> 5877\u001b[1;33m             \u001b[0mnew_data\u001b[0m \u001b[1;33m=\u001b[0m \u001b[0mself\u001b[0m\u001b[1;33m.\u001b[0m\u001b[0m_mgr\u001b[0m\u001b[1;33m.\u001b[0m\u001b[0mastype\u001b[0m\u001b[1;33m(\u001b[0m\u001b[0mdtype\u001b[0m\u001b[1;33m=\u001b[0m\u001b[0mdtype\u001b[0m\u001b[1;33m,\u001b[0m \u001b[0mcopy\u001b[0m\u001b[1;33m=\u001b[0m\u001b[0mcopy\u001b[0m\u001b[1;33m,\u001b[0m \u001b[0merrors\u001b[0m\u001b[1;33m=\u001b[0m\u001b[0merrors\u001b[0m\u001b[1;33m)\u001b[0m\u001b[1;33m\u001b[0m\u001b[1;33m\u001b[0m\u001b[0m\n\u001b[0m\u001b[0;32m   5878\u001b[0m             \u001b[1;32mreturn\u001b[0m \u001b[0mself\u001b[0m\u001b[1;33m.\u001b[0m\u001b[0m_constructor\u001b[0m\u001b[1;33m(\u001b[0m\u001b[0mnew_data\u001b[0m\u001b[1;33m)\u001b[0m\u001b[1;33m.\u001b[0m\u001b[0m__finalize__\u001b[0m\u001b[1;33m(\u001b[0m\u001b[0mself\u001b[0m\u001b[1;33m,\u001b[0m \u001b[0mmethod\u001b[0m\u001b[1;33m=\u001b[0m\u001b[1;34m\"astype\"\u001b[0m\u001b[1;33m)\u001b[0m\u001b[1;33m\u001b[0m\u001b[1;33m\u001b[0m\u001b[0m\n\u001b[0;32m   5879\u001b[0m \u001b[1;33m\u001b[0m\u001b[0m\n",
      "\u001b[1;32m~\\anaconda3\\lib\\site-packages\\pandas\\core\\internals\\managers.py\u001b[0m in \u001b[0;36mastype\u001b[1;34m(self, dtype, copy, errors)\u001b[0m\n\u001b[0;32m    629\u001b[0m         \u001b[0mself\u001b[0m\u001b[1;33m,\u001b[0m \u001b[0mdtype\u001b[0m\u001b[1;33m,\u001b[0m \u001b[0mcopy\u001b[0m\u001b[1;33m:\u001b[0m \u001b[0mbool\u001b[0m \u001b[1;33m=\u001b[0m \u001b[1;32mFalse\u001b[0m\u001b[1;33m,\u001b[0m \u001b[0merrors\u001b[0m\u001b[1;33m:\u001b[0m \u001b[0mstr\u001b[0m \u001b[1;33m=\u001b[0m \u001b[1;34m\"raise\"\u001b[0m\u001b[1;33m\u001b[0m\u001b[1;33m\u001b[0m\u001b[0m\n\u001b[0;32m    630\u001b[0m     ) -> \"BlockManager\":\n\u001b[1;32m--> 631\u001b[1;33m         \u001b[1;32mreturn\u001b[0m \u001b[0mself\u001b[0m\u001b[1;33m.\u001b[0m\u001b[0mapply\u001b[0m\u001b[1;33m(\u001b[0m\u001b[1;34m\"astype\"\u001b[0m\u001b[1;33m,\u001b[0m \u001b[0mdtype\u001b[0m\u001b[1;33m=\u001b[0m\u001b[0mdtype\u001b[0m\u001b[1;33m,\u001b[0m \u001b[0mcopy\u001b[0m\u001b[1;33m=\u001b[0m\u001b[0mcopy\u001b[0m\u001b[1;33m,\u001b[0m \u001b[0merrors\u001b[0m\u001b[1;33m=\u001b[0m\u001b[0merrors\u001b[0m\u001b[1;33m)\u001b[0m\u001b[1;33m\u001b[0m\u001b[1;33m\u001b[0m\u001b[0m\n\u001b[0m\u001b[0;32m    632\u001b[0m \u001b[1;33m\u001b[0m\u001b[0m\n\u001b[0;32m    633\u001b[0m     def convert(\n",
      "\u001b[1;32m~\\anaconda3\\lib\\site-packages\\pandas\\core\\internals\\managers.py\u001b[0m in \u001b[0;36mapply\u001b[1;34m(self, f, align_keys, ignore_failures, **kwargs)\u001b[0m\n\u001b[0;32m    425\u001b[0m                     \u001b[0mapplied\u001b[0m \u001b[1;33m=\u001b[0m \u001b[0mb\u001b[0m\u001b[1;33m.\u001b[0m\u001b[0mapply\u001b[0m\u001b[1;33m(\u001b[0m\u001b[0mf\u001b[0m\u001b[1;33m,\u001b[0m \u001b[1;33m**\u001b[0m\u001b[0mkwargs\u001b[0m\u001b[1;33m)\u001b[0m\u001b[1;33m\u001b[0m\u001b[1;33m\u001b[0m\u001b[0m\n\u001b[0;32m    426\u001b[0m                 \u001b[1;32melse\u001b[0m\u001b[1;33m:\u001b[0m\u001b[1;33m\u001b[0m\u001b[1;33m\u001b[0m\u001b[0m\n\u001b[1;32m--> 427\u001b[1;33m                     \u001b[0mapplied\u001b[0m \u001b[1;33m=\u001b[0m \u001b[0mgetattr\u001b[0m\u001b[1;33m(\u001b[0m\u001b[0mb\u001b[0m\u001b[1;33m,\u001b[0m \u001b[0mf\u001b[0m\u001b[1;33m)\u001b[0m\u001b[1;33m(\u001b[0m\u001b[1;33m**\u001b[0m\u001b[0mkwargs\u001b[0m\u001b[1;33m)\u001b[0m\u001b[1;33m\u001b[0m\u001b[1;33m\u001b[0m\u001b[0m\n\u001b[0m\u001b[0;32m    428\u001b[0m             \u001b[1;32mexcept\u001b[0m \u001b[1;33m(\u001b[0m\u001b[0mTypeError\u001b[0m\u001b[1;33m,\u001b[0m \u001b[0mNotImplementedError\u001b[0m\u001b[1;33m)\u001b[0m\u001b[1;33m:\u001b[0m\u001b[1;33m\u001b[0m\u001b[1;33m\u001b[0m\u001b[0m\n\u001b[0;32m    429\u001b[0m                 \u001b[1;32mif\u001b[0m \u001b[1;32mnot\u001b[0m \u001b[0mignore_failures\u001b[0m\u001b[1;33m:\u001b[0m\u001b[1;33m\u001b[0m\u001b[1;33m\u001b[0m\u001b[0m\n",
      "\u001b[1;32m~\\anaconda3\\lib\\site-packages\\pandas\\core\\internals\\blocks.py\u001b[0m in \u001b[0;36mastype\u001b[1;34m(self, dtype, copy, errors)\u001b[0m\n\u001b[0;32m    671\u001b[0m             \u001b[0mvals1d\u001b[0m \u001b[1;33m=\u001b[0m \u001b[0mvalues\u001b[0m\u001b[1;33m.\u001b[0m\u001b[0mravel\u001b[0m\u001b[1;33m(\u001b[0m\u001b[1;33m)\u001b[0m\u001b[1;33m\u001b[0m\u001b[1;33m\u001b[0m\u001b[0m\n\u001b[0;32m    672\u001b[0m             \u001b[1;32mtry\u001b[0m\u001b[1;33m:\u001b[0m\u001b[1;33m\u001b[0m\u001b[1;33m\u001b[0m\u001b[0m\n\u001b[1;32m--> 673\u001b[1;33m                 \u001b[0mvalues\u001b[0m \u001b[1;33m=\u001b[0m \u001b[0mastype_nansafe\u001b[0m\u001b[1;33m(\u001b[0m\u001b[0mvals1d\u001b[0m\u001b[1;33m,\u001b[0m \u001b[0mdtype\u001b[0m\u001b[1;33m,\u001b[0m \u001b[0mcopy\u001b[0m\u001b[1;33m=\u001b[0m\u001b[1;32mTrue\u001b[0m\u001b[1;33m)\u001b[0m\u001b[1;33m\u001b[0m\u001b[1;33m\u001b[0m\u001b[0m\n\u001b[0m\u001b[0;32m    674\u001b[0m             \u001b[1;32mexcept\u001b[0m \u001b[1;33m(\u001b[0m\u001b[0mValueError\u001b[0m\u001b[1;33m,\u001b[0m \u001b[0mTypeError\u001b[0m\u001b[1;33m)\u001b[0m\u001b[1;33m:\u001b[0m\u001b[1;33m\u001b[0m\u001b[1;33m\u001b[0m\u001b[0m\n\u001b[0;32m    675\u001b[0m                 \u001b[1;31m# e.g. astype_nansafe can fail on object-dtype of strings\u001b[0m\u001b[1;33m\u001b[0m\u001b[1;33m\u001b[0m\u001b[1;33m\u001b[0m\u001b[0m\n",
      "\u001b[1;32m~\\anaconda3\\lib\\site-packages\\pandas\\core\\dtypes\\cast.py\u001b[0m in \u001b[0;36mastype_nansafe\u001b[1;34m(arr, dtype, copy, skipna)\u001b[0m\n\u001b[0;32m   1095\u001b[0m     \u001b[1;32mif\u001b[0m \u001b[0mcopy\u001b[0m \u001b[1;32mor\u001b[0m \u001b[0mis_object_dtype\u001b[0m\u001b[1;33m(\u001b[0m\u001b[0marr\u001b[0m\u001b[1;33m)\u001b[0m \u001b[1;32mor\u001b[0m \u001b[0mis_object_dtype\u001b[0m\u001b[1;33m(\u001b[0m\u001b[0mdtype\u001b[0m\u001b[1;33m)\u001b[0m\u001b[1;33m:\u001b[0m\u001b[1;33m\u001b[0m\u001b[1;33m\u001b[0m\u001b[0m\n\u001b[0;32m   1096\u001b[0m         \u001b[1;31m# Explicit copy, or required since NumPy can't view from / to object.\u001b[0m\u001b[1;33m\u001b[0m\u001b[1;33m\u001b[0m\u001b[1;33m\u001b[0m\u001b[0m\n\u001b[1;32m-> 1097\u001b[1;33m         \u001b[1;32mreturn\u001b[0m \u001b[0marr\u001b[0m\u001b[1;33m.\u001b[0m\u001b[0mastype\u001b[0m\u001b[1;33m(\u001b[0m\u001b[0mdtype\u001b[0m\u001b[1;33m,\u001b[0m \u001b[0mcopy\u001b[0m\u001b[1;33m=\u001b[0m\u001b[1;32mTrue\u001b[0m\u001b[1;33m)\u001b[0m\u001b[1;33m\u001b[0m\u001b[1;33m\u001b[0m\u001b[0m\n\u001b[0m\u001b[0;32m   1098\u001b[0m \u001b[1;33m\u001b[0m\u001b[0m\n\u001b[0;32m   1099\u001b[0m     \u001b[1;32mreturn\u001b[0m \u001b[0marr\u001b[0m\u001b[1;33m.\u001b[0m\u001b[0mview\u001b[0m\u001b[1;33m(\u001b[0m\u001b[0mdtype\u001b[0m\u001b[1;33m)\u001b[0m\u001b[1;33m\u001b[0m\u001b[1;33m\u001b[0m\u001b[0m\n",
      "\u001b[1;31mValueError\u001b[0m: could not convert string to float: '?'"
     ]
    }
   ],
   "source": [
    "# !!! Die Spalte soll numerischen Typ haben.\n",
    "# Versuchen Daten in float Format zu konvertieren, um den Problemwert zu erkennen.\n",
    "\n",
    "df.loc[:,'Seats'].astype(float) \n",
    "\n",
    "# --> ValueError: could not convert string to float: '?'"
   ]
  },
  {
   "cell_type": "code",
   "execution_count": 21,
   "metadata": {},
   "outputs": [
    {
     "data": {
      "text/plain": [
       "Brand               object\n",
       "Model               object\n",
       "AccelSec           float64\n",
       "TopSpeed_KmH         int64\n",
       "Range_Km             int64\n",
       "Efficiency_WhKm      int64\n",
       "connector            int64\n",
       "FastCharge_KmH     float64\n",
       "RapidCharge         object\n",
       "PowerTrain          object\n",
       "PlugType            object\n",
       "BodyStyle           object\n",
       "Seats               object\n",
       "PriceEuro            int64\n",
       "dtype: object"
      ]
     },
     "execution_count": 21,
     "metadata": {},
     "output_type": "execute_result"
    }
   ],
   "source": [
    "# Ersetzen '?' durch np.nan\n",
    "df.replace({\"Seats\":'?'}, np.nan, inplace=True )\n",
    "\n",
    "df.dtypes"
   ]
  },
  {
   "cell_type": "code",
   "execution_count": 22,
   "metadata": {},
   "outputs": [
    {
     "data": {
      "text/plain": [
       "Brand               0\n",
       "Model               0\n",
       "AccelSec            0\n",
       "TopSpeed_KmH        0\n",
       "Range_Km            0\n",
       "Efficiency_WhKm     0\n",
       "connector           0\n",
       "FastCharge_KmH      5\n",
       "RapidCharge         0\n",
       "PowerTrain          0\n",
       "PlugType            0\n",
       "BodyStyle           0\n",
       "Seats              18\n",
       "PriceEuro           0\n",
       "dtype: int64"
      ]
     },
     "execution_count": 22,
     "metadata": {},
     "output_type": "execute_result"
    }
   ],
   "source": [
    "df.isnull().sum() # --> Seats hat 18 fellende Werte"
   ]
  },
  {
   "cell_type": "code",
   "execution_count": 23,
   "metadata": {},
   "outputs": [],
   "source": [
    "df.loc[:,'Seats'] = df.loc[:,'Seats'].astype(float)"
   ]
  },
  {
   "cell_type": "code",
   "execution_count": 24,
   "metadata": {},
   "outputs": [
    {
     "data": {
      "text/plain": [
       "array([ 5., nan,  4.,  7.,  6.,  2.])"
      ]
     },
     "execution_count": 24,
     "metadata": {},
     "output_type": "execute_result"
    }
   ],
   "source": [
    "df.loc[:,'Seats'].unique()"
   ]
  },
  {
   "cell_type": "code",
   "execution_count": 25,
   "metadata": {},
   "outputs": [
    {
     "data": {
      "text/plain": [
       "Brand               object\n",
       "Model               object\n",
       "AccelSec           float64\n",
       "TopSpeed_KmH         int64\n",
       "Range_Km             int64\n",
       "Efficiency_WhKm      int64\n",
       "connector            int64\n",
       "FastCharge_KmH     float64\n",
       "RapidCharge         object\n",
       "PowerTrain          object\n",
       "PlugType            object\n",
       "BodyStyle           object\n",
       "Seats              float64\n",
       "PriceEuro            int64\n",
       "dtype: object"
      ]
     },
     "execution_count": 25,
     "metadata": {},
     "output_type": "execute_result"
    }
   ],
   "source": [
    "df.dtypes"
   ]
  },
  {
   "cell_type": "code",
   "execution_count": 26,
   "metadata": {},
   "outputs": [
    {
     "data": {
      "text/html": [
       "<div>\n",
       "<style scoped>\n",
       "    .dataframe tbody tr th:only-of-type {\n",
       "        vertical-align: middle;\n",
       "    }\n",
       "\n",
       "    .dataframe tbody tr th {\n",
       "        vertical-align: top;\n",
       "    }\n",
       "\n",
       "    .dataframe thead th {\n",
       "        text-align: right;\n",
       "    }\n",
       "</style>\n",
       "<table border=\"1\" class=\"dataframe\">\n",
       "  <thead>\n",
       "    <tr style=\"text-align: right;\">\n",
       "      <th></th>\n",
       "      <th>AccelSec</th>\n",
       "      <th>TopSpeed_KmH</th>\n",
       "      <th>Range_Km</th>\n",
       "      <th>Efficiency_WhKm</th>\n",
       "      <th>connector</th>\n",
       "      <th>FastCharge_KmH</th>\n",
       "      <th>Seats</th>\n",
       "      <th>PriceEuro</th>\n",
       "    </tr>\n",
       "  </thead>\n",
       "  <tbody>\n",
       "    <tr>\n",
       "      <th>count</th>\n",
       "      <td>103.000000</td>\n",
       "      <td>103.000000</td>\n",
       "      <td>103.000000</td>\n",
       "      <td>103.000000</td>\n",
       "      <td>103.000000</td>\n",
       "      <td>98.000000</td>\n",
       "      <td>85.000000</td>\n",
       "      <td>103.000000</td>\n",
       "    </tr>\n",
       "    <tr>\n",
       "      <th>mean</th>\n",
       "      <td>7.396117</td>\n",
       "      <td>179.194175</td>\n",
       "      <td>338.786408</td>\n",
       "      <td>189.165049</td>\n",
       "      <td>151.000000</td>\n",
       "      <td>456.734694</td>\n",
       "      <td>4.894118</td>\n",
       "      <td>55811.563107</td>\n",
       "    </tr>\n",
       "    <tr>\n",
       "      <th>std</th>\n",
       "      <td>3.017430</td>\n",
       "      <td>43.573030</td>\n",
       "      <td>126.014444</td>\n",
       "      <td>29.566839</td>\n",
       "      <td>29.877528</td>\n",
       "      <td>201.262897</td>\n",
       "      <td>0.859451</td>\n",
       "      <td>34134.665280</td>\n",
       "    </tr>\n",
       "    <tr>\n",
       "      <th>min</th>\n",
       "      <td>2.100000</td>\n",
       "      <td>123.000000</td>\n",
       "      <td>95.000000</td>\n",
       "      <td>104.000000</td>\n",
       "      <td>100.000000</td>\n",
       "      <td>170.000000</td>\n",
       "      <td>2.000000</td>\n",
       "      <td>20129.000000</td>\n",
       "    </tr>\n",
       "    <tr>\n",
       "      <th>25%</th>\n",
       "      <td>5.100000</td>\n",
       "      <td>150.000000</td>\n",
       "      <td>250.000000</td>\n",
       "      <td>168.000000</td>\n",
       "      <td>125.500000</td>\n",
       "      <td>275.000000</td>\n",
       "      <td>5.000000</td>\n",
       "      <td>34429.500000</td>\n",
       "    </tr>\n",
       "    <tr>\n",
       "      <th>50%</th>\n",
       "      <td>7.300000</td>\n",
       "      <td>160.000000</td>\n",
       "      <td>340.000000</td>\n",
       "      <td>180.000000</td>\n",
       "      <td>151.000000</td>\n",
       "      <td>440.000000</td>\n",
       "      <td>5.000000</td>\n",
       "      <td>45000.000000</td>\n",
       "    </tr>\n",
       "    <tr>\n",
       "      <th>75%</th>\n",
       "      <td>9.000000</td>\n",
       "      <td>200.000000</td>\n",
       "      <td>400.000000</td>\n",
       "      <td>203.000000</td>\n",
       "      <td>176.500000</td>\n",
       "      <td>560.000000</td>\n",
       "      <td>5.000000</td>\n",
       "      <td>65000.000000</td>\n",
       "    </tr>\n",
       "    <tr>\n",
       "      <th>max</th>\n",
       "      <td>22.400000</td>\n",
       "      <td>410.000000</td>\n",
       "      <td>970.000000</td>\n",
       "      <td>273.000000</td>\n",
       "      <td>202.000000</td>\n",
       "      <td>940.000000</td>\n",
       "      <td>7.000000</td>\n",
       "      <td>215000.000000</td>\n",
       "    </tr>\n",
       "  </tbody>\n",
       "</table>\n",
       "</div>"
      ],
      "text/plain": [
       "         AccelSec  TopSpeed_KmH    Range_Km  Efficiency_WhKm   connector  \\\n",
       "count  103.000000    103.000000  103.000000       103.000000  103.000000   \n",
       "mean     7.396117    179.194175  338.786408       189.165049  151.000000   \n",
       "std      3.017430     43.573030  126.014444        29.566839   29.877528   \n",
       "min      2.100000    123.000000   95.000000       104.000000  100.000000   \n",
       "25%      5.100000    150.000000  250.000000       168.000000  125.500000   \n",
       "50%      7.300000    160.000000  340.000000       180.000000  151.000000   \n",
       "75%      9.000000    200.000000  400.000000       203.000000  176.500000   \n",
       "max     22.400000    410.000000  970.000000       273.000000  202.000000   \n",
       "\n",
       "       FastCharge_KmH      Seats      PriceEuro  \n",
       "count       98.000000  85.000000     103.000000  \n",
       "mean       456.734694   4.894118   55811.563107  \n",
       "std        201.262897   0.859451   34134.665280  \n",
       "min        170.000000   2.000000   20129.000000  \n",
       "25%        275.000000   5.000000   34429.500000  \n",
       "50%        440.000000   5.000000   45000.000000  \n",
       "75%        560.000000   5.000000   65000.000000  \n",
       "max        940.000000   7.000000  215000.000000  "
      ]
     },
     "execution_count": 26,
     "metadata": {},
     "output_type": "execute_result"
    }
   ],
   "source": [
    "# Prüfen die statistische Werte\n",
    "df.describe()\n",
    "\n",
    "# --> Keine extremgroße und extremkleine Werte. \n",
    "# --> Keine negative Werte. \n",
    "# --> mean und 50% Quantil sind ungefähr gleich"
   ]
  },
  {
   "cell_type": "code",
   "execution_count": 27,
   "metadata": {},
   "outputs": [],
   "source": [
    "# df_nulls = df.loc[(df.loc[:,'FastCharge_KmH'].isnull()) | (df.loc[:,'Seats'].isnull()) | (df.loc[:,'PlugType'] == 'missing_type' )]\n",
    "\n",
    "# print(df_nulls.shape)\n",
    "\n",
    "# df_nulls.style.apply(lambda x: ['background-color: yellow']*14 if x.PlugType == 'missing_type' else ['background-color: default']*14, axis=1)\n"
   ]
  },
  {
   "cell_type": "code",
   "execution_count": 28,
   "metadata": {},
   "outputs": [],
   "source": [
    "# df_nulls.style.highlight_null('yellow')"
   ]
  },
  {
   "cell_type": "markdown",
   "metadata": {},
   "source": [
    "#### FastChrage_kmh"
   ]
  },
  {
   "cell_type": "markdown",
   "metadata": {},
   "source": [
    "FastChrage_kmh:\n",
    "Erkenntnis: FastCharge_kmh hängt von RapidCharge ab --> muss zusammen betrachet werden\n",
    "\n",
    "Check: sind meine fehlende Wert in FastCharge_kmh auch diejenigen, die kein RapidCharge haben?\n",
    "\n",
    "Idee 1: mit dem Mittelwert auffüllen --> Autos unterscheiden sich zu sehr voneinander; \n",
    "Verfälschung der Daten, da ich mit dem Mittelwert \n",
    "ausdrücke würde, dass ein Wert drin steht, obwohl die \n",
    "Charaktereigenschaften icht existiert\n",
    "\n",
    "Idee 2: erstmal alles mit np.nan auffüllen --> um später damit arbeiten zu können\n",
    "    \n",
    "---**Idee 3: mit 0 auffüllen --> repräsentiert, dass ohne RapidCharge nicht weit kommen kann; \n",
    "wenn ein RapidCharge vorhanden ist, muss auch ein Wert größer 0 da stehen**---\n",
    "\n",
    "Idee 4: mit -1 auffüllen --> damit erkennbar ist, dass es ein Ausreißer ist\n",
    "    \n",
    "Idee 5: Zeilen löschen --> würde ich die 5 Zeilen löschen, dann würden alle Autos die keine Schnellladefunktion\n",
    "haben, aus meinem Datensatz gelöscht. Ich würde mir dann nur noch Autos mit\n",
    "der Charaktereigenschaft Schnellladefunktion ansehen und auswerten!\n",
    "--> Muss kommuniziert werden!"
   ]
  },
  {
   "cell_type": "code",
   "execution_count": 29,
   "metadata": {},
   "outputs": [
    {
     "name": "stdout",
     "output_type": "stream",
     "text": [
      "RapidCharge = No -> FastCharge_KmH is Null = 5\n",
      "RapidCharge = Yes -> FastCharge_KmH is Null = 0\n"
     ]
    }
   ],
   "source": [
    "# Aufgabe: Wie kann ich sicherstellen, dass die 5 fehlenden Werte in FastCharge auch wirklich\n",
    "# autos sind, die keine RapidCahrge funktion haben?\n",
    "\n",
    "\n",
    "print(\"RapidCharge = No -> FastCharge_KmH is Null =\", df.loc[df.loc[:, 'RapidCharge'] == 'No', \"FastCharge_KmH\"].isnull().sum())\n",
    "\n",
    "print(\"RapidCharge = Yes -> FastCharge_KmH is Null =\", df.loc[df.loc[:, 'RapidCharge'] == 'Yes', \"FastCharge_KmH\"].isnull().sum())\n"
   ]
  },
  {
   "cell_type": "code",
   "execution_count": 30,
   "metadata": {},
   "outputs": [],
   "source": [
    "df.replace({'FastCharge_KmH': np.nan}, 0, inplace=True)       # loc[:, 'FastCharge_KmH']."
   ]
  },
  {
   "cell_type": "code",
   "execution_count": 31,
   "metadata": {},
   "outputs": [],
   "source": [
    "#df.loc[df.loc[:, \"Seats\"].isnull(), [\"Brand\", \"BodyStyle\"]]\n",
    "#df.loc[(df.loc[:, \"Brand\"] == \"Volkswagen\") &  (df.loc[:, \"BodyStyle\"] == \"Hatchback\")]"
   ]
  },
  {
   "cell_type": "markdown",
   "metadata": {},
   "source": [
    "#### Seats\n",
    "\n",
    "fehlende werte befüllen:\n",
    "\n",
    "1. Schritt: Seats hängt mit bodystyle zusammen\n",
    "2. Schritt: welche bodystyle typen haben fehlende werte in den seats?\n",
    "3. Schritt: wie ermittle ich die häufigkeit pro bodystyle type? \n",
    "4. Schritt: fehlende werte mit ermittelten werten befüllen\n",
    "\n",
    "\n",
    "Schritt1: visuell ermitteln was der häufigste Wert ist ( groupby, crosstab)\n",
    "\n",
    "Schritt 2: fehlenden Werte mit dem häufigsten wert zu befüllen \n",
    "\n",
    "alternativ: alles in einem Rutsch: value_counts() und idxmax()"
   ]
  },
  {
   "cell_type": "code",
   "execution_count": 32,
   "metadata": {},
   "outputs": [
    {
     "data": {
      "text/html": [
       "<div>\n",
       "<style scoped>\n",
       "    .dataframe tbody tr th:only-of-type {\n",
       "        vertical-align: middle;\n",
       "    }\n",
       "\n",
       "    .dataframe tbody tr th {\n",
       "        vertical-align: top;\n",
       "    }\n",
       "\n",
       "    .dataframe thead th {\n",
       "        text-align: right;\n",
       "    }\n",
       "</style>\n",
       "<table border=\"1\" class=\"dataframe\">\n",
       "  <thead>\n",
       "    <tr style=\"text-align: right;\">\n",
       "      <th>Seats</th>\n",
       "      <th>2.0</th>\n",
       "      <th>4.0</th>\n",
       "      <th>5.0</th>\n",
       "      <th>6.0</th>\n",
       "      <th>7.0</th>\n",
       "    </tr>\n",
       "    <tr>\n",
       "      <th>BodyStyle</th>\n",
       "      <th></th>\n",
       "      <th></th>\n",
       "      <th></th>\n",
       "      <th></th>\n",
       "      <th></th>\n",
       "    </tr>\n",
       "  </thead>\n",
       "  <tbody>\n",
       "    <tr>\n",
       "      <th>Cabrio</th>\n",
       "      <td>1</td>\n",
       "      <td>2</td>\n",
       "      <td>0</td>\n",
       "      <td>0</td>\n",
       "      <td>0</td>\n",
       "    </tr>\n",
       "    <tr>\n",
       "      <th>Hatchback</th>\n",
       "      <td>1</td>\n",
       "      <td>10</td>\n",
       "      <td>16</td>\n",
       "      <td>0</td>\n",
       "      <td>0</td>\n",
       "    </tr>\n",
       "    <tr>\n",
       "      <th>Liftback</th>\n",
       "      <td>0</td>\n",
       "      <td>0</td>\n",
       "      <td>5</td>\n",
       "      <td>0</td>\n",
       "      <td>0</td>\n",
       "    </tr>\n",
       "    <tr>\n",
       "      <th>MPV</th>\n",
       "      <td>0</td>\n",
       "      <td>0</td>\n",
       "      <td>1</td>\n",
       "      <td>0</td>\n",
       "      <td>0</td>\n",
       "    </tr>\n",
       "    <tr>\n",
       "      <th>Pickup</th>\n",
       "      <td>0</td>\n",
       "      <td>0</td>\n",
       "      <td>0</td>\n",
       "      <td>3</td>\n",
       "      <td>0</td>\n",
       "    </tr>\n",
       "    <tr>\n",
       "      <th>SPV</th>\n",
       "      <td>0</td>\n",
       "      <td>0</td>\n",
       "      <td>1</td>\n",
       "      <td>0</td>\n",
       "      <td>2</td>\n",
       "    </tr>\n",
       "    <tr>\n",
       "      <th>SUV</th>\n",
       "      <td>0</td>\n",
       "      <td>0</td>\n",
       "      <td>29</td>\n",
       "      <td>0</td>\n",
       "      <td>4</td>\n",
       "    </tr>\n",
       "    <tr>\n",
       "      <th>Sedan</th>\n",
       "      <td>0</td>\n",
       "      <td>5</td>\n",
       "      <td>4</td>\n",
       "      <td>0</td>\n",
       "      <td>0</td>\n",
       "    </tr>\n",
       "    <tr>\n",
       "      <th>Station</th>\n",
       "      <td>0</td>\n",
       "      <td>1</td>\n",
       "      <td>0</td>\n",
       "      <td>0</td>\n",
       "      <td>0</td>\n",
       "    </tr>\n",
       "  </tbody>\n",
       "</table>\n",
       "</div>"
      ],
      "text/plain": [
       "Seats      2.0  4.0  5.0  6.0  7.0\n",
       "BodyStyle                         \n",
       "Cabrio       1    2    0    0    0\n",
       "Hatchback    1   10   16    0    0\n",
       "Liftback     0    0    5    0    0\n",
       "MPV          0    0    1    0    0\n",
       "Pickup       0    0    0    3    0\n",
       "SPV          0    0    1    0    2\n",
       "SUV          0    0   29    0    4\n",
       "Sedan        0    5    4    0    0\n",
       "Station      0    1    0    0    0"
      ]
     },
     "execution_count": 32,
     "metadata": {},
     "output_type": "execute_result"
    }
   ],
   "source": [
    "pd.crosstab(index = df.loc[:,\"BodyStyle\"], columns=df.loc[:,\"Seats\"])"
   ]
  },
  {
   "cell_type": "code",
   "execution_count": 33,
   "metadata": {},
   "outputs": [
    {
     "data": {
      "text/plain": [
       "BodyStyle  Seats\n",
       "Cabrio     2.0       1\n",
       "           4.0       2\n",
       "Hatchback  2.0       1\n",
       "           4.0      10\n",
       "           5.0      16\n",
       "Liftback   5.0       5\n",
       "MPV        5.0       1\n",
       "Pickup     6.0       3\n",
       "SPV        5.0       1\n",
       "           7.0       2\n",
       "SUV        5.0      29\n",
       "           7.0       4\n",
       "Sedan      4.0       5\n",
       "           5.0       4\n",
       "Station    4.0       1\n",
       "dtype: int64"
      ]
     },
     "execution_count": 33,
     "metadata": {},
     "output_type": "execute_result"
    }
   ],
   "source": [
    "df.groupby([\"BodyStyle\", \"Seats\"]).size()"
   ]
  },
  {
   "cell_type": "code",
   "execution_count": 34,
   "metadata": {},
   "outputs": [
    {
     "data": {
      "text/plain": [
       "SUV          12\n",
       "Hatchback     5\n",
       "Sedan         1\n",
       "Name: BodyStyle, dtype: int64"
      ]
     },
     "execution_count": 34,
     "metadata": {},
     "output_type": "execute_result"
    }
   ],
   "source": [
    "df.loc[df.loc[:, \"Seats\"].isnull(), \"BodyStyle\"].value_counts()"
   ]
  },
  {
   "cell_type": "code",
   "execution_count": 35,
   "metadata": {},
   "outputs": [
    {
     "data": {
      "text/plain": [
       "array(['Hatchback', 'Sedan', 'SUV'], dtype=object)"
      ]
     },
     "execution_count": 35,
     "metadata": {},
     "output_type": "execute_result"
    }
   ],
   "source": [
    "bodyStyle_ohne_seats_list = df.loc[df.loc[:, \"Seats\"].isnull(), \"BodyStyle\"].unique()\n",
    "bodyStyle_ohne_seats_list"
   ]
  },
  {
   "cell_type": "code",
   "execution_count": 36,
   "metadata": {},
   "outputs": [
    {
     "data": {
      "text/html": [
       "<div>\n",
       "<style scoped>\n",
       "    .dataframe tbody tr th:only-of-type {\n",
       "        vertical-align: middle;\n",
       "    }\n",
       "\n",
       "    .dataframe tbody tr th {\n",
       "        vertical-align: top;\n",
       "    }\n",
       "\n",
       "    .dataframe thead th {\n",
       "        text-align: right;\n",
       "    }\n",
       "</style>\n",
       "<table border=\"1\" class=\"dataframe\">\n",
       "  <thead>\n",
       "    <tr style=\"text-align: right;\">\n",
       "      <th></th>\n",
       "      <th>BodyStyle</th>\n",
       "      <th>Seats</th>\n",
       "      <th>size</th>\n",
       "    </tr>\n",
       "  </thead>\n",
       "  <tbody>\n",
       "    <tr>\n",
       "      <th>0</th>\n",
       "      <td>Cabrio</td>\n",
       "      <td>2.0</td>\n",
       "      <td>1</td>\n",
       "    </tr>\n",
       "    <tr>\n",
       "      <th>1</th>\n",
       "      <td>Cabrio</td>\n",
       "      <td>4.0</td>\n",
       "      <td>2</td>\n",
       "    </tr>\n",
       "    <tr>\n",
       "      <th>2</th>\n",
       "      <td>Hatchback</td>\n",
       "      <td>2.0</td>\n",
       "      <td>1</td>\n",
       "    </tr>\n",
       "    <tr>\n",
       "      <th>3</th>\n",
       "      <td>Hatchback</td>\n",
       "      <td>4.0</td>\n",
       "      <td>10</td>\n",
       "    </tr>\n",
       "    <tr>\n",
       "      <th>4</th>\n",
       "      <td>Hatchback</td>\n",
       "      <td>5.0</td>\n",
       "      <td>16</td>\n",
       "    </tr>\n",
       "    <tr>\n",
       "      <th>5</th>\n",
       "      <td>Liftback</td>\n",
       "      <td>5.0</td>\n",
       "      <td>5</td>\n",
       "    </tr>\n",
       "    <tr>\n",
       "      <th>6</th>\n",
       "      <td>MPV</td>\n",
       "      <td>5.0</td>\n",
       "      <td>1</td>\n",
       "    </tr>\n",
       "    <tr>\n",
       "      <th>7</th>\n",
       "      <td>Pickup</td>\n",
       "      <td>6.0</td>\n",
       "      <td>3</td>\n",
       "    </tr>\n",
       "    <tr>\n",
       "      <th>8</th>\n",
       "      <td>SPV</td>\n",
       "      <td>5.0</td>\n",
       "      <td>1</td>\n",
       "    </tr>\n",
       "    <tr>\n",
       "      <th>9</th>\n",
       "      <td>SPV</td>\n",
       "      <td>7.0</td>\n",
       "      <td>2</td>\n",
       "    </tr>\n",
       "    <tr>\n",
       "      <th>10</th>\n",
       "      <td>SUV</td>\n",
       "      <td>5.0</td>\n",
       "      <td>29</td>\n",
       "    </tr>\n",
       "    <tr>\n",
       "      <th>11</th>\n",
       "      <td>SUV</td>\n",
       "      <td>7.0</td>\n",
       "      <td>4</td>\n",
       "    </tr>\n",
       "    <tr>\n",
       "      <th>12</th>\n",
       "      <td>Sedan</td>\n",
       "      <td>4.0</td>\n",
       "      <td>5</td>\n",
       "    </tr>\n",
       "    <tr>\n",
       "      <th>13</th>\n",
       "      <td>Sedan</td>\n",
       "      <td>5.0</td>\n",
       "      <td>4</td>\n",
       "    </tr>\n",
       "    <tr>\n",
       "      <th>14</th>\n",
       "      <td>Station</td>\n",
       "      <td>4.0</td>\n",
       "      <td>1</td>\n",
       "    </tr>\n",
       "  </tbody>\n",
       "</table>\n",
       "</div>"
      ],
      "text/plain": [
       "    BodyStyle  Seats  size\n",
       "0      Cabrio    2.0     1\n",
       "1      Cabrio    4.0     2\n",
       "2   Hatchback    2.0     1\n",
       "3   Hatchback    4.0    10\n",
       "4   Hatchback    5.0    16\n",
       "5    Liftback    5.0     5\n",
       "6         MPV    5.0     1\n",
       "7      Pickup    6.0     3\n",
       "8         SPV    5.0     1\n",
       "9         SPV    7.0     2\n",
       "10        SUV    5.0    29\n",
       "11        SUV    7.0     4\n",
       "12      Sedan    4.0     5\n",
       "13      Sedan    5.0     4\n",
       "14    Station    4.0     1"
      ]
     },
     "execution_count": 36,
     "metadata": {},
     "output_type": "execute_result"
    }
   ],
   "source": [
    "bodystyle_seats_df = df.groupby([\"BodyStyle\", \"Seats\"], as_index=False).size()\n",
    "bodystyle_seats_df"
   ]
  },
  {
   "cell_type": "code",
   "execution_count": 37,
   "metadata": {},
   "outputs": [
    {
     "data": {
      "text/html": [
       "<div>\n",
       "<style scoped>\n",
       "    .dataframe tbody tr th:only-of-type {\n",
       "        vertical-align: middle;\n",
       "    }\n",
       "\n",
       "    .dataframe tbody tr th {\n",
       "        vertical-align: top;\n",
       "    }\n",
       "\n",
       "    .dataframe thead th {\n",
       "        text-align: right;\n",
       "    }\n",
       "</style>\n",
       "<table border=\"1\" class=\"dataframe\">\n",
       "  <thead>\n",
       "    <tr style=\"text-align: right;\">\n",
       "      <th></th>\n",
       "      <th>BodyStyle</th>\n",
       "      <th>Seats</th>\n",
       "      <th>size</th>\n",
       "    </tr>\n",
       "  </thead>\n",
       "  <tbody>\n",
       "    <tr>\n",
       "      <th>2</th>\n",
       "      <td>Hatchback</td>\n",
       "      <td>2.0</td>\n",
       "      <td>1</td>\n",
       "    </tr>\n",
       "    <tr>\n",
       "      <th>3</th>\n",
       "      <td>Hatchback</td>\n",
       "      <td>4.0</td>\n",
       "      <td>10</td>\n",
       "    </tr>\n",
       "    <tr>\n",
       "      <th>4</th>\n",
       "      <td>Hatchback</td>\n",
       "      <td>5.0</td>\n",
       "      <td>16</td>\n",
       "    </tr>\n",
       "  </tbody>\n",
       "</table>\n",
       "</div>"
      ],
      "text/plain": [
       "   BodyStyle  Seats  size\n",
       "2  Hatchback    2.0     1\n",
       "3  Hatchback    4.0    10\n",
       "4  Hatchback    5.0    16"
      ]
     },
     "execution_count": 37,
     "metadata": {},
     "output_type": "execute_result"
    }
   ],
   "source": [
    "bodystyle_seats_df.loc[bodystyle_seats_df.loc[:, \"BodyStyle\"] == \"Hatchback\"]"
   ]
  },
  {
   "cell_type": "code",
   "execution_count": 38,
   "metadata": {},
   "outputs": [
    {
     "name": "stdout",
     "output_type": "stream",
     "text": [
      "Hatchback val = 5.0\n",
      "---------------\n",
      "Sedan val = 4.0\n",
      "---------------\n",
      "SUV val = 5.0\n",
      "---------------\n"
     ]
    }
   ],
   "source": [
    "for bodystyle in bodyStyle_ohne_seats_list:\n",
    "#     max_id = bodystyle_seats_df.loc[bodystyle_seats_df.loc[:, \"BodyStyle\"] == bodystyle, 'size'].idxmax()\n",
    "#     print(f\"max_id={max_id}\")\n",
    "    \n",
    "#     val = bodystyle_seats_df.iloc[max_id, 1]\n",
    "\n",
    "    val = df.loc[df.loc[:, \"BodyStyle\"] == bodystyle].groupby(\"Seats\").size().idxmax()\n",
    "    \n",
    "    print(bodystyle, \"val =\",val)\n",
    "    \n",
    "    df.loc[(df.loc[:, \"BodyStyle\"] == bodystyle) & df.loc[:, \"Seats\"].isnull(), 'Seats'] = val\n",
    "\n",
    "    \n",
    "    print(\"---------------\")\n",
    "    "
   ]
  },
  {
   "cell_type": "code",
   "execution_count": 39,
   "metadata": {},
   "outputs": [
    {
     "data": {
      "text/plain": [
       "array([5., 4., 7., 6., 2.])"
      ]
     },
     "execution_count": 39,
     "metadata": {},
     "output_type": "execute_result"
    }
   ],
   "source": [
    "df.Seats.unique()"
   ]
  },
  {
   "cell_type": "code",
   "execution_count": 40,
   "metadata": {},
   "outputs": [
    {
     "data": {
      "text/plain": [
       "Brand               object\n",
       "Model               object\n",
       "AccelSec           float64\n",
       "TopSpeed_KmH         int64\n",
       "Range_Km             int64\n",
       "Efficiency_WhKm      int64\n",
       "connector            int64\n",
       "FastCharge_KmH     float64\n",
       "RapidCharge         object\n",
       "PowerTrain          object\n",
       "PlugType            object\n",
       "BodyStyle           object\n",
       "Seats              float64\n",
       "PriceEuro            int64\n",
       "dtype: object"
      ]
     },
     "execution_count": 40,
     "metadata": {},
     "output_type": "execute_result"
    }
   ],
   "source": [
    "df.dtypes"
   ]
  },
  {
   "cell_type": "code",
   "execution_count": 41,
   "metadata": {},
   "outputs": [],
   "source": [
    "df.loc[:,'Seats'] = df.loc[:,'Seats'].astype(int)"
   ]
  },
  {
   "cell_type": "code",
   "execution_count": 42,
   "metadata": {},
   "outputs": [
    {
     "data": {
      "text/plain": [
       "Brand               object\n",
       "Model               object\n",
       "AccelSec           float64\n",
       "TopSpeed_KmH         int64\n",
       "Range_Km             int64\n",
       "Efficiency_WhKm      int64\n",
       "connector            int64\n",
       "FastCharge_KmH     float64\n",
       "RapidCharge         object\n",
       "PowerTrain          object\n",
       "PlugType            object\n",
       "BodyStyle           object\n",
       "Seats                int32\n",
       "PriceEuro            int64\n",
       "dtype: object"
      ]
     },
     "execution_count": 42,
     "metadata": {},
     "output_type": "execute_result"
    }
   ],
   "source": [
    "df.dtypes"
   ]
  },
  {
   "cell_type": "code",
   "execution_count": 43,
   "metadata": {},
   "outputs": [
    {
     "data": {
      "text/html": [
       "<div>\n",
       "<style scoped>\n",
       "    .dataframe tbody tr th:only-of-type {\n",
       "        vertical-align: middle;\n",
       "    }\n",
       "\n",
       "    .dataframe tbody tr th {\n",
       "        vertical-align: top;\n",
       "    }\n",
       "\n",
       "    .dataframe thead th {\n",
       "        text-align: right;\n",
       "    }\n",
       "</style>\n",
       "<table border=\"1\" class=\"dataframe\">\n",
       "  <thead>\n",
       "    <tr style=\"text-align: right;\">\n",
       "      <th>Seats</th>\n",
       "      <th>2</th>\n",
       "      <th>4</th>\n",
       "      <th>5</th>\n",
       "      <th>6</th>\n",
       "      <th>7</th>\n",
       "      <th>All</th>\n",
       "    </tr>\n",
       "    <tr>\n",
       "      <th>BodyStyle</th>\n",
       "      <th></th>\n",
       "      <th></th>\n",
       "      <th></th>\n",
       "      <th></th>\n",
       "      <th></th>\n",
       "      <th></th>\n",
       "    </tr>\n",
       "  </thead>\n",
       "  <tbody>\n",
       "    <tr>\n",
       "      <th>Cabrio</th>\n",
       "      <td>1</td>\n",
       "      <td>2</td>\n",
       "      <td>0</td>\n",
       "      <td>0</td>\n",
       "      <td>0</td>\n",
       "      <td>3</td>\n",
       "    </tr>\n",
       "    <tr>\n",
       "      <th>Hatchback</th>\n",
       "      <td>1</td>\n",
       "      <td>10</td>\n",
       "      <td>21</td>\n",
       "      <td>0</td>\n",
       "      <td>0</td>\n",
       "      <td>32</td>\n",
       "    </tr>\n",
       "    <tr>\n",
       "      <th>Liftback</th>\n",
       "      <td>0</td>\n",
       "      <td>0</td>\n",
       "      <td>5</td>\n",
       "      <td>0</td>\n",
       "      <td>0</td>\n",
       "      <td>5</td>\n",
       "    </tr>\n",
       "    <tr>\n",
       "      <th>MPV</th>\n",
       "      <td>0</td>\n",
       "      <td>0</td>\n",
       "      <td>1</td>\n",
       "      <td>0</td>\n",
       "      <td>0</td>\n",
       "      <td>1</td>\n",
       "    </tr>\n",
       "    <tr>\n",
       "      <th>Pickup</th>\n",
       "      <td>0</td>\n",
       "      <td>0</td>\n",
       "      <td>0</td>\n",
       "      <td>3</td>\n",
       "      <td>0</td>\n",
       "      <td>3</td>\n",
       "    </tr>\n",
       "    <tr>\n",
       "      <th>SPV</th>\n",
       "      <td>0</td>\n",
       "      <td>0</td>\n",
       "      <td>1</td>\n",
       "      <td>0</td>\n",
       "      <td>2</td>\n",
       "      <td>3</td>\n",
       "    </tr>\n",
       "    <tr>\n",
       "      <th>SUV</th>\n",
       "      <td>0</td>\n",
       "      <td>0</td>\n",
       "      <td>41</td>\n",
       "      <td>0</td>\n",
       "      <td>4</td>\n",
       "      <td>45</td>\n",
       "    </tr>\n",
       "    <tr>\n",
       "      <th>Sedan</th>\n",
       "      <td>0</td>\n",
       "      <td>6</td>\n",
       "      <td>4</td>\n",
       "      <td>0</td>\n",
       "      <td>0</td>\n",
       "      <td>10</td>\n",
       "    </tr>\n",
       "    <tr>\n",
       "      <th>Station</th>\n",
       "      <td>0</td>\n",
       "      <td>1</td>\n",
       "      <td>0</td>\n",
       "      <td>0</td>\n",
       "      <td>0</td>\n",
       "      <td>1</td>\n",
       "    </tr>\n",
       "    <tr>\n",
       "      <th>All</th>\n",
       "      <td>2</td>\n",
       "      <td>19</td>\n",
       "      <td>73</td>\n",
       "      <td>3</td>\n",
       "      <td>6</td>\n",
       "      <td>103</td>\n",
       "    </tr>\n",
       "  </tbody>\n",
       "</table>\n",
       "</div>"
      ],
      "text/plain": [
       "Seats      2   4   5  6  7  All\n",
       "BodyStyle                      \n",
       "Cabrio     1   2   0  0  0    3\n",
       "Hatchback  1  10  21  0  0   32\n",
       "Liftback   0   0   5  0  0    5\n",
       "MPV        0   0   1  0  0    1\n",
       "Pickup     0   0   0  3  0    3\n",
       "SPV        0   0   1  0  2    3\n",
       "SUV        0   0  41  0  4   45\n",
       "Sedan      0   6   4  0  0   10\n",
       "Station    0   1   0  0  0    1\n",
       "All        2  19  73  3  6  103"
      ]
     },
     "execution_count": 43,
     "metadata": {},
     "output_type": "execute_result"
    }
   ],
   "source": [
    "pd.crosstab(index = df.loc[:,\"BodyStyle\"], columns=df.loc[:,\"Seats\"], margins=True)"
   ]
  },
  {
   "cell_type": "markdown",
   "metadata": {},
   "source": [
    "### Pairplot - erste visuelle Darstellung"
   ]
  },
  {
   "cell_type": "code",
   "execution_count": 44,
   "metadata": {},
   "outputs": [
    {
     "data": {
      "text/plain": [
       "Index(['Brand', 'Model', 'AccelSec', 'TopSpeed_KmH', 'Range_Km',\n",
       "       'Efficiency_WhKm', 'connector', 'FastCharge_KmH', 'RapidCharge',\n",
       "       'PowerTrain', 'PlugType', 'BodyStyle', 'Seats', 'PriceEuro'],\n",
       "      dtype='object')"
      ]
     },
     "execution_count": 44,
     "metadata": {},
     "output_type": "execute_result"
    }
   ],
   "source": [
    "df.columns"
   ]
  },
  {
   "cell_type": "code",
   "execution_count": 45,
   "metadata": {},
   "outputs": [
    {
     "data": {
      "text/plain": [
       "<seaborn.axisgrid.PairGrid at 0x1d5ef16a550>"
      ]
     },
     "execution_count": 45,
     "metadata": {},
     "output_type": "execute_result"
    },
    {
     "data": {
      "image/png": "[encoded data removed]",
      "text/plain": [
       "<Figure size 1260x1260 with 35 Axes>"
      ]
     },
     "metadata": {
      "needs_background": "light"
     },
     "output_type": "display_data"
    }
   ],
   "source": [
    "sns.pairplot(df, corner = True, vars = ['AccelSec', 'TopSpeed_KmH', 'Range_Km', 'Efficiency_WhKm', 'FastCharge_KmH', 'Seats', 'PriceEuro'])"
   ]
  },
  {
   "cell_type": "markdown",
   "metadata": {},
   "source": [
    "### Neue Features"
   ]
  },
  {
   "cell_type": "markdown",
   "metadata": {},
   "source": [
    "#### Max Ladedauer in min"
   ]
  },
  {
   "cell_type": "code",
   "execution_count": 46,
   "metadata": {},
   "outputs": [
    {
     "data": {
      "text/html": [
       "<div>\n",
       "<style scoped>\n",
       "    .dataframe tbody tr th:only-of-type {\n",
       "        vertical-align: middle;\n",
       "    }\n",
       "\n",
       "    .dataframe tbody tr th {\n",
       "        vertical-align: top;\n",
       "    }\n",
       "\n",
       "    .dataframe thead th {\n",
       "        text-align: right;\n",
       "    }\n",
       "</style>\n",
       "<table border=\"1\" class=\"dataframe\">\n",
       "  <thead>\n",
       "    <tr style=\"text-align: right;\">\n",
       "      <th></th>\n",
       "      <th>Brand</th>\n",
       "      <th>Model</th>\n",
       "      <th>AccelSec</th>\n",
       "      <th>TopSpeed_KmH</th>\n",
       "      <th>Range_Km</th>\n",
       "      <th>Efficiency_WhKm</th>\n",
       "      <th>connector</th>\n",
       "      <th>FastCharge_KmH</th>\n",
       "      <th>RapidCharge</th>\n",
       "      <th>PowerTrain</th>\n",
       "      <th>PlugType</th>\n",
       "      <th>BodyStyle</th>\n",
       "      <th>Seats</th>\n",
       "      <th>PriceEuro</th>\n",
       "      <th>Max_Ladedauer_in_min</th>\n",
       "    </tr>\n",
       "  </thead>\n",
       "  <tbody>\n",
       "    <tr>\n",
       "      <th>0</th>\n",
       "      <td>Tesla</td>\n",
       "      <td>Model 3 Long Range Dual Motor</td>\n",
       "      <td>4.6</td>\n",
       "      <td>233</td>\n",
       "      <td>450</td>\n",
       "      <td>161</td>\n",
       "      <td>100</td>\n",
       "      <td>940.0</td>\n",
       "      <td>Yes</td>\n",
       "      <td>AWD</td>\n",
       "      <td>Type 2 CCS</td>\n",
       "      <td>Sedan</td>\n",
       "      <td>5</td>\n",
       "      <td>55480</td>\n",
       "      <td>28.72</td>\n",
       "    </tr>\n",
       "    <tr>\n",
       "      <th>1</th>\n",
       "      <td>Volkswagen</td>\n",
       "      <td>ID.3 Pure</td>\n",
       "      <td>10.0</td>\n",
       "      <td>160</td>\n",
       "      <td>270</td>\n",
       "      <td>167</td>\n",
       "      <td>101</td>\n",
       "      <td>250.0</td>\n",
       "      <td>Yes</td>\n",
       "      <td>RWD</td>\n",
       "      <td>Type 2 CCS</td>\n",
       "      <td>Hatchback</td>\n",
       "      <td>5</td>\n",
       "      <td>30000</td>\n",
       "      <td>64.80</td>\n",
       "    </tr>\n",
       "    <tr>\n",
       "      <th>2</th>\n",
       "      <td>Polestar</td>\n",
       "      <td>2</td>\n",
       "      <td>4.7</td>\n",
       "      <td>210</td>\n",
       "      <td>400</td>\n",
       "      <td>181</td>\n",
       "      <td>102</td>\n",
       "      <td>620.0</td>\n",
       "      <td>Yes</td>\n",
       "      <td>AWD</td>\n",
       "      <td>Type 2 CCS</td>\n",
       "      <td>Liftback</td>\n",
       "      <td>5</td>\n",
       "      <td>56440</td>\n",
       "      <td>38.71</td>\n",
       "    </tr>\n",
       "    <tr>\n",
       "      <th>3</th>\n",
       "      <td>BMW</td>\n",
       "      <td>iX3</td>\n",
       "      <td>6.8</td>\n",
       "      <td>180</td>\n",
       "      <td>360</td>\n",
       "      <td>206</td>\n",
       "      <td>103</td>\n",
       "      <td>560.0</td>\n",
       "      <td>Yes</td>\n",
       "      <td>RWD</td>\n",
       "      <td>Type 2 CCS</td>\n",
       "      <td>SUV</td>\n",
       "      <td>5</td>\n",
       "      <td>68040</td>\n",
       "      <td>38.57</td>\n",
       "    </tr>\n",
       "    <tr>\n",
       "      <th>4</th>\n",
       "      <td>Honda</td>\n",
       "      <td>e</td>\n",
       "      <td>9.5</td>\n",
       "      <td>145</td>\n",
       "      <td>170</td>\n",
       "      <td>168</td>\n",
       "      <td>104</td>\n",
       "      <td>190.0</td>\n",
       "      <td>Yes</td>\n",
       "      <td>RWD</td>\n",
       "      <td>Type 2 CCS</td>\n",
       "      <td>Hatchback</td>\n",
       "      <td>4</td>\n",
       "      <td>32997</td>\n",
       "      <td>53.68</td>\n",
       "    </tr>\n",
       "    <tr>\n",
       "      <th>...</th>\n",
       "      <td>...</td>\n",
       "      <td>...</td>\n",
       "      <td>...</td>\n",
       "      <td>...</td>\n",
       "      <td>...</td>\n",
       "      <td>...</td>\n",
       "      <td>...</td>\n",
       "      <td>...</td>\n",
       "      <td>...</td>\n",
       "      <td>...</td>\n",
       "      <td>...</td>\n",
       "      <td>...</td>\n",
       "      <td>...</td>\n",
       "      <td>...</td>\n",
       "      <td>...</td>\n",
       "    </tr>\n",
       "    <tr>\n",
       "      <th>98</th>\n",
       "      <td>Nissan</td>\n",
       "      <td>Ariya 63kWh</td>\n",
       "      <td>7.5</td>\n",
       "      <td>160</td>\n",
       "      <td>330</td>\n",
       "      <td>191</td>\n",
       "      <td>198</td>\n",
       "      <td>440.0</td>\n",
       "      <td>Yes</td>\n",
       "      <td>FWD</td>\n",
       "      <td>Type 2 CCS</td>\n",
       "      <td>Hatchback</td>\n",
       "      <td>5</td>\n",
       "      <td>45000</td>\n",
       "      <td>45.00</td>\n",
       "    </tr>\n",
       "    <tr>\n",
       "      <th>99</th>\n",
       "      <td>Audi</td>\n",
       "      <td>e-tron S Sportback 55 quattro</td>\n",
       "      <td>4.5</td>\n",
       "      <td>210</td>\n",
       "      <td>335</td>\n",
       "      <td>258</td>\n",
       "      <td>199</td>\n",
       "      <td>540.0</td>\n",
       "      <td>Yes</td>\n",
       "      <td>AWD</td>\n",
       "      <td>Type 2 CCS</td>\n",
       "      <td>SUV</td>\n",
       "      <td>5</td>\n",
       "      <td>96050</td>\n",
       "      <td>37.22</td>\n",
       "    </tr>\n",
       "    <tr>\n",
       "      <th>100</th>\n",
       "      <td>Nissan</td>\n",
       "      <td>Ariya e-4ORCE 63kWh</td>\n",
       "      <td>5.9</td>\n",
       "      <td>200</td>\n",
       "      <td>325</td>\n",
       "      <td>194</td>\n",
       "      <td>200</td>\n",
       "      <td>440.0</td>\n",
       "      <td>Yes</td>\n",
       "      <td>AWD</td>\n",
       "      <td>missing_type</td>\n",
       "      <td>Hatchback</td>\n",
       "      <td>5</td>\n",
       "      <td>50000</td>\n",
       "      <td>44.32</td>\n",
       "    </tr>\n",
       "    <tr>\n",
       "      <th>101</th>\n",
       "      <td>Nissan</td>\n",
       "      <td>Ariya e-4ORCE 87kWh Performance</td>\n",
       "      <td>5.1</td>\n",
       "      <td>200</td>\n",
       "      <td>375</td>\n",
       "      <td>232</td>\n",
       "      <td>201</td>\n",
       "      <td>450.0</td>\n",
       "      <td>Yes</td>\n",
       "      <td>AWD</td>\n",
       "      <td>Type 2 CCS</td>\n",
       "      <td>Hatchback</td>\n",
       "      <td>5</td>\n",
       "      <td>65000</td>\n",
       "      <td>50.00</td>\n",
       "    </tr>\n",
       "    <tr>\n",
       "      <th>102</th>\n",
       "      <td>Byton</td>\n",
       "      <td>M-Byte 95 kWh 2WD</td>\n",
       "      <td>7.5</td>\n",
       "      <td>190</td>\n",
       "      <td>400</td>\n",
       "      <td>238</td>\n",
       "      <td>202</td>\n",
       "      <td>480.0</td>\n",
       "      <td>Yes</td>\n",
       "      <td>AWD</td>\n",
       "      <td>missing_type</td>\n",
       "      <td>SUV</td>\n",
       "      <td>5</td>\n",
       "      <td>62000</td>\n",
       "      <td>50.00</td>\n",
       "    </tr>\n",
       "  </tbody>\n",
       "</table>\n",
       "<p>103 rows × 15 columns</p>\n",
       "</div>"
      ],
      "text/plain": [
       "          Brand                            Model  AccelSec  TopSpeed_KmH  \\\n",
       "0         Tesla    Model 3 Long Range Dual Motor       4.6           233   \n",
       "1    Volkswagen                        ID.3 Pure      10.0           160   \n",
       "2      Polestar                                2       4.7           210   \n",
       "3           BMW                              iX3       6.8           180   \n",
       "4         Honda                                e       9.5           145   \n",
       "..          ...                              ...       ...           ...   \n",
       "98       Nissan                      Ariya 63kWh       7.5           160   \n",
       "99         Audi    e-tron S Sportback 55 quattro       4.5           210   \n",
       "100      Nissan              Ariya e-4ORCE 63kWh       5.9           200   \n",
       "101      Nissan  Ariya e-4ORCE 87kWh Performance       5.1           200   \n",
       "102       Byton                M-Byte 95 kWh 2WD       7.5           190   \n",
       "\n",
       "     Range_Km  Efficiency_WhKm  connector  FastCharge_KmH RapidCharge  \\\n",
       "0         450              161        100           940.0         Yes   \n",
       "1         270              167        101           250.0         Yes   \n",
       "2         400              181        102           620.0         Yes   \n",
       "3         360              206        103           560.0         Yes   \n",
       "4         170              168        104           190.0         Yes   \n",
       "..        ...              ...        ...             ...         ...   \n",
       "98        330              191        198           440.0         Yes   \n",
       "99        335              258        199           540.0         Yes   \n",
       "100       325              194        200           440.0         Yes   \n",
       "101       375              232        201           450.0         Yes   \n",
       "102       400              238        202           480.0         Yes   \n",
       "\n",
       "    PowerTrain      PlugType  BodyStyle  Seats  PriceEuro  \\\n",
       "0          AWD    Type 2 CCS      Sedan      5      55480   \n",
       "1          RWD    Type 2 CCS  Hatchback      5      30000   \n",
       "2          AWD    Type 2 CCS   Liftback      5      56440   \n",
       "3          RWD    Type 2 CCS        SUV      5      68040   \n",
       "4          RWD    Type 2 CCS  Hatchback      4      32997   \n",
       "..         ...           ...        ...    ...        ...   \n",
       "98         FWD    Type 2 CCS  Hatchback      5      45000   \n",
       "99         AWD    Type 2 CCS        SUV      5      96050   \n",
       "100        AWD  missing_type  Hatchback      5      50000   \n",
       "101        AWD    Type 2 CCS  Hatchback      5      65000   \n",
       "102        AWD  missing_type        SUV      5      62000   \n",
       "\n",
       "     Max_Ladedauer_in_min  \n",
       "0                   28.72  \n",
       "1                   64.80  \n",
       "2                   38.71  \n",
       "3                   38.57  \n",
       "4                   53.68  \n",
       "..                    ...  \n",
       "98                  45.00  \n",
       "99                  37.22  \n",
       "100                 44.32  \n",
       "101                 50.00  \n",
       "102                 50.00  \n",
       "\n",
       "[103 rows x 15 columns]"
      ]
     },
     "execution_count": 46,
     "metadata": {},
     "output_type": "execute_result"
    }
   ],
   "source": [
    "df['Max_Ladedauer_in_min'] = round((df['Range_Km']/df['FastCharge_KmH'])*60,2)\n",
    "df "
   ]
  },
  {
   "cell_type": "code",
   "execution_count": 47,
   "metadata": {},
   "outputs": [
    {
     "data": {
      "text/plain": [
       "57    inf\n",
       "68    inf\n",
       "77    inf\n",
       "82    inf\n",
       "91    inf\n",
       "Name: Max_Ladedauer_in_min, dtype: float64"
      ]
     },
     "execution_count": 47,
     "metadata": {},
     "output_type": "execute_result"
    }
   ],
   "source": [
    "# Max_Ladedauer_in_min für Autos one RapidCharge\n",
    "\n",
    "df.loc[df.loc[:, 'RapidCharge']  == 'No', 'Max_Ladedauer_in_min']"
   ]
  },
  {
   "cell_type": "code",
   "execution_count": 48,
   "metadata": {},
   "outputs": [],
   "source": [
    "df.replace({'Max_Ladedauer_in_min': np.inf}, 0, inplace=True)"
   ]
  },
  {
   "cell_type": "code",
   "execution_count": 49,
   "metadata": {},
   "outputs": [
    {
     "data": {
      "text/plain": [
       "57    0.0\n",
       "68    0.0\n",
       "77    0.0\n",
       "82    0.0\n",
       "91    0.0\n",
       "Name: Max_Ladedauer_in_min, dtype: float64"
      ]
     },
     "execution_count": 49,
     "metadata": {},
     "output_type": "execute_result"
    }
   ],
   "source": [
    "df.loc[df.loc[:, 'RapidCharge']  == 'No', 'Max_Ladedauer_in_min']"
   ]
  },
  {
   "cell_type": "markdown",
   "metadata": {},
   "source": [
    "#### Batterykapazität/Leistung des Autos/Tank des Elektroautos"
   ]
  },
  {
   "cell_type": "code",
   "execution_count": 50,
   "metadata": {},
   "outputs": [],
   "source": [
    "# weiteres Feature: Batterykapazität/Leistung des Autos/Tank des elektroautos --> je größer die Battery desto weiter komme ich (range_km)\n",
    "\n",
    "df['Capacity_kWh'] = ((df['Range_Km']) * (df['Efficiency_WhKm'] / 1000)) # --> Batteriekapazität in Kilowatt\n",
    "df[\"ChargingPower_kWh\"] = df['Efficiency_WhKm'] * df['FastCharge_KmH'] / 1000 # --> Batterieladegeschwindigkeit\n",
    "df['C_Rate'] = df['FastCharge_KmH'] / df[\"Range_Km\"]"
   ]
  },
  {
   "cell_type": "code",
   "execution_count": 51,
   "metadata": {},
   "outputs": [
    {
     "data": {
      "text/html": [
       "<div>\n",
       "<style scoped>\n",
       "    .dataframe tbody tr th:only-of-type {\n",
       "        vertical-align: middle;\n",
       "    }\n",
       "\n",
       "    .dataframe tbody tr th {\n",
       "        vertical-align: top;\n",
       "    }\n",
       "\n",
       "    .dataframe thead th {\n",
       "        text-align: right;\n",
       "    }\n",
       "</style>\n",
       "<table border=\"1\" class=\"dataframe\">\n",
       "  <thead>\n",
       "    <tr style=\"text-align: right;\">\n",
       "      <th></th>\n",
       "      <th>AccelSec</th>\n",
       "      <th>TopSpeed_KmH</th>\n",
       "      <th>Range_Km</th>\n",
       "      <th>Efficiency_WhKm</th>\n",
       "      <th>connector</th>\n",
       "      <th>FastCharge_KmH</th>\n",
       "      <th>Seats</th>\n",
       "      <th>PriceEuro</th>\n",
       "      <th>Max_Ladedauer_in_min</th>\n",
       "      <th>Capacity_kWh</th>\n",
       "      <th>ChargingPower_kWh</th>\n",
       "      <th>C_Rate</th>\n",
       "    </tr>\n",
       "  </thead>\n",
       "  <tbody>\n",
       "    <tr>\n",
       "      <th>count</th>\n",
       "      <td>13.000000</td>\n",
       "      <td>13.000000</td>\n",
       "      <td>13.000000</td>\n",
       "      <td>13.000000</td>\n",
       "      <td>13.00000</td>\n",
       "      <td>13.000000</td>\n",
       "      <td>13.000000</td>\n",
       "      <td>13.000000</td>\n",
       "      <td>13.000000</td>\n",
       "      <td>13.000000</td>\n",
       "      <td>13.000000</td>\n",
       "      <td>13.000000</td>\n",
       "    </tr>\n",
       "    <tr>\n",
       "      <th>mean</th>\n",
       "      <td>4.092308</td>\n",
       "      <td>244.461538</td>\n",
       "      <td>500.769231</td>\n",
       "      <td>201.384615</td>\n",
       "      <td>145.00000</td>\n",
       "      <td>730.000000</td>\n",
       "      <td>5.692308</td>\n",
       "      <td>80272.307692</td>\n",
       "      <td>42.943846</td>\n",
       "      <td>102.879231</td>\n",
       "      <td>145.264615</td>\n",
       "      <td>1.565638</td>\n",
       "    </tr>\n",
       "    <tr>\n",
       "      <th>std</th>\n",
       "      <td>1.389521</td>\n",
       "      <td>55.996451</td>\n",
       "      <td>173.203230</td>\n",
       "      <td>39.075863</td>\n",
       "      <td>26.78619</td>\n",
       "      <td>175.641681</td>\n",
       "      <td>1.109400</td>\n",
       "      <td>44432.092785</td>\n",
       "      <td>14.892149</td>\n",
       "      <td>46.709995</td>\n",
       "      <td>37.707493</td>\n",
       "      <td>0.532281</td>\n",
       "    </tr>\n",
       "    <tr>\n",
       "      <th>min</th>\n",
       "      <td>2.100000</td>\n",
       "      <td>180.000000</td>\n",
       "      <td>310.000000</td>\n",
       "      <td>153.000000</td>\n",
       "      <td>100.00000</td>\n",
       "      <td>480.000000</td>\n",
       "      <td>4.000000</td>\n",
       "      <td>45000.000000</td>\n",
       "      <td>27.330000</td>\n",
       "      <td>47.430000</td>\n",
       "      <td>99.450000</td>\n",
       "      <td>0.946667</td>\n",
       "    </tr>\n",
       "    <tr>\n",
       "      <th>25%</th>\n",
       "      <td>3.000000</td>\n",
       "      <td>217.000000</td>\n",
       "      <td>425.000000</td>\n",
       "      <td>171.000000</td>\n",
       "      <td>124.00000</td>\n",
       "      <td>560.000000</td>\n",
       "      <td>5.000000</td>\n",
       "      <td>55480.000000</td>\n",
       "      <td>28.680000</td>\n",
       "      <td>72.645000</td>\n",
       "      <td>103.400000</td>\n",
       "      <td>1.088889</td>\n",
       "    </tr>\n",
       "    <tr>\n",
       "      <th>50%</th>\n",
       "      <td>3.800000</td>\n",
       "      <td>241.000000</td>\n",
       "      <td>450.000000</td>\n",
       "      <td>188.000000</td>\n",
       "      <td>151.00000</td>\n",
       "      <td>710.000000</td>\n",
       "      <td>6.000000</td>\n",
       "      <td>65620.000000</td>\n",
       "      <td>38.870000</td>\n",
       "      <td>94.940000</td>\n",
       "      <td>151.970000</td>\n",
       "      <td>1.543478</td>\n",
       "    </tr>\n",
       "    <tr>\n",
       "      <th>75%</th>\n",
       "      <td>5.000000</td>\n",
       "      <td>250.000000</td>\n",
       "      <td>505.000000</td>\n",
       "      <td>216.000000</td>\n",
       "      <td>161.00000</td>\n",
       "      <td>910.000000</td>\n",
       "      <td>7.000000</td>\n",
       "      <td>85990.000000</td>\n",
       "      <td>55.100000</td>\n",
       "      <td>99.840000</td>\n",
       "      <td>185.310000</td>\n",
       "      <td>2.091954</td>\n",
       "    </tr>\n",
       "    <tr>\n",
       "      <th>max</th>\n",
       "      <td>7.000000</td>\n",
       "      <td>410.000000</td>\n",
       "      <td>970.000000</td>\n",
       "      <td>267.000000</td>\n",
       "      <td>186.00000</td>\n",
       "      <td>940.000000</td>\n",
       "      <td>7.000000</td>\n",
       "      <td>215000.000000</td>\n",
       "      <td>63.380000</td>\n",
       "      <td>200.250000</td>\n",
       "      <td>189.570000</td>\n",
       "      <td>2.195122</td>\n",
       "    </tr>\n",
       "  </tbody>\n",
       "</table>\n",
       "</div>"
      ],
      "text/plain": [
       "        AccelSec  TopSpeed_KmH    Range_Km  Efficiency_WhKm  connector  \\\n",
       "count  13.000000     13.000000   13.000000        13.000000   13.00000   \n",
       "mean    4.092308    244.461538  500.769231       201.384615  145.00000   \n",
       "std     1.389521     55.996451  173.203230        39.075863   26.78619   \n",
       "min     2.100000    180.000000  310.000000       153.000000  100.00000   \n",
       "25%     3.000000    217.000000  425.000000       171.000000  124.00000   \n",
       "50%     3.800000    241.000000  450.000000       188.000000  151.00000   \n",
       "75%     5.000000    250.000000  505.000000       216.000000  161.00000   \n",
       "max     7.000000    410.000000  970.000000       267.000000  186.00000   \n",
       "\n",
       "       FastCharge_KmH      Seats      PriceEuro  Max_Ladedauer_in_min  \\\n",
       "count       13.000000  13.000000      13.000000             13.000000   \n",
       "mean       730.000000   5.692308   80272.307692             42.943846   \n",
       "std        175.641681   1.109400   44432.092785             14.892149   \n",
       "min        480.000000   4.000000   45000.000000             27.330000   \n",
       "25%        560.000000   5.000000   55480.000000             28.680000   \n",
       "50%        710.000000   6.000000   65620.000000             38.870000   \n",
       "75%        910.000000   7.000000   85990.000000             55.100000   \n",
       "max        940.000000   7.000000  215000.000000             63.380000   \n",
       "\n",
       "       Capacity_kWh  ChargingPower_kWh     C_Rate  \n",
       "count     13.000000          13.000000  13.000000  \n",
       "mean     102.879231         145.264615   1.565638  \n",
       "std       46.709995          37.707493   0.532281  \n",
       "min       47.430000          99.450000   0.946667  \n",
       "25%       72.645000         103.400000   1.088889  \n",
       "50%       94.940000         151.970000   1.543478  \n",
       "75%       99.840000         185.310000   2.091954  \n",
       "max      200.250000         189.570000   2.195122  "
      ]
     },
     "execution_count": 51,
     "metadata": {},
     "output_type": "execute_result"
    }
   ],
   "source": [
    "df.loc[df.loc[:, 'Brand'] == 'Tesla'].describe()"
   ]
  },
  {
   "cell_type": "markdown",
   "metadata": {},
   "source": [
    "### Price Segment"
   ]
  },
  {
   "cell_type": "code",
   "execution_count": 52,
   "metadata": {},
   "outputs": [
    {
     "data": {
      "text/plain": [
       "count       103.000000\n",
       "mean      55811.563107\n",
       "std       34134.665280\n",
       "min       20129.000000\n",
       "25%       34429.500000\n",
       "50%       45000.000000\n",
       "75%       65000.000000\n",
       "max      215000.000000\n",
       "Name: PriceEuro, dtype: float64"
      ]
     },
     "execution_count": 52,
     "metadata": {},
     "output_type": "execute_result"
    }
   ],
   "source": [
    "df.PriceEuro.describe()"
   ]
  },
  {
   "cell_type": "code",
   "execution_count": 53,
   "metadata": {},
   "outputs": [
    {
     "data": {
      "text/html": [
       "<div>\n",
       "<style scoped>\n",
       "    .dataframe tbody tr th:only-of-type {\n",
       "        vertical-align: middle;\n",
       "    }\n",
       "\n",
       "    .dataframe tbody tr th {\n",
       "        vertical-align: top;\n",
       "    }\n",
       "\n",
       "    .dataframe thead th {\n",
       "        text-align: right;\n",
       "    }\n",
       "</style>\n",
       "<table border=\"1\" class=\"dataframe\">\n",
       "  <thead>\n",
       "    <tr style=\"text-align: right;\">\n",
       "      <th></th>\n",
       "      <th>Brand</th>\n",
       "      <th>Model</th>\n",
       "      <th>AccelSec</th>\n",
       "      <th>TopSpeed_KmH</th>\n",
       "      <th>Range_Km</th>\n",
       "      <th>Efficiency_WhKm</th>\n",
       "      <th>connector</th>\n",
       "      <th>FastCharge_KmH</th>\n",
       "      <th>RapidCharge</th>\n",
       "      <th>PowerTrain</th>\n",
       "      <th>PlugType</th>\n",
       "      <th>BodyStyle</th>\n",
       "      <th>Seats</th>\n",
       "      <th>PriceEuro</th>\n",
       "      <th>Max_Ladedauer_in_min</th>\n",
       "      <th>Capacity_kWh</th>\n",
       "      <th>ChargingPower_kWh</th>\n",
       "      <th>C_Rate</th>\n",
       "      <th>segment</th>\n",
       "    </tr>\n",
       "  </thead>\n",
       "  <tbody>\n",
       "    <tr>\n",
       "      <th>0</th>\n",
       "      <td>Tesla</td>\n",
       "      <td>Model 3 Long Range Dual Motor</td>\n",
       "      <td>4.6</td>\n",
       "      <td>233</td>\n",
       "      <td>450</td>\n",
       "      <td>161</td>\n",
       "      <td>100</td>\n",
       "      <td>940.0</td>\n",
       "      <td>Yes</td>\n",
       "      <td>AWD</td>\n",
       "      <td>Type 2 CCS</td>\n",
       "      <td>Sedan</td>\n",
       "      <td>5</td>\n",
       "      <td>55480</td>\n",
       "      <td>28.72</td>\n",
       "      <td>72.45</td>\n",
       "      <td>151.34</td>\n",
       "      <td>2.088889</td>\n",
       "      <td>mass</td>\n",
       "    </tr>\n",
       "    <tr>\n",
       "      <th>1</th>\n",
       "      <td>Volkswagen</td>\n",
       "      <td>ID.3 Pure</td>\n",
       "      <td>10.0</td>\n",
       "      <td>160</td>\n",
       "      <td>270</td>\n",
       "      <td>167</td>\n",
       "      <td>101</td>\n",
       "      <td>250.0</td>\n",
       "      <td>Yes</td>\n",
       "      <td>RWD</td>\n",
       "      <td>Type 2 CCS</td>\n",
       "      <td>Hatchback</td>\n",
       "      <td>5</td>\n",
       "      <td>30000</td>\n",
       "      <td>64.80</td>\n",
       "      <td>45.09</td>\n",
       "      <td>41.75</td>\n",
       "      <td>0.925926</td>\n",
       "      <td>budget</td>\n",
       "    </tr>\n",
       "    <tr>\n",
       "      <th>2</th>\n",
       "      <td>Polestar</td>\n",
       "      <td>2</td>\n",
       "      <td>4.7</td>\n",
       "      <td>210</td>\n",
       "      <td>400</td>\n",
       "      <td>181</td>\n",
       "      <td>102</td>\n",
       "      <td>620.0</td>\n",
       "      <td>Yes</td>\n",
       "      <td>AWD</td>\n",
       "      <td>Type 2 CCS</td>\n",
       "      <td>Liftback</td>\n",
       "      <td>5</td>\n",
       "      <td>56440</td>\n",
       "      <td>38.71</td>\n",
       "      <td>72.40</td>\n",
       "      <td>112.22</td>\n",
       "      <td>1.550000</td>\n",
       "      <td>mass</td>\n",
       "    </tr>\n",
       "    <tr>\n",
       "      <th>3</th>\n",
       "      <td>BMW</td>\n",
       "      <td>iX3</td>\n",
       "      <td>6.8</td>\n",
       "      <td>180</td>\n",
       "      <td>360</td>\n",
       "      <td>206</td>\n",
       "      <td>103</td>\n",
       "      <td>560.0</td>\n",
       "      <td>Yes</td>\n",
       "      <td>RWD</td>\n",
       "      <td>Type 2 CCS</td>\n",
       "      <td>SUV</td>\n",
       "      <td>5</td>\n",
       "      <td>68040</td>\n",
       "      <td>38.57</td>\n",
       "      <td>74.16</td>\n",
       "      <td>115.36</td>\n",
       "      <td>1.555556</td>\n",
       "      <td>premium</td>\n",
       "    </tr>\n",
       "    <tr>\n",
       "      <th>4</th>\n",
       "      <td>Honda</td>\n",
       "      <td>e</td>\n",
       "      <td>9.5</td>\n",
       "      <td>145</td>\n",
       "      <td>170</td>\n",
       "      <td>168</td>\n",
       "      <td>104</td>\n",
       "      <td>190.0</td>\n",
       "      <td>Yes</td>\n",
       "      <td>RWD</td>\n",
       "      <td>Type 2 CCS</td>\n",
       "      <td>Hatchback</td>\n",
       "      <td>4</td>\n",
       "      <td>32997</td>\n",
       "      <td>53.68</td>\n",
       "      <td>28.56</td>\n",
       "      <td>31.92</td>\n",
       "      <td>1.117647</td>\n",
       "      <td>mass</td>\n",
       "    </tr>\n",
       "  </tbody>\n",
       "</table>\n",
       "</div>"
      ],
      "text/plain": [
       "        Brand                          Model  AccelSec  TopSpeed_KmH  \\\n",
       "0       Tesla  Model 3 Long Range Dual Motor       4.6           233   \n",
       "1  Volkswagen                      ID.3 Pure      10.0           160   \n",
       "2    Polestar                              2       4.7           210   \n",
       "3         BMW                            iX3       6.8           180   \n",
       "4       Honda                              e       9.5           145   \n",
       "\n",
       "   Range_Km  Efficiency_WhKm  connector  FastCharge_KmH RapidCharge  \\\n",
       "0       450              161        100           940.0         Yes   \n",
       "1       270              167        101           250.0         Yes   \n",
       "2       400              181        102           620.0         Yes   \n",
       "3       360              206        103           560.0         Yes   \n",
       "4       170              168        104           190.0         Yes   \n",
       "\n",
       "  PowerTrain    PlugType  BodyStyle  Seats  PriceEuro  Max_Ladedauer_in_min  \\\n",
       "0        AWD  Type 2 CCS      Sedan      5      55480                 28.72   \n",
       "1        RWD  Type 2 CCS  Hatchback      5      30000                 64.80   \n",
       "2        AWD  Type 2 CCS   Liftback      5      56440                 38.71   \n",
       "3        RWD  Type 2 CCS        SUV      5      68040                 38.57   \n",
       "4        RWD  Type 2 CCS  Hatchback      4      32997                 53.68   \n",
       "\n",
       "   Capacity_kWh  ChargingPower_kWh    C_Rate  segment  \n",
       "0         72.45             151.34  2.088889     mass  \n",
       "1         45.09              41.75  0.925926   budget  \n",
       "2         72.40             112.22  1.550000     mass  \n",
       "3         74.16             115.36  1.555556  premium  \n",
       "4         28.56              31.92  1.117647     mass  "
      ]
     },
     "execution_count": 53,
     "metadata": {},
     "output_type": "execute_result"
    }
   ],
   "source": [
    "kategorien = ['budget','mass','premium']\n",
    "\n",
    "max_pr = df.PriceEuro.max()\n",
    "\n",
    "df[\"segment\"] = pd.cut(df.loc[:, \"PriceEuro\"], bins = [0, 30000, 60000, max_pr] , labels = kategorien)\n",
    "\n",
    "df.head()"
   ]
  },
  {
   "cell_type": "code",
   "execution_count": 54,
   "metadata": {},
   "outputs": [
    {
     "data": {
      "text/plain": [
       "0         mass\n",
       "1       budget\n",
       "2         mass\n",
       "3      premium\n",
       "4         mass\n",
       "        ...   \n",
       "98        mass\n",
       "99     premium\n",
       "100       mass\n",
       "101    premium\n",
       "102    premium\n",
       "Name: segment, Length: 103, dtype: category\n",
       "Categories (3, object): ['budget' < 'mass' < 'premium']"
      ]
     },
     "execution_count": 54,
     "metadata": {},
     "output_type": "execute_result"
    }
   ],
   "source": [
    "df[\"segment\"]"
   ]
  },
  {
   "cell_type": "markdown",
   "metadata": {},
   "source": [
    "### Otimierung des Speicherplatzes"
   ]
  },
  {
   "cell_type": "code",
   "execution_count": 55,
   "metadata": {},
   "outputs": [
    {
     "data": {
      "text/plain": [
       "Brand                     object\n",
       "Model                     object\n",
       "AccelSec                 float64\n",
       "TopSpeed_KmH               int64\n",
       "Range_Km                   int64\n",
       "Efficiency_WhKm            int64\n",
       "connector                  int64\n",
       "FastCharge_KmH           float64\n",
       "RapidCharge               object\n",
       "PowerTrain                object\n",
       "PlugType                  object\n",
       "BodyStyle                 object\n",
       "Seats                      int32\n",
       "PriceEuro                  int64\n",
       "Max_Ladedauer_in_min     float64\n",
       "Capacity_kWh             float64\n",
       "ChargingPower_kWh        float64\n",
       "C_Rate                   float64\n",
       "segment                 category\n",
       "dtype: object"
      ]
     },
     "execution_count": 55,
     "metadata": {},
     "output_type": "execute_result"
    }
   ],
   "source": [
    "df.dtypes"
   ]
  },
  {
   "cell_type": "code",
   "execution_count": 56,
   "metadata": {},
   "outputs": [
    {
     "data": {
      "text/plain": [
       "Index                    824\n",
       "Brand                   6439\n",
       "Model                   7254\n",
       "AccelSec                 824\n",
       "TopSpeed_KmH             824\n",
       "Range_Km                 824\n",
       "Efficiency_WhKm          824\n",
       "connector                824\n",
       "FastCharge_KmH           824\n",
       "RapidCharge             6175\n",
       "PowerTrain              6180\n",
       "PlugType                6911\n",
       "BodyStyle               6439\n",
       "Seats                    412\n",
       "PriceEuro                824\n",
       "Max_Ladedauer_in_min     824\n",
       "Capacity_kWh             824\n",
       "ChargingPower_kWh        824\n",
       "C_Rate                   824\n",
       "segment                  399\n",
       "dtype: int64"
      ]
     },
     "execution_count": 56,
     "metadata": {},
     "output_type": "execute_result"
    }
   ],
   "source": [
    "df.memory_usage(deep=True)"
   ]
  },
  {
   "cell_type": "code",
   "execution_count": 57,
   "metadata": {},
   "outputs": [],
   "source": [
    "df_opti = df.copy()"
   ]
  },
  {
   "cell_type": "code",
   "execution_count": 58,
   "metadata": {},
   "outputs": [],
   "source": [
    "df_opti.drop(columns = 'connector', inplace = True)"
   ]
  },
  {
   "cell_type": "code",
   "execution_count": 59,
   "metadata": {},
   "outputs": [],
   "source": [
    "df_opti.loc[:, 'Brand'] = df_opti.loc[:, 'Brand'].astype(\"category\")"
   ]
  },
  {
   "cell_type": "code",
   "execution_count": 60,
   "metadata": {},
   "outputs": [
    {
     "data": {
      "text/plain": [
       "['Tesla', 'Volkswagen', 'Polestar', 'BMW', 'Honda', ..., 'Ford', 'Byton', 'Sono', 'Smart', 'Fiat']\n",
       "Length: 33\n",
       "Categories (33, object): ['Tesla', 'Volkswagen', 'Polestar', 'BMW', ..., 'Byton', 'Sono', 'Smart', 'Fiat']"
      ]
     },
     "execution_count": 60,
     "metadata": {},
     "output_type": "execute_result"
    }
   ],
   "source": [
    "df_opti.loc[:, 'Brand'].unique()"
   ]
  },
  {
   "cell_type": "code",
   "execution_count": 61,
   "metadata": {},
   "outputs": [],
   "source": [
    "df_opti.loc[:,[\n",
    "    \"AccelSec\",\n",
    "    \"Max_Ladedauer_in_min\",\n",
    "    \"Capacity_kWh\",\n",
    "    \"ChargingPower_kWh\",\n",
    "    \"C_Rate\"]] = df_opti.loc[:,[\n",
    "        \"AccelSec\",\n",
    "        \"Max_Ladedauer_in_min\",\n",
    "        \"Capacity_kWh\",\n",
    "        \"ChargingPower_kWh\",\n",
    "        \"C_Rate\"]].apply(pd.to_numeric, downcast=\"float\")"
   ]
  },
  {
   "cell_type": "code",
   "execution_count": 62,
   "metadata": {},
   "outputs": [
    {
     "data": {
      "text/plain": [
       "Brand                   category\n",
       "Model                     object\n",
       "AccelSec                 float32\n",
       "TopSpeed_KmH               int64\n",
       "Range_Km                   int64\n",
       "Efficiency_WhKm            int64\n",
       "FastCharge_KmH           float64\n",
       "RapidCharge               object\n",
       "PowerTrain                object\n",
       "PlugType                  object\n",
       "BodyStyle                 object\n",
       "Seats                      int32\n",
       "PriceEuro                  int64\n",
       "Max_Ladedauer_in_min     float32\n",
       "Capacity_kWh             float32\n",
       "ChargingPower_kWh        float32\n",
       "C_Rate                   float32\n",
       "segment                 category\n",
       "dtype: object"
      ]
     },
     "execution_count": 62,
     "metadata": {},
     "output_type": "execute_result"
    }
   ],
   "source": [
    "df_opti.dtypes"
   ]
  },
  {
   "cell_type": "code",
   "execution_count": 63,
   "metadata": {},
   "outputs": [],
   "source": [
    "df_opti.loc[:, 'FastCharge_KmH'] = df_opti.loc[:, 'FastCharge_KmH'].astype(\"int\")"
   ]
  },
  {
   "cell_type": "code",
   "execution_count": 64,
   "metadata": {},
   "outputs": [],
   "source": [
    "df_opti.loc[:,[\n",
    "    \"TopSpeed_KmH\",\n",
    "    \"Range_Km\",\n",
    "    \"Efficiency_WhKm\",\n",
    "    \"FastCharge_KmH\",\n",
    "    \"Seats\",\n",
    "    \"PriceEuro\"]] = df_opti.loc[:,[\n",
    "        \"TopSpeed_KmH\",\n",
    "        \"Range_Km\",\n",
    "        \"Efficiency_WhKm\",\n",
    "        \"FastCharge_KmH\",\n",
    "        \"Seats\",\n",
    "        \"PriceEuro\"]].apply(pd.to_numeric, downcast=\"integer\")"
   ]
  },
  {
   "cell_type": "code",
   "execution_count": 65,
   "metadata": {},
   "outputs": [],
   "source": [
    "df_opti.loc[:, [\n",
    "    'RapidCharge',\n",
    "    'PowerTrain',\n",
    "    'PlugType',\n",
    "    'BodyStyle']] = df_opti.loc[:, [\n",
    "        'RapidCharge',\n",
    "        'PowerTrain',\n",
    "        'PlugType',\n",
    "        'BodyStyle']].astype(\"category\")"
   ]
  },
  {
   "cell_type": "code",
   "execution_count": 66,
   "metadata": {},
   "outputs": [
    {
     "data": {
      "text/plain": [
       "Brand                   category\n",
       "Model                     object\n",
       "AccelSec                 float32\n",
       "TopSpeed_KmH               int16\n",
       "Range_Km                   int16\n",
       "Efficiency_WhKm            int16\n",
       "FastCharge_KmH             int16\n",
       "RapidCharge             category\n",
       "PowerTrain              category\n",
       "PlugType                category\n",
       "BodyStyle               category\n",
       "Seats                       int8\n",
       "PriceEuro                  int32\n",
       "Max_Ladedauer_in_min     float32\n",
       "Capacity_kWh             float32\n",
       "ChargingPower_kWh        float32\n",
       "C_Rate                   float32\n",
       "segment                 category\n",
       "dtype: object"
      ]
     },
     "execution_count": 66,
     "metadata": {},
     "output_type": "execute_result"
    }
   ],
   "source": [
    "df_opti.dtypes"
   ]
  },
  {
   "cell_type": "code",
   "execution_count": 67,
   "metadata": {},
   "outputs": [
    {
     "data": {
      "text/plain": [
       "Index                    824\n",
       "Brand                   3232\n",
       "Model                   7254\n",
       "AccelSec                 412\n",
       "TopSpeed_KmH             206\n",
       "Range_Km                 206\n",
       "Efficiency_WhKm          206\n",
       "FastCharge_KmH           206\n",
       "RapidCharge              330\n",
       "PowerTrain               391\n",
       "PlugType                 616\n",
       "BodyStyle                966\n",
       "Seats                    103\n",
       "PriceEuro                412\n",
       "Max_Ladedauer_in_min     412\n",
       "Capacity_kWh             412\n",
       "ChargingPower_kWh        412\n",
       "C_Rate                   412\n",
       "segment                  399\n",
       "dtype: int64"
      ]
     },
     "execution_count": 67,
     "metadata": {},
     "output_type": "execute_result"
    }
   ],
   "source": [
    "df_opti.memory_usage(deep=True)"
   ]
  },
  {
   "cell_type": "code",
   "execution_count": 68,
   "metadata": {},
   "outputs": [],
   "source": [
    "# df_opti['Test'] =  df_opti['Range_Km'].astype(int) * df_opti['Efficiency_WhKm'].astype(int)"
   ]
  },
  {
   "cell_type": "code",
   "execution_count": 69,
   "metadata": {},
   "outputs": [],
   "source": [
    "# df_opti['Test_2'] = df['Range_Km'] * df['Efficiency_WhKm']"
   ]
  },
  {
   "cell_type": "code",
   "execution_count": 70,
   "metadata": {},
   "outputs": [],
   "source": [
    "# df_opti['Test'].describe()"
   ]
  },
  {
   "cell_type": "code",
   "execution_count": 71,
   "metadata": {},
   "outputs": [],
   "source": [
    "# df_opti['Test_2'].describe()"
   ]
  },
  {
   "cell_type": "code",
   "execution_count": 72,
   "metadata": {},
   "outputs": [],
   "source": [
    "# df_opti.dtypes"
   ]
  },
  {
   "cell_type": "markdown",
   "metadata": {},
   "source": [
    "### Speicherung des DataFrames für die Visualisierung"
   ]
  },
  {
   "cell_type": "code",
   "execution_count": 73,
   "metadata": {},
   "outputs": [],
   "source": [
    "df_opti.to_pickle('ecar_after_preprocessing.pkl')"
   ]
  }
 ],
 "metadata": {
  "hide_input": false,
  "kernelspec": {
   "display_name": "Python 3",
   "language": "python",
   "name": "python3"
  },
  "language_info": {
   "codemirror_mode": {
    "name": "ipython",
    "version": 3
   },
   "file_extension": ".py",
   "mimetype": "text/x-python",
   "name": "python",
   "nbconvert_exporter": "python",
   "pygments_lexer": "ipython3",
   "version": "3.8.8"
  },
  "nbTranslate": {
   "displayLangs": [
    "*"
   ],
   "hotkey": "alt-t",
   "langInMainMenu": true,
   "sourceLang": "en",
   "targetLang": "fr",
   "useGoogleTranslate": true
  },
  "toc": {
   "base_numbering": 1,
   "nav_menu": {},
   "number_sections": true,
   "sideBar": true,
   "skip_h1_title": false,
   "title_cell": "Table of Contents",
   "title_sidebar": "Contents",
   "toc_cell": false,
   "toc_position": {
    "height": "calc(100% - 180px)",
    "left": "10px",
    "top": "150px",
    "width": "422.663px"
   },
   "toc_section_display": true,
   "toc_window_display": true
  },
  "varInspector": {
   "cols": {
    "lenName": 16,
    "lenType": 16,
    "lenVar": 40
   },
   "kernels_config": {
    "python": {
     "delete_cmd_postfix": "",
     "delete_cmd_prefix": "del ",
     "library": "var_list.py",
     "varRefreshCmd": "print(var_dic_list())"
    },
    "r": {
     "delete_cmd_postfix": ") ",
     "delete_cmd_prefix": "rm(",
     "library": "var_list.r",
     "varRefreshCmd": "cat(var_dic_list()) "
    }
   },
   "types_to_exclude": [
    "module",
    "function",
    "builtin_function_or_method",
    "instance",
    "_Feature"
   ],
   "window_display": false
  }
 },
 "nbformat": 4,
 "nbformat_minor": 4
}
