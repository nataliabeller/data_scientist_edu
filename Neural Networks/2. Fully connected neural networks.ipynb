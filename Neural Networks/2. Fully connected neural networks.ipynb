{
 "cells": [
  {
   "cell_type": "code",
   "execution_count": 1,
   "id": "e3801947",
   "metadata": {},
   "outputs": [],
   "source": [
    "from tensorflow.keras.models import Sequential \n",
    "from tensorflow.keras.layers import Dense, Activation, Dropout, BatchNormalization \n",
    "from tensorflow.keras import utils \n",
    "from tensorflow.keras.preprocessing import image \n",
    "from tensorflow.keras.optimizers import Adam,SGD\n",
    "from tensorflow.keras.callbacks import Callback\n",
    "\n",
    "import pandas as pd\n",
    "import numpy as np \n",
    "import matplotlib.pyplot as plt\n",
    "\n",
    "from sklearn.preprocessing import LabelEncoder, StandardScaler\n",
    "from sklearn import preprocessing\n",
    "\n",
    "import time\n",
    "\n",
    "%matplotlib inline"
   ]
  },
  {
   "cell_type": "markdown",
   "id": "2961bf85",
   "metadata": {},
   "source": [
    "## Aufgabe 1"
   ]
  },
  {
   "cell_type": "code",
   "execution_count": 2,
   "id": "ad43e869",
   "metadata": {},
   "outputs": [
    {
     "data": {
      "text/html": [
       "<div>\n",
       "<style scoped>\n",
       "    .dataframe tbody tr th:only-of-type {\n",
       "        vertical-align: middle;\n",
       "    }\n",
       "\n",
       "    .dataframe tbody tr th {\n",
       "        vertical-align: top;\n",
       "    }\n",
       "\n",
       "    .dataframe thead th {\n",
       "        text-align: right;\n",
       "    }\n",
       "</style>\n",
       "<table border=\"1\" class=\"dataframe\">\n",
       "  <thead>\n",
       "    <tr style=\"text-align: right;\">\n",
       "      <th></th>\n",
       "      <th>0</th>\n",
       "      <th>1</th>\n",
       "      <th>2</th>\n",
       "      <th>3</th>\n",
       "      <th>4</th>\n",
       "      <th>5</th>\n",
       "      <th>6</th>\n",
       "      <th>7</th>\n",
       "      <th>8</th>\n",
       "      <th>9</th>\n",
       "      <th>...</th>\n",
       "      <th>51</th>\n",
       "      <th>52</th>\n",
       "      <th>53</th>\n",
       "      <th>54</th>\n",
       "      <th>55</th>\n",
       "      <th>56</th>\n",
       "      <th>57</th>\n",
       "      <th>58</th>\n",
       "      <th>59</th>\n",
       "      <th>60</th>\n",
       "    </tr>\n",
       "  </thead>\n",
       "  <tbody>\n",
       "    <tr>\n",
       "      <th>0</th>\n",
       "      <td>0.0200</td>\n",
       "      <td>0.0371</td>\n",
       "      <td>0.0428</td>\n",
       "      <td>0.0207</td>\n",
       "      <td>0.0954</td>\n",
       "      <td>0.0986</td>\n",
       "      <td>0.1539</td>\n",
       "      <td>0.1601</td>\n",
       "      <td>0.3109</td>\n",
       "      <td>0.2111</td>\n",
       "      <td>...</td>\n",
       "      <td>0.0027</td>\n",
       "      <td>0.0065</td>\n",
       "      <td>0.0159</td>\n",
       "      <td>0.0072</td>\n",
       "      <td>0.0167</td>\n",
       "      <td>0.0180</td>\n",
       "      <td>0.0084</td>\n",
       "      <td>0.0090</td>\n",
       "      <td>0.0032</td>\n",
       "      <td>R</td>\n",
       "    </tr>\n",
       "    <tr>\n",
       "      <th>1</th>\n",
       "      <td>0.0453</td>\n",
       "      <td>0.0523</td>\n",
       "      <td>0.0843</td>\n",
       "      <td>0.0689</td>\n",
       "      <td>0.1183</td>\n",
       "      <td>0.2583</td>\n",
       "      <td>0.2156</td>\n",
       "      <td>0.3481</td>\n",
       "      <td>0.3337</td>\n",
       "      <td>0.2872</td>\n",
       "      <td>...</td>\n",
       "      <td>0.0084</td>\n",
       "      <td>0.0089</td>\n",
       "      <td>0.0048</td>\n",
       "      <td>0.0094</td>\n",
       "      <td>0.0191</td>\n",
       "      <td>0.0140</td>\n",
       "      <td>0.0049</td>\n",
       "      <td>0.0052</td>\n",
       "      <td>0.0044</td>\n",
       "      <td>R</td>\n",
       "    </tr>\n",
       "    <tr>\n",
       "      <th>2</th>\n",
       "      <td>0.0262</td>\n",
       "      <td>0.0582</td>\n",
       "      <td>0.1099</td>\n",
       "      <td>0.1083</td>\n",
       "      <td>0.0974</td>\n",
       "      <td>0.2280</td>\n",
       "      <td>0.2431</td>\n",
       "      <td>0.3771</td>\n",
       "      <td>0.5598</td>\n",
       "      <td>0.6194</td>\n",
       "      <td>...</td>\n",
       "      <td>0.0232</td>\n",
       "      <td>0.0166</td>\n",
       "      <td>0.0095</td>\n",
       "      <td>0.0180</td>\n",
       "      <td>0.0244</td>\n",
       "      <td>0.0316</td>\n",
       "      <td>0.0164</td>\n",
       "      <td>0.0095</td>\n",
       "      <td>0.0078</td>\n",
       "      <td>R</td>\n",
       "    </tr>\n",
       "    <tr>\n",
       "      <th>3</th>\n",
       "      <td>0.0100</td>\n",
       "      <td>0.0171</td>\n",
       "      <td>0.0623</td>\n",
       "      <td>0.0205</td>\n",
       "      <td>0.0205</td>\n",
       "      <td>0.0368</td>\n",
       "      <td>0.1098</td>\n",
       "      <td>0.1276</td>\n",
       "      <td>0.0598</td>\n",
       "      <td>0.1264</td>\n",
       "      <td>...</td>\n",
       "      <td>0.0121</td>\n",
       "      <td>0.0036</td>\n",
       "      <td>0.0150</td>\n",
       "      <td>0.0085</td>\n",
       "      <td>0.0073</td>\n",
       "      <td>0.0050</td>\n",
       "      <td>0.0044</td>\n",
       "      <td>0.0040</td>\n",
       "      <td>0.0117</td>\n",
       "      <td>R</td>\n",
       "    </tr>\n",
       "    <tr>\n",
       "      <th>4</th>\n",
       "      <td>0.0762</td>\n",
       "      <td>0.0666</td>\n",
       "      <td>0.0481</td>\n",
       "      <td>0.0394</td>\n",
       "      <td>0.0590</td>\n",
       "      <td>0.0649</td>\n",
       "      <td>0.1209</td>\n",
       "      <td>0.2467</td>\n",
       "      <td>0.3564</td>\n",
       "      <td>0.4459</td>\n",
       "      <td>...</td>\n",
       "      <td>0.0031</td>\n",
       "      <td>0.0054</td>\n",
       "      <td>0.0105</td>\n",
       "      <td>0.0110</td>\n",
       "      <td>0.0015</td>\n",
       "      <td>0.0072</td>\n",
       "      <td>0.0048</td>\n",
       "      <td>0.0107</td>\n",
       "      <td>0.0094</td>\n",
       "      <td>R</td>\n",
       "    </tr>\n",
       "  </tbody>\n",
       "</table>\n",
       "<p>5 rows × 61 columns</p>\n",
       "</div>"
      ],
      "text/plain": [
       "       0       1       2       3       4       5       6       7       8   \\\n",
       "0  0.0200  0.0371  0.0428  0.0207  0.0954  0.0986  0.1539  0.1601  0.3109   \n",
       "1  0.0453  0.0523  0.0843  0.0689  0.1183  0.2583  0.2156  0.3481  0.3337   \n",
       "2  0.0262  0.0582  0.1099  0.1083  0.0974  0.2280  0.2431  0.3771  0.5598   \n",
       "3  0.0100  0.0171  0.0623  0.0205  0.0205  0.0368  0.1098  0.1276  0.0598   \n",
       "4  0.0762  0.0666  0.0481  0.0394  0.0590  0.0649  0.1209  0.2467  0.3564   \n",
       "\n",
       "       9   ...      51      52      53      54      55      56      57  \\\n",
       "0  0.2111  ...  0.0027  0.0065  0.0159  0.0072  0.0167  0.0180  0.0084   \n",
       "1  0.2872  ...  0.0084  0.0089  0.0048  0.0094  0.0191  0.0140  0.0049   \n",
       "2  0.6194  ...  0.0232  0.0166  0.0095  0.0180  0.0244  0.0316  0.0164   \n",
       "3  0.1264  ...  0.0121  0.0036  0.0150  0.0085  0.0073  0.0050  0.0044   \n",
       "4  0.4459  ...  0.0031  0.0054  0.0105  0.0110  0.0015  0.0072  0.0048   \n",
       "\n",
       "       58      59  60  \n",
       "0  0.0090  0.0032   R  \n",
       "1  0.0052  0.0044   R  \n",
       "2  0.0095  0.0078   R  \n",
       "3  0.0040  0.0117   R  \n",
       "4  0.0107  0.0094   R  \n",
       "\n",
       "[5 rows x 61 columns]"
      ]
     },
     "execution_count": 2,
     "metadata": {},
     "output_type": "execute_result"
    }
   ],
   "source": [
    "df = pd.read_csv(\"sonar.csv\", header=None)\n",
    "df.head() "
   ]
  },
  {
   "cell_type": "code",
   "execution_count": 3,
   "id": "b32863b2",
   "metadata": {},
   "outputs": [
    {
     "name": "stdout",
     "output_type": "stream",
     "text": [
      "(208, 61)\n"
     ]
    }
   ],
   "source": [
    "print(df.shape)"
   ]
  },
  {
   "cell_type": "code",
   "execution_count": 4,
   "id": "2b1150c0",
   "metadata": {},
   "outputs": [
    {
     "name": "stdout",
     "output_type": "stream",
     "text": [
      "(208, 60)\n",
      "(208,)\n",
      "[0 0 0 0 0 0 0 0 0 0 0 0 0 0 0 0 0 0 0 0 0 0 0 0 0 0 0 0 0 0 0 0 0 0 0 0 0\n",
      " 0 0 0 0 0 0 0 0 0 0 0 0 0 0 0 0 0 0 0 0 0 0 0 0 0 0 0 0 0 0 0 0 0 0 0 0 0\n",
      " 0 0 0 0 0 0 0 0 0 0 0 0 0 0 0 0 0 0 0 0 0 0 0 1 1 1 1 1 1 1 1 1 1 1 1 1 1\n",
      " 1 1 1 1 1 1 1 1 1 1 1 1 1 1 1 1 1 1 1 1 1 1 1 1 1 1 1 1 1 1 1 1 1 1 1 1 1\n",
      " 1 1 1 1 1 1 1 1 1 1 1 1 1 1 1 1 1 1 1 1 1 1 1 1 1 1 1 1 1 1 1 1 1 1 1 1 1\n",
      " 1 1 1 1 1 1 1 1 1 1 1 1 1 1 1 1 1 1 1 1 1 1 1]\n"
     ]
    }
   ],
   "source": [
    "dataset = df.values\n",
    "\n",
    "X = dataset[:,:-1].astype(float)\n",
    "Y = dataset[:,-1]\n",
    "\n",
    "Y[Y=='R']='0'\n",
    "Y[Y=='M']='1'\n",
    "Y = Y.astype(int)\n",
    "\n",
    "print(X.shape)\n",
    "print(Y.shape)\n",
    "print(Y)"
   ]
  },
  {
   "cell_type": "markdown",
   "id": "dc6b422b",
   "metadata": {},
   "source": [
    "## Erstellung eines Trainings-, Validierungs- und Test Dataset"
   ]
  },
  {
   "cell_type": "code",
   "execution_count": 5,
   "id": "7f53be14",
   "metadata": {},
   "outputs": [],
   "source": [
    "from sklearn.model_selection import train_test_split"
   ]
  },
  {
   "cell_type": "code",
   "execution_count": 6,
   "id": "13e9f488",
   "metadata": {},
   "outputs": [
    {
     "name": "stdout",
     "output_type": "stream",
     "text": [
      "(176, 60)\n",
      "(32, 60)\n",
      "(176,)\n",
      "(32,)\n"
     ]
    }
   ],
   "source": [
    "X_train, X_test, y_train, y_test = train_test_split(X, Y, test_size=0.15, shuffle=True)\n",
    "\n",
    "print (X_train.shape)\n",
    "print (X_test.shape)\n",
    "print (y_train.shape)\n",
    "print (y_test.shape)"
   ]
  },
  {
   "cell_type": "code",
   "execution_count": 7,
   "id": "d764b553",
   "metadata": {},
   "outputs": [],
   "source": [
    "def createModel():\n",
    "    model = Sequential()\n",
    "    model.add(Dense(60, input_dim=60, activation='relu'))\n",
    "    model.add(Dense(30,  activation='relu'))\n",
    "    model.add(Dense(1, activation='sigmoid'))\n",
    "    \n",
    "    model.compile(loss='binary_crossentropy', optimizer=Adam(lr=0.001), metrics=['accuracy'])\n",
    "    \n",
    "    return model"
   ]
  },
  {
   "cell_type": "code",
   "execution_count": 8,
   "id": "450f385a",
   "metadata": {},
   "outputs": [
    {
     "name": "stdout",
     "output_type": "stream",
     "text": [
      "Epoch 1/100\n",
      "18/18 [==============================] - 0s 11ms/step - loss: 0.6908 - accuracy: 0.5500 - val_loss: 0.7014 - val_accuracy: 0.4722\n",
      "Epoch 2/100\n",
      "18/18 [==============================] - 0s 2ms/step - loss: 0.6654 - accuracy: 0.5571 - val_loss: 0.6829 - val_accuracy: 0.5000\n",
      "Epoch 3/100\n",
      "18/18 [==============================] - 0s 2ms/step - loss: 0.6464 - accuracy: 0.5786 - val_loss: 0.6688 - val_accuracy: 0.5833\n",
      "Epoch 4/100\n",
      "18/18 [==============================] - 0s 2ms/step - loss: 0.6271 - accuracy: 0.6571 - val_loss: 0.6471 - val_accuracy: 0.6111\n",
      "Epoch 5/100\n",
      "18/18 [==============================] - 0s 2ms/step - loss: 0.6101 - accuracy: 0.7000 - val_loss: 0.6214 - val_accuracy: 0.6944\n",
      "Epoch 6/100\n",
      "18/18 [==============================] - 0s 2ms/step - loss: 0.5914 - accuracy: 0.7214 - val_loss: 0.6099 - val_accuracy: 0.6667\n",
      "Epoch 7/100\n",
      "18/18 [==============================] - 0s 2ms/step - loss: 0.5672 - accuracy: 0.7429 - val_loss: 0.5866 - val_accuracy: 0.8056\n",
      "Epoch 8/100\n",
      "18/18 [==============================] - 0s 2ms/step - loss: 0.5459 - accuracy: 0.7571 - val_loss: 0.5689 - val_accuracy: 0.7778\n",
      "Epoch 9/100\n",
      "18/18 [==============================] - 0s 2ms/step - loss: 0.5261 - accuracy: 0.7714 - val_loss: 0.5501 - val_accuracy: 0.7778\n",
      "Epoch 10/100\n",
      "18/18 [==============================] - 0s 2ms/step - loss: 0.5078 - accuracy: 0.7786 - val_loss: 0.5234 - val_accuracy: 0.7778\n",
      "Epoch 11/100\n",
      "18/18 [==============================] - 0s 2ms/step - loss: 0.4914 - accuracy: 0.7357 - val_loss: 0.5386 - val_accuracy: 0.7778\n",
      "Epoch 12/100\n",
      "18/18 [==============================] - 0s 2ms/step - loss: 0.4793 - accuracy: 0.7786 - val_loss: 0.5240 - val_accuracy: 0.7778\n",
      "Epoch 13/100\n",
      "18/18 [==============================] - 0s 2ms/step - loss: 0.4571 - accuracy: 0.7714 - val_loss: 0.4868 - val_accuracy: 0.8333\n",
      "Epoch 14/100\n",
      "18/18 [==============================] - 0s 2ms/step - loss: 0.4556 - accuracy: 0.8000 - val_loss: 0.4892 - val_accuracy: 0.7778\n",
      "Epoch 15/100\n",
      "18/18 [==============================] - 0s 2ms/step - loss: 0.4279 - accuracy: 0.7857 - val_loss: 0.4805 - val_accuracy: 0.7500\n",
      "Epoch 16/100\n",
      "18/18 [==============================] - 0s 2ms/step - loss: 0.4102 - accuracy: 0.8143 - val_loss: 0.4657 - val_accuracy: 0.8056\n",
      "Epoch 17/100\n",
      "18/18 [==============================] - 0s 2ms/step - loss: 0.3972 - accuracy: 0.7857 - val_loss: 0.4496 - val_accuracy: 0.8056\n",
      "Epoch 18/100\n",
      "18/18 [==============================] - 0s 2ms/step - loss: 0.3898 - accuracy: 0.8571 - val_loss: 0.4887 - val_accuracy: 0.7778\n",
      "Epoch 19/100\n",
      "18/18 [==============================] - 0s 2ms/step - loss: 0.3748 - accuracy: 0.8357 - val_loss: 0.4414 - val_accuracy: 0.8611\n",
      "Epoch 20/100\n",
      "18/18 [==============================] - 0s 2ms/step - loss: 0.3853 - accuracy: 0.8000 - val_loss: 0.4712 - val_accuracy: 0.7500\n",
      "Epoch 21/100\n",
      "18/18 [==============================] - 0s 2ms/step - loss: 0.3678 - accuracy: 0.8357 - val_loss: 0.4852 - val_accuracy: 0.7778\n",
      "Epoch 22/100\n",
      "18/18 [==============================] - 0s 2ms/step - loss: 0.3519 - accuracy: 0.8500 - val_loss: 0.4266 - val_accuracy: 0.8056\n",
      "Epoch 23/100\n",
      "18/18 [==============================] - 0s 2ms/step - loss: 0.3510 - accuracy: 0.8643 - val_loss: 0.4341 - val_accuracy: 0.8056\n",
      "Epoch 24/100\n",
      "18/18 [==============================] - 0s 2ms/step - loss: 0.3324 - accuracy: 0.8929 - val_loss: 0.4217 - val_accuracy: 0.7778\n",
      "Epoch 25/100\n",
      "18/18 [==============================] - 0s 2ms/step - loss: 0.3291 - accuracy: 0.8786 - val_loss: 0.4479 - val_accuracy: 0.8056\n",
      "Epoch 26/100\n",
      "18/18 [==============================] - 0s 2ms/step - loss: 0.3297 - accuracy: 0.8643 - val_loss: 0.5003 - val_accuracy: 0.7222\n",
      "Epoch 27/100\n",
      "18/18 [==============================] - 0s 2ms/step - loss: 0.3229 - accuracy: 0.8786 - val_loss: 0.4062 - val_accuracy: 0.7778\n",
      "Epoch 28/100\n",
      "18/18 [==============================] - 0s 2ms/step - loss: 0.3116 - accuracy: 0.8643 - val_loss: 0.4020 - val_accuracy: 0.8611\n",
      "Epoch 29/100\n",
      "18/18 [==============================] - 0s 2ms/step - loss: 0.3079 - accuracy: 0.8929 - val_loss: 0.4116 - val_accuracy: 0.8056\n",
      "Epoch 30/100\n",
      "18/18 [==============================] - 0s 2ms/step - loss: 0.3118 - accuracy: 0.8786 - val_loss: 0.4029 - val_accuracy: 0.8333\n",
      "Epoch 31/100\n",
      "18/18 [==============================] - 0s 2ms/step - loss: 0.2849 - accuracy: 0.9071 - val_loss: 0.4762 - val_accuracy: 0.7778\n",
      "Epoch 32/100\n",
      "18/18 [==============================] - 0s 2ms/step - loss: 0.2981 - accuracy: 0.8714 - val_loss: 0.4239 - val_accuracy: 0.7778\n",
      "Epoch 33/100\n",
      "18/18 [==============================] - 0s 2ms/step - loss: 0.2775 - accuracy: 0.8929 - val_loss: 0.4168 - val_accuracy: 0.8056\n",
      "Epoch 34/100\n",
      "18/18 [==============================] - 0s 2ms/step - loss: 0.2823 - accuracy: 0.8929 - val_loss: 0.5368 - val_accuracy: 0.7500\n",
      "Epoch 35/100\n",
      "18/18 [==============================] - 0s 2ms/step - loss: 0.2627 - accuracy: 0.8929 - val_loss: 0.3800 - val_accuracy: 0.8889\n",
      "Epoch 36/100\n",
      "18/18 [==============================] - 0s 2ms/step - loss: 0.2686 - accuracy: 0.8857 - val_loss: 0.4507 - val_accuracy: 0.7778\n",
      "Epoch 37/100\n",
      "18/18 [==============================] - 0s 2ms/step - loss: 0.2509 - accuracy: 0.9000 - val_loss: 0.4053 - val_accuracy: 0.8333\n",
      "Epoch 38/100\n",
      "18/18 [==============================] - 0s 2ms/step - loss: 0.2436 - accuracy: 0.9357 - val_loss: 0.4630 - val_accuracy: 0.7778\n",
      "Epoch 39/100\n",
      "18/18 [==============================] - 0s 2ms/step - loss: 0.2468 - accuracy: 0.9071 - val_loss: 0.3794 - val_accuracy: 0.8889\n",
      "Epoch 40/100\n",
      "18/18 [==============================] - 0s 2ms/step - loss: 0.2440 - accuracy: 0.8929 - val_loss: 0.3734 - val_accuracy: 0.8889\n",
      "Epoch 41/100\n",
      "18/18 [==============================] - ETA: 0s - loss: 0.1721 - accuracy: 1.00 - 0s 2ms/step - loss: 0.2459 - accuracy: 0.9000 - val_loss: 0.5327 - val_accuracy: 0.7778\n",
      "Epoch 42/100\n",
      "18/18 [==============================] - 0s 2ms/step - loss: 0.2443 - accuracy: 0.9000 - val_loss: 0.3855 - val_accuracy: 0.8333\n",
      "Epoch 43/100\n",
      "18/18 [==============================] - 0s 2ms/step - loss: 0.2223 - accuracy: 0.9143 - val_loss: 0.3565 - val_accuracy: 0.9167\n",
      "Epoch 44/100\n",
      "18/18 [==============================] - 0s 2ms/step - loss: 0.2329 - accuracy: 0.9286 - val_loss: 0.3794 - val_accuracy: 0.8611\n",
      "Epoch 45/100\n",
      "18/18 [==============================] - 0s 2ms/step - loss: 0.2078 - accuracy: 0.9357 - val_loss: 0.4224 - val_accuracy: 0.7778\n",
      "Epoch 46/100\n",
      "18/18 [==============================] - 0s 2ms/step - loss: 0.2065 - accuracy: 0.9429 - val_loss: 0.4332 - val_accuracy: 0.8056\n",
      "Epoch 47/100\n",
      "18/18 [==============================] - 0s 2ms/step - loss: 0.2025 - accuracy: 0.9429 - val_loss: 0.4131 - val_accuracy: 0.8056\n",
      "Epoch 48/100\n",
      "18/18 [==============================] - 0s 2ms/step - loss: 0.1880 - accuracy: 0.9357 - val_loss: 0.3544 - val_accuracy: 0.9167\n",
      "Epoch 49/100\n",
      "18/18 [==============================] - 0s 2ms/step - loss: 0.2269 - accuracy: 0.9286 - val_loss: 0.3625 - val_accuracy: 0.8611\n",
      "Epoch 50/100\n",
      "18/18 [==============================] - 0s 2ms/step - loss: 0.1889 - accuracy: 0.9429 - val_loss: 0.3775 - val_accuracy: 0.8056\n",
      "Epoch 51/100\n",
      "18/18 [==============================] - 0s 2ms/step - loss: 0.1769 - accuracy: 0.9357 - val_loss: 0.3628 - val_accuracy: 0.8889\n",
      "Epoch 52/100\n",
      "18/18 [==============================] - 0s 2ms/step - loss: 0.1778 - accuracy: 0.9643 - val_loss: 0.4251 - val_accuracy: 0.8056\n",
      "Epoch 53/100\n",
      "18/18 [==============================] - 0s 2ms/step - loss: 0.1791 - accuracy: 0.9643 - val_loss: 0.3750 - val_accuracy: 0.8333\n",
      "Epoch 54/100\n",
      "18/18 [==============================] - 0s 2ms/step - loss: 0.1752 - accuracy: 0.9429 - val_loss: 0.3784 - val_accuracy: 0.8333\n",
      "Epoch 55/100\n",
      "18/18 [==============================] - 0s 2ms/step - loss: 0.1688 - accuracy: 0.9643 - val_loss: 0.3621 - val_accuracy: 0.8333\n",
      "Epoch 56/100\n",
      "18/18 [==============================] - 0s 2ms/step - loss: 0.1559 - accuracy: 0.9786 - val_loss: 0.4066 - val_accuracy: 0.8056\n",
      "Epoch 57/100\n",
      "18/18 [==============================] - 0s 2ms/step - loss: 0.1587 - accuracy: 0.9571 - val_loss: 0.3949 - val_accuracy: 0.8056\n",
      "Epoch 58/100\n"
     ]
    },
    {
     "name": "stdout",
     "output_type": "stream",
     "text": [
      "18/18 [==============================] - 0s 2ms/step - loss: 0.1455 - accuracy: 0.9929 - val_loss: 0.4193 - val_accuracy: 0.8056\n",
      "Epoch 59/100\n",
      "18/18 [==============================] - 0s 2ms/step - loss: 0.1387 - accuracy: 0.9714 - val_loss: 0.3355 - val_accuracy: 0.9444\n",
      "Epoch 60/100\n",
      "18/18 [==============================] - 0s 2ms/step - loss: 0.1548 - accuracy: 0.9357 - val_loss: 0.4097 - val_accuracy: 0.8056\n",
      "Epoch 61/100\n",
      "18/18 [==============================] - 0s 2ms/step - loss: 0.1448 - accuracy: 0.9643 - val_loss: 0.3937 - val_accuracy: 0.8056\n",
      "Epoch 62/100\n",
      "18/18 [==============================] - 0s 2ms/step - loss: 0.1690 - accuracy: 0.9429 - val_loss: 0.4144 - val_accuracy: 0.8056\n",
      "Epoch 63/100\n",
      "18/18 [==============================] - 0s 2ms/step - loss: 0.1613 - accuracy: 0.9286 - val_loss: 0.5524 - val_accuracy: 0.8056\n",
      "Epoch 64/100\n",
      "18/18 [==============================] - 0s 2ms/step - loss: 0.1495 - accuracy: 0.9429 - val_loss: 0.5365 - val_accuracy: 0.8056\n",
      "Epoch 65/100\n",
      "18/18 [==============================] - 0s 2ms/step - loss: 0.1400 - accuracy: 0.9714 - val_loss: 0.4292 - val_accuracy: 0.8056\n",
      "Epoch 66/100\n",
      "18/18 [==============================] - 0s 2ms/step - loss: 0.1203 - accuracy: 0.9929 - val_loss: 0.4011 - val_accuracy: 0.8056\n",
      "Epoch 67/100\n",
      "18/18 [==============================] - 0s 2ms/step - loss: 0.1142 - accuracy: 0.9714 - val_loss: 0.3449 - val_accuracy: 0.9444\n",
      "Epoch 68/100\n",
      "18/18 [==============================] - 0s 2ms/step - loss: 0.1303 - accuracy: 0.9571 - val_loss: 0.3702 - val_accuracy: 0.8611\n",
      "Epoch 69/100\n",
      "18/18 [==============================] - 0s 2ms/step - loss: 0.1132 - accuracy: 0.9786 - val_loss: 0.3576 - val_accuracy: 0.8611\n",
      "Epoch 70/100\n",
      "18/18 [==============================] - 0s 2ms/step - loss: 0.1021 - accuracy: 0.9929 - val_loss: 0.4517 - val_accuracy: 0.8056\n",
      "Epoch 71/100\n",
      "18/18 [==============================] - 0s 2ms/step - loss: 0.1101 - accuracy: 0.9857 - val_loss: 0.3484 - val_accuracy: 0.8611\n",
      "Epoch 72/100\n",
      "18/18 [==============================] - 0s 3ms/step - loss: 0.0948 - accuracy: 0.9929 - val_loss: 0.4067 - val_accuracy: 0.8333\n",
      "Epoch 73/100\n",
      "18/18 [==============================] - 0s 2ms/step - loss: 0.0918 - accuracy: 0.9857 - val_loss: 0.3748 - val_accuracy: 0.8611\n",
      "Epoch 74/100\n",
      "18/18 [==============================] - 0s 3ms/step - loss: 0.0913 - accuracy: 0.9929 - val_loss: 0.3688 - val_accuracy: 0.8611\n",
      "Epoch 75/100\n",
      "18/18 [==============================] - 0s 3ms/step - loss: 0.1148 - accuracy: 0.9786 - val_loss: 0.3359 - val_accuracy: 0.9444\n",
      "Epoch 76/100\n",
      "18/18 [==============================] - 0s 3ms/step - loss: 0.0961 - accuracy: 0.9643 - val_loss: 0.4465 - val_accuracy: 0.8056\n",
      "Epoch 77/100\n",
      "18/18 [==============================] - 0s 2ms/step - loss: 0.0809 - accuracy: 0.9929 - val_loss: 0.4065 - val_accuracy: 0.8611\n",
      "Epoch 78/100\n",
      "18/18 [==============================] - 0s 2ms/step - loss: 0.0745 - accuracy: 0.9929 - val_loss: 0.4254 - val_accuracy: 0.8333\n",
      "Epoch 79/100\n",
      "18/18 [==============================] - 0s 2ms/step - loss: 0.0738 - accuracy: 0.9929 - val_loss: 0.4385 - val_accuracy: 0.8056\n",
      "Epoch 80/100\n",
      "18/18 [==============================] - 0s 2ms/step - loss: 0.0789 - accuracy: 0.9929 - val_loss: 0.3581 - val_accuracy: 0.8889\n",
      "Epoch 81/100\n",
      "18/18 [==============================] - 0s 2ms/step - loss: 0.0705 - accuracy: 0.9929 - val_loss: 0.4522 - val_accuracy: 0.8056\n",
      "Epoch 82/100\n",
      "18/18 [==============================] - 0s 2ms/step - loss: 0.0706 - accuracy: 1.0000 - val_loss: 0.5228 - val_accuracy: 0.8056\n",
      "Epoch 83/100\n",
      "18/18 [==============================] - 0s 1ms/step - loss: 0.0637 - accuracy: 0.9929 - val_loss: 0.4059 - val_accuracy: 0.8889\n",
      "Epoch 84/100\n",
      "18/18 [==============================] - 0s 2ms/step - loss: 0.0649 - accuracy: 1.0000 - val_loss: 0.3891 - val_accuracy: 0.8611\n",
      "Epoch 85/100\n",
      "18/18 [==============================] - 0s 2ms/step - loss: 0.0611 - accuracy: 1.0000 - val_loss: 0.4124 - val_accuracy: 0.8889\n",
      "Epoch 86/100\n",
      "18/18 [==============================] - 0s 2ms/step - loss: 0.0576 - accuracy: 1.0000 - val_loss: 0.3737 - val_accuracy: 0.8611\n",
      "Epoch 87/100\n",
      "18/18 [==============================] - 0s 2ms/step - loss: 0.0621 - accuracy: 1.0000 - val_loss: 0.3729 - val_accuracy: 0.8611\n",
      "Epoch 88/100\n",
      "18/18 [==============================] - 0s 2ms/step - loss: 0.0579 - accuracy: 1.0000 - val_loss: 0.4451 - val_accuracy: 0.8333\n",
      "Epoch 89/100\n",
      "18/18 [==============================] - 0s 2ms/step - loss: 0.0546 - accuracy: 1.0000 - val_loss: 0.5467 - val_accuracy: 0.8056\n",
      "Epoch 90/100\n",
      "18/18 [==============================] - 0s 2ms/step - loss: 0.0578 - accuracy: 1.0000 - val_loss: 0.6552 - val_accuracy: 0.7778\n",
      "Epoch 91/100\n",
      "18/18 [==============================] - 0s 2ms/step - loss: 0.0611 - accuracy: 0.9857 - val_loss: 0.3941 - val_accuracy: 0.8889\n",
      "Epoch 92/100\n",
      "18/18 [==============================] - 0s 2ms/step - loss: 0.0437 - accuracy: 1.0000 - val_loss: 0.5690 - val_accuracy: 0.8056\n",
      "Epoch 93/100\n",
      "18/18 [==============================] - 0s 2ms/step - loss: 0.0501 - accuracy: 1.0000 - val_loss: 0.4261 - val_accuracy: 0.8611\n",
      "Epoch 94/100\n",
      "18/18 [==============================] - 0s 2ms/step - loss: 0.0502 - accuracy: 1.0000 - val_loss: 0.4607 - val_accuracy: 0.8611\n",
      "Epoch 95/100\n",
      "18/18 [==============================] - 0s 2ms/step - loss: 0.0462 - accuracy: 1.0000 - val_loss: 0.3778 - val_accuracy: 0.8611\n",
      "Epoch 96/100\n",
      "18/18 [==============================] - 0s 2ms/step - loss: 0.0555 - accuracy: 0.9929 - val_loss: 0.3480 - val_accuracy: 0.9444\n",
      "Epoch 97/100\n",
      "18/18 [==============================] - 0s 2ms/step - loss: 0.0480 - accuracy: 1.0000 - val_loss: 0.5412 - val_accuracy: 0.8333\n",
      "Epoch 98/100\n",
      "18/18 [==============================] - 0s 2ms/step - loss: 0.0404 - accuracy: 1.0000 - val_loss: 0.4386 - val_accuracy: 0.8889\n",
      "Epoch 99/100\n",
      "18/18 [==============================] - 0s 2ms/step - loss: 0.0414 - accuracy: 1.0000 - val_loss: 0.5524 - val_accuracy: 0.8056\n",
      "Epoch 100/100\n",
      "18/18 [==============================] - 0s 2ms/step - loss: 0.0360 - accuracy: 1.0000 - val_loss: 0.5433 - val_accuracy: 0.8333\n"
     ]
    }
   ],
   "source": [
    "model = createModel()\n",
    "\n",
    "history = model.fit(X_train,         \n",
    "          y_train,         \n",
    "          batch_size=8,    \n",
    "          epochs=100,\n",
    "          validation_split=0.2,\n",
    "          verbose=1) "
   ]
  },
  {
   "cell_type": "code",
   "execution_count": 9,
   "id": "4732f4cd",
   "metadata": {},
   "outputs": [],
   "source": [
    "def plot_train_history(history, loss='loss', metrics='accuracy'):\n",
    "    # Accuracy ---------\n",
    "    plt.figure(figsize=(8,6))\n",
    "\n",
    "    plt.plot(history.history[metrics], \n",
    "         label='accuracy Train Data')\n",
    "\n",
    "    plt.plot(history.history['val_' + metrics], \n",
    "         label='accuracy Validation Data')\n",
    "    plt.xlabel('Epoch')\n",
    "    plt.ylabel(metrics)\n",
    "\n",
    "    plt.legend()\n",
    "    plt.show()\n",
    "    \n",
    "    # Loss------------\n",
    "    plt.figure(figsize=(8,6))\n",
    "    plt.plot(history.history[loss], \n",
    "         label='loss Train Data')\n",
    "    plt.plot(history.history['val_' + loss], \n",
    "         label='loss Validation Data')\n",
    "    plt.xlabel('Epoch')\n",
    "    plt.ylabel(loss)\n",
    "    plt.legend()\n",
    "    plt.show()"
   ]
  },
  {
   "cell_type": "code",
   "execution_count": 10,
   "id": "83e03a69",
   "metadata": {},
   "outputs": [
    {
     "data": {
      "image/png": "[encoded data removed]",
      "text/plain": [
       "<Figure size 576x432 with 1 Axes>"
      ]
     },
     "metadata": {
      "needs_background": "light"
     },
     "output_type": "display_data"
    },
    {
     "data": {
      "image/png": "[encoded data removed]",
      "text/plain": [
       "<Figure size 576x432 with 1 Axes>"
      ]
     },
     "metadata": {
      "needs_background": "light"
     },
     "output_type": "display_data"
    }
   ],
   "source": [
    "plot_train_history(history)"
   ]
  },
  {
   "cell_type": "code",
   "execution_count": 11,
   "id": "8f112415",
   "metadata": {},
   "outputs": [],
   "source": [
    "class myCallback(Callback): \n",
    "    def on_epoch_end(self, epoch, logs={}): \n",
    "       # print(logs)\n",
    "        if (logs.get('accuracy') > ACCURACY_THRESHOLD) and (logs.get('val_accuracy') > VAL_ACCURACY_THRESHOLD):   \n",
    "            print(\"\\nWe have reached %2.2f%% accuracy, so we will stopping training.\" %(ACCURACY_THRESHOLD*100))   \n",
    "            self.model.stop_training = True"
   ]
  },
  {
   "cell_type": "code",
   "execution_count": 12,
   "id": "4fc40f7d",
   "metadata": {
    "scrolled": true
   },
   "outputs": [
    {
     "name": "stdout",
     "output_type": "stream",
     "text": [
      "Epoch 1/200\n",
      "18/18 [==============================] - 0s 11ms/step - loss: 0.9224 - accuracy: 0.4286 - val_loss: 0.6872 - val_accuracy: 0.5278\n",
      "Epoch 2/200\n",
      "18/18 [==============================] - 0s 2ms/step - loss: 0.7580 - accuracy: 0.5786 - val_loss: 0.6726 - val_accuracy: 0.6944\n",
      "Epoch 3/200\n",
      "18/18 [==============================] - 0s 2ms/step - loss: 0.6933 - accuracy: 0.6000 - val_loss: 0.6591 - val_accuracy: 0.7500\n",
      "Epoch 4/200\n",
      "18/18 [==============================] - 0s 2ms/step - loss: 0.6247 - accuracy: 0.6214 - val_loss: 0.6517 - val_accuracy: 0.7222\n",
      "Epoch 5/200\n",
      "18/18 [==============================] - 0s 2ms/step - loss: 0.6046 - accuracy: 0.7214 - val_loss: 0.6415 - val_accuracy: 0.7778\n",
      "Epoch 6/200\n",
      "18/18 [==============================] - 0s 2ms/step - loss: 0.6340 - accuracy: 0.6143 - val_loss: 0.6314 - val_accuracy: 0.8056\n",
      "Epoch 7/200\n",
      "18/18 [==============================] - 0s 2ms/step - loss: 0.5941 - accuracy: 0.6786 - val_loss: 0.6331 - val_accuracy: 0.7222\n",
      "Epoch 8/200\n",
      "18/18 [==============================] - 0s 2ms/step - loss: 0.6012 - accuracy: 0.7000 - val_loss: 0.6173 - val_accuracy: 0.8056\n",
      "Epoch 9/200\n",
      "18/18 [==============================] - 0s 2ms/step - loss: 0.5613 - accuracy: 0.7071 - val_loss: 0.6062 - val_accuracy: 0.8056\n",
      "Epoch 10/200\n",
      "18/18 [==============================] - 0s 2ms/step - loss: 0.4568 - accuracy: 0.7714 - val_loss: 0.5893 - val_accuracy: 0.8333\n",
      "Epoch 11/200\n",
      "18/18 [==============================] - 0s 2ms/step - loss: 0.4614 - accuracy: 0.8000 - val_loss: 0.5819 - val_accuracy: 0.8611\n",
      "Epoch 12/200\n",
      "18/18 [==============================] - 0s 2ms/step - loss: 0.4581 - accuracy: 0.7929 - val_loss: 0.5685 - val_accuracy: 0.8889\n",
      "Epoch 13/200\n",
      "18/18 [==============================] - 0s 2ms/step - loss: 0.4779 - accuracy: 0.7643 - val_loss: 0.5595 - val_accuracy: 0.8611\n",
      "Epoch 14/200\n",
      "18/18 [==============================] - 0s 2ms/step - loss: 0.4726 - accuracy: 0.7500 - val_loss: 0.5485 - val_accuracy: 0.8056\n",
      "Epoch 15/200\n",
      "18/18 [==============================] - 0s 2ms/step - loss: 0.4640 - accuracy: 0.7786 - val_loss: 0.5300 - val_accuracy: 0.8611\n",
      "Epoch 16/200\n",
      "18/18 [==============================] - 0s 2ms/step - loss: 0.4977 - accuracy: 0.7643 - val_loss: 0.5184 - val_accuracy: 0.8611\n",
      "Epoch 17/200\n",
      "18/18 [==============================] - 0s 2ms/step - loss: 0.3968 - accuracy: 0.8286 - val_loss: 0.4975 - val_accuracy: 0.8611\n",
      "Epoch 18/200\n",
      "18/18 [==============================] - 0s 2ms/step - loss: 0.4546 - accuracy: 0.7786 - val_loss: 0.4843 - val_accuracy: 0.8611\n",
      "Epoch 19/200\n",
      "18/18 [==============================] - 0s 2ms/step - loss: 0.4109 - accuracy: 0.8214 - val_loss: 0.4718 - val_accuracy: 0.8611\n",
      "Epoch 20/200\n",
      "18/18 [==============================] - 0s 2ms/step - loss: 0.4273 - accuracy: 0.7929 - val_loss: 0.4405 - val_accuracy: 0.8611\n",
      "Epoch 21/200\n",
      "18/18 [==============================] - 0s 2ms/step - loss: 0.4853 - accuracy: 0.7286 - val_loss: 0.4395 - val_accuracy: 0.8611\n",
      "Epoch 22/200\n",
      "18/18 [==============================] - 0s 2ms/step - loss: 0.4436 - accuracy: 0.7786 - val_loss: 0.4304 - val_accuracy: 0.8611\n",
      "Epoch 23/200\n",
      "18/18 [==============================] - 0s 2ms/step - loss: 0.4004 - accuracy: 0.8143 - val_loss: 0.4370 - val_accuracy: 0.8056\n",
      "Epoch 24/200\n",
      "18/18 [==============================] - 0s 2ms/step - loss: 0.4438 - accuracy: 0.7929 - val_loss: 0.4260 - val_accuracy: 0.8333\n",
      "Epoch 25/200\n",
      "18/18 [==============================] - 0s 2ms/step - loss: 0.4265 - accuracy: 0.7571 - val_loss: 0.4083 - val_accuracy: 0.8333\n",
      "Epoch 26/200\n",
      "18/18 [==============================] - 0s 2ms/step - loss: 0.4276 - accuracy: 0.8143 - val_loss: 0.3881 - val_accuracy: 0.7778\n",
      "Epoch 27/200\n",
      "18/18 [==============================] - 0s 2ms/step - loss: 0.4047 - accuracy: 0.8000 - val_loss: 0.3988 - val_accuracy: 0.8056\n",
      "Epoch 28/200\n",
      "18/18 [==============================] - 0s 2ms/step - loss: 0.4147 - accuracy: 0.7500 - val_loss: 0.4082 - val_accuracy: 0.8333\n",
      "Epoch 29/200\n",
      "18/18 [==============================] - 0s 2ms/step - loss: 0.3901 - accuracy: 0.8214 - val_loss: 0.3592 - val_accuracy: 0.8611\n",
      "Epoch 30/200\n",
      "18/18 [==============================] - 0s 2ms/step - loss: 0.3928 - accuracy: 0.8214 - val_loss: 0.3648 - val_accuracy: 0.8056\n",
      "Epoch 31/200\n",
      "18/18 [==============================] - 0s 2ms/step - loss: 0.3935 - accuracy: 0.8286 - val_loss: 0.3667 - val_accuracy: 0.8611\n",
      "Epoch 32/200\n",
      "18/18 [==============================] - 0s 2ms/step - loss: 0.3635 - accuracy: 0.8500 - val_loss: 0.3631 - val_accuracy: 0.8611\n",
      "Epoch 33/200\n",
      "18/18 [==============================] - 0s 2ms/step - loss: 0.3838 - accuracy: 0.8714 - val_loss: 0.3442 - val_accuracy: 0.8333\n",
      "Epoch 34/200\n",
      "18/18 [==============================] - 0s 2ms/step - loss: 0.3729 - accuracy: 0.8500 - val_loss: 0.3353 - val_accuracy: 0.8333\n",
      "Epoch 35/200\n",
      "18/18 [==============================] - 0s 2ms/step - loss: 0.3263 - accuracy: 0.8643 - val_loss: 0.3356 - val_accuracy: 0.8056\n",
      "Epoch 36/200\n",
      "18/18 [==============================] - 0s 2ms/step - loss: 0.3790 - accuracy: 0.8286 - val_loss: 0.3437 - val_accuracy: 0.8056\n",
      "Epoch 37/200\n",
      "18/18 [==============================] - 0s 3ms/step - loss: 0.3580 - accuracy: 0.8429 - val_loss: 0.3266 - val_accuracy: 0.8333\n",
      "Epoch 38/200\n",
      "18/18 [==============================] - 0s 4ms/step - loss: 0.3228 - accuracy: 0.8786 - val_loss: 0.3250 - val_accuracy: 0.8056\n",
      "Epoch 39/200\n",
      "18/18 [==============================] - 0s 3ms/step - loss: 0.3462 - accuracy: 0.8500 - val_loss: 0.3239 - val_accuracy: 0.8056\n",
      "Epoch 40/200\n",
      "18/18 [==============================] - 0s 2ms/step - loss: 0.3239 - accuracy: 0.8571 - val_loss: 0.3187 - val_accuracy: 0.8056\n",
      "Epoch 41/200\n",
      "18/18 [==============================] - 0s 2ms/step - loss: 0.4402 - accuracy: 0.7500 - val_loss: 0.2964 - val_accuracy: 0.8611\n",
      "Epoch 42/200\n",
      "18/18 [==============================] - 0s 2ms/step - loss: 0.3561 - accuracy: 0.8214 - val_loss: 0.3313 - val_accuracy: 0.8056\n",
      "Epoch 43/200\n",
      "18/18 [==============================] - 0s 2ms/step - loss: 0.3684 - accuracy: 0.8214 - val_loss: 0.3002 - val_accuracy: 0.8333\n",
      "Epoch 44/200\n",
      "18/18 [==============================] - 0s 2ms/step - loss: 0.3647 - accuracy: 0.8500 - val_loss: 0.2871 - val_accuracy: 0.8333\n",
      "Epoch 45/200\n",
      "18/18 [==============================] - 0s 2ms/step - loss: 0.3554 - accuracy: 0.8429 - val_loss: 0.2771 - val_accuracy: 0.8611\n",
      "Epoch 46/200\n",
      "18/18 [==============================] - 0s 2ms/step - loss: 0.3607 - accuracy: 0.8714 - val_loss: 0.2842 - val_accuracy: 0.8333\n",
      "Epoch 47/200\n",
      "18/18 [==============================] - 0s 2ms/step - loss: 0.3208 - accuracy: 0.8714 - val_loss: 0.3045 - val_accuracy: 0.8333\n",
      "Epoch 48/200\n",
      "18/18 [==============================] - 0s 2ms/step - loss: 0.3953 - accuracy: 0.8286 - val_loss: 0.2876 - val_accuracy: 0.8611\n",
      "Epoch 49/200\n",
      "18/18 [==============================] - 0s 3ms/step - loss: 0.3644 - accuracy: 0.8571 - val_loss: 0.2821 - val_accuracy: 0.8889\n",
      "Epoch 50/200\n",
      "18/18 [==============================] - 0s 2ms/step - loss: 0.2898 - accuracy: 0.9071 - val_loss: 0.2651 - val_accuracy: 0.8889\n",
      "Epoch 51/200\n",
      "18/18 [==============================] - 0s 2ms/step - loss: 0.3172 - accuracy: 0.8500 - val_loss: 0.2663 - val_accuracy: 0.8889\n",
      "Epoch 52/200\n",
      "18/18 [==============================] - 0s 2ms/step - loss: 0.3161 - accuracy: 0.8714 - val_loss: 0.3009 - val_accuracy: 0.8333\n",
      "Epoch 53/200\n",
      "18/18 [==============================] - 0s 3ms/step - loss: 0.3182 - accuracy: 0.8571 - val_loss: 0.2686 - val_accuracy: 0.8611\n",
      "Epoch 54/200\n",
      "18/18 [==============================] - 0s 2ms/step - loss: 0.2507 - accuracy: 0.9214 - val_loss: 0.2770 - val_accuracy: 0.8611\n",
      "Epoch 55/200\n",
      "18/18 [==============================] - 0s 2ms/step - loss: 0.3518 - accuracy: 0.8143 - val_loss: 0.2808 - val_accuracy: 0.8611\n",
      "Epoch 56/200\n",
      "18/18 [==============================] - 0s 2ms/step - loss: 0.2501 - accuracy: 0.9071 - val_loss: 0.2997 - val_accuracy: 0.8056\n",
      "Epoch 57/200\n",
      "18/18 [==============================] - 0s 2ms/step - loss: 0.3120 - accuracy: 0.8500 - val_loss: 0.3254 - val_accuracy: 0.8056\n",
      "Epoch 58/200\n",
      "18/18 [==============================] - 0s 2ms/step - loss: 0.3396 - accuracy: 0.8357 - val_loss: 0.2681 - val_accuracy: 0.8611\n"
     ]
    },
    {
     "name": "stdout",
     "output_type": "stream",
     "text": [
      "Epoch 59/200\n",
      "18/18 [==============================] - 0s 2ms/step - loss: 0.2695 - accuracy: 0.9286 - val_loss: 0.2811 - val_accuracy: 0.8333\n",
      "Epoch 60/200\n",
      "18/18 [==============================] - 0s 2ms/step - loss: 0.3195 - accuracy: 0.8786 - val_loss: 0.2602 - val_accuracy: 0.8611\n",
      "Epoch 61/200\n",
      "18/18 [==============================] - 0s 2ms/step - loss: 0.3066 - accuracy: 0.8571 - val_loss: 0.2595 - val_accuracy: 0.8333\n",
      "Epoch 62/200\n",
      "18/18 [==============================] - 0s 2ms/step - loss: 0.2219 - accuracy: 0.9286 - val_loss: 0.2392 - val_accuracy: 0.8611\n",
      "Epoch 63/200\n",
      "18/18 [==============================] - 0s 2ms/step - loss: 0.3166 - accuracy: 0.8500 - val_loss: 0.2405 - val_accuracy: 0.8889\n",
      "Epoch 64/200\n",
      "18/18 [==============================] - 0s 2ms/step - loss: 0.2992 - accuracy: 0.9071 - val_loss: 0.2359 - val_accuracy: 0.8889\n",
      "Epoch 65/200\n",
      "18/18 [==============================] - 0s 2ms/step - loss: 0.4044 - accuracy: 0.8286 - val_loss: 0.2350 - val_accuracy: 0.9167\n",
      "Epoch 66/200\n",
      "18/18 [==============================] - 0s 2ms/step - loss: 0.3270 - accuracy: 0.8500 - val_loss: 0.2380 - val_accuracy: 0.9167\n",
      "Epoch 67/200\n",
      "18/18 [==============================] - 0s 2ms/step - loss: 0.2967 - accuracy: 0.9000 - val_loss: 0.2253 - val_accuracy: 0.8889\n",
      "Epoch 68/200\n",
      "18/18 [==============================] - 0s 2ms/step - loss: 0.3288 - accuracy: 0.8714 - val_loss: 0.2420 - val_accuracy: 0.8333\n",
      "Epoch 69/200\n",
      "18/18 [==============================] - 0s 2ms/step - loss: 0.2870 - accuracy: 0.8571 - val_loss: 0.2529 - val_accuracy: 0.8611\n",
      "Epoch 70/200\n",
      "18/18 [==============================] - 0s 2ms/step - loss: 0.2780 - accuracy: 0.8929 - val_loss: 0.2277 - val_accuracy: 0.8889\n",
      "Epoch 71/200\n",
      "18/18 [==============================] - 0s 2ms/step - loss: 0.2689 - accuracy: 0.9000 - val_loss: 0.2512 - val_accuracy: 0.8889\n",
      "Epoch 72/200\n",
      "18/18 [==============================] - 0s 2ms/step - loss: 0.2841 - accuracy: 0.8929 - val_loss: 0.2368 - val_accuracy: 0.9167\n",
      "Epoch 73/200\n",
      "18/18 [==============================] - 0s 2ms/step - loss: 0.3234 - accuracy: 0.8500 - val_loss: 0.2288 - val_accuracy: 0.9444\n",
      "Epoch 74/200\n",
      "18/18 [==============================] - 0s 2ms/step - loss: 0.2787 - accuracy: 0.8643 - val_loss: 0.2647 - val_accuracy: 0.8333\n",
      "Epoch 75/200\n",
      "18/18 [==============================] - 0s 2ms/step - loss: 0.2862 - accuracy: 0.8857 - val_loss: 0.2623 - val_accuracy: 0.8611\n",
      "Epoch 76/200\n",
      "18/18 [==============================] - 0s 2ms/step - loss: 0.3072 - accuracy: 0.8857 - val_loss: 0.3113 - val_accuracy: 0.8333\n",
      "Epoch 77/200\n",
      "18/18 [==============================] - 0s 2ms/step - loss: 0.2387 - accuracy: 0.9071 - val_loss: 0.2481 - val_accuracy: 0.8611\n",
      "Epoch 78/200\n",
      "18/18 [==============================] - 0s 2ms/step - loss: 0.2535 - accuracy: 0.9143 - val_loss: 0.2324 - val_accuracy: 0.8889\n",
      "Epoch 79/200\n",
      "18/18 [==============================] - 0s 2ms/step - loss: 0.2710 - accuracy: 0.8643 - val_loss: 0.2576 - val_accuracy: 0.8611\n",
      "Epoch 80/200\n",
      "18/18 [==============================] - 0s 2ms/step - loss: 0.2502 - accuracy: 0.9143 - val_loss: 0.2445 - val_accuracy: 0.8333\n",
      "Epoch 81/200\n",
      "18/18 [==============================] - 0s 2ms/step - loss: 0.3136 - accuracy: 0.8714 - val_loss: 0.2502 - val_accuracy: 0.8611\n",
      "Epoch 82/200\n",
      "18/18 [==============================] - 0s 2ms/step - loss: 0.2648 - accuracy: 0.8929 - val_loss: 0.2276 - val_accuracy: 0.9167\n",
      "Epoch 83/200\n",
      "18/18 [==============================] - 0s 2ms/step - loss: 0.3064 - accuracy: 0.8429 - val_loss: 0.2712 - val_accuracy: 0.8333\n",
      "Epoch 84/200\n",
      "18/18 [==============================] - 0s 2ms/step - loss: 0.2405 - accuracy: 0.9071 - val_loss: 0.2373 - val_accuracy: 0.8611\n",
      "Epoch 85/200\n",
      "18/18 [==============================] - 0s 2ms/step - loss: 0.3311 - accuracy: 0.8286 - val_loss: 0.2824 - val_accuracy: 0.8611\n",
      "Epoch 86/200\n",
      "18/18 [==============================] - 0s 2ms/step - loss: 0.2267 - accuracy: 0.9214 - val_loss: 0.2779 - val_accuracy: 0.8611\n",
      "Epoch 87/200\n",
      "18/18 [==============================] - 0s 2ms/step - loss: 0.1951 - accuracy: 0.9429 - val_loss: 0.2395 - val_accuracy: 0.8611\n",
      "Epoch 88/200\n",
      "18/18 [==============================] - 0s 2ms/step - loss: 0.2382 - accuracy: 0.9000 - val_loss: 0.2249 - val_accuracy: 0.8611\n",
      "Epoch 89/200\n",
      "18/18 [==============================] - 0s 2ms/step - loss: 0.3099 - accuracy: 0.8929 - val_loss: 0.2130 - val_accuracy: 0.9167\n",
      "Epoch 90/200\n",
      "18/18 [==============================] - 0s 2ms/step - loss: 0.3022 - accuracy: 0.8500 - val_loss: 0.2350 - val_accuracy: 0.8333\n",
      "Epoch 91/200\n",
      "18/18 [==============================] - 0s 2ms/step - loss: 0.2234 - accuracy: 0.9071 - val_loss: 0.2651 - val_accuracy: 0.8056\n",
      "Epoch 92/200\n",
      "18/18 [==============================] - 0s 2ms/step - loss: 0.1974 - accuracy: 0.9357 - val_loss: 0.2624 - val_accuracy: 0.8056\n",
      "Epoch 93/200\n",
      "18/18 [==============================] - 0s 2ms/step - loss: 0.2829 - accuracy: 0.8786 - val_loss: 0.2867 - val_accuracy: 0.8611\n",
      "Epoch 94/200\n",
      "18/18 [==============================] - 0s 2ms/step - loss: 0.2415 - accuracy: 0.9071 - val_loss: 0.2132 - val_accuracy: 0.8889\n",
      "Epoch 95/200\n",
      "18/18 [==============================] - 0s 2ms/step - loss: 0.3330 - accuracy: 0.8500 - val_loss: 0.2163 - val_accuracy: 0.9167\n",
      "Epoch 96/200\n",
      "18/18 [==============================] - 0s 2ms/step - loss: 0.2519 - accuracy: 0.8714 - val_loss: 0.2169 - val_accuracy: 0.8889\n",
      "Epoch 97/200\n",
      "18/18 [==============================] - 0s 2ms/step - loss: 0.2764 - accuracy: 0.8786 - val_loss: 0.2032 - val_accuracy: 0.8889\n",
      "Epoch 98/200\n",
      "18/18 [==============================] - 0s 2ms/step - loss: 0.2433 - accuracy: 0.8857 - val_loss: 0.2280 - val_accuracy: 0.8056\n",
      "Epoch 99/200\n",
      " 1/18 [>.............................] - ETA: 0s - loss: 0.1345 - accuracy: 1.0000\n",
      "We have reached 92.00% accuracy, so we will stopping training.\n",
      "18/18 [==============================] - 0s 2ms/step - loss: 0.1870 - accuracy: 0.9357 - val_loss: 0.2088 - val_accuracy: 0.9167\n"
     ]
    },
    {
     "data": {
      "image/png": "[encoded data removed]",
      "text/plain": [
       "<Figure size 576x432 with 1 Axes>"
      ]
     },
     "metadata": {
      "needs_background": "light"
     },
     "output_type": "display_data"
    },
    {
     "data": {
      "image/png": "[encoded data removed]",
      "text/plain": [
       "<Figure size 576x432 with 1 Axes>"
      ]
     },
     "metadata": {
      "needs_background": "light"
     },
     "output_type": "display_data"
    }
   ],
   "source": [
    "ACCURACY_THRESHOLD = 0.92\n",
    "VAL_ACCURACY_THRESHOLD = 0.91\n",
    "\n",
    "model = Sequential()\n",
    "model.add(Dense(80, input_dim=60, activation='relu')) #60\n",
    "model.add(BatchNormalization())\n",
    "model.add(Dropout(0.3))\n",
    "\n",
    "model.add(Dense(30, activation='relu')) #30\n",
    "#model.add(Dropout(0.2))\n",
    "model.add(BatchNormalization())\n",
    "\n",
    "model.add(Dense(1, activation='sigmoid'))\n",
    "    \n",
    "model.compile(loss='binary_crossentropy', optimizer=SGD(lr=0.005, nesterov=True), metrics=['accuracy'])\n",
    "\n",
    "#model.get_weights()\n",
    "\n",
    "callbacks = myCallback()\n",
    "\n",
    "history = model.fit(X_train,         \n",
    "          y_train,         \n",
    "          batch_size=8,    \n",
    "          epochs=200,\n",
    "          validation_split=0.2, #0.25\n",
    "          verbose=1,\n",
    "          callbacks=[callbacks]) \n",
    "plot_train_history(history)"
   ]
  },
  {
   "cell_type": "code",
   "execution_count": 13,
   "id": "1b7671ba",
   "metadata": {},
   "outputs": [],
   "source": [
    "#model.save_weights('model'+str(time.time())+'.h5' )"
   ]
  },
  {
   "cell_type": "code",
   "execution_count": 14,
   "id": "b4e04417",
   "metadata": {},
   "outputs": [
    {
     "name": "stdout",
     "output_type": "stream",
     "text": [
      "1/1 [==============================] - 0s 1ms/step - loss: 0.3628 - accuracy: 0.8438\n"
     ]
    },
    {
     "data": {
      "text/plain": [
       "[0.3627828359603882, 0.84375]"
      ]
     },
     "execution_count": 14,
     "metadata": {},
     "output_type": "execute_result"
    }
   ],
   "source": [
    "model.evaluate(X_test, y_test)"
   ]
  },
  {
   "cell_type": "markdown",
   "id": "c3755231",
   "metadata": {},
   "source": [
    "## Aufgabe 2 (Vorhersage der Autopreise)"
   ]
  },
  {
   "cell_type": "code",
   "execution_count": 15,
   "id": "1e9b65d1",
   "metadata": {},
   "outputs": [
    {
     "data": {
      "text/html": [
       "<div>\n",
       "<style scoped>\n",
       "    .dataframe tbody tr th:only-of-type {\n",
       "        vertical-align: middle;\n",
       "    }\n",
       "\n",
       "    .dataframe tbody tr th {\n",
       "        vertical-align: top;\n",
       "    }\n",
       "\n",
       "    .dataframe thead th {\n",
       "        text-align: right;\n",
       "    }\n",
       "</style>\n",
       "<table border=\"1\" class=\"dataframe\">\n",
       "  <thead>\n",
       "    <tr style=\"text-align: right;\">\n",
       "      <th></th>\n",
       "      <th>mark</th>\n",
       "      <th>model</th>\n",
       "      <th>price</th>\n",
       "      <th>year</th>\n",
       "      <th>mileage</th>\n",
       "      <th>body</th>\n",
       "      <th>kpp</th>\n",
       "      <th>fuel</th>\n",
       "      <th>volume</th>\n",
       "      <th>power</th>\n",
       "    </tr>\n",
       "  </thead>\n",
       "  <tbody>\n",
       "    <tr>\n",
       "      <th>0</th>\n",
       "      <td>kia</td>\n",
       "      <td>cerato</td>\n",
       "      <td>996000</td>\n",
       "      <td>2018</td>\n",
       "      <td>28000</td>\n",
       "      <td>седан</td>\n",
       "      <td>автомат</td>\n",
       "      <td>бензин</td>\n",
       "      <td>2.0</td>\n",
       "      <td>150.0</td>\n",
       "    </tr>\n",
       "    <tr>\n",
       "      <th>1</th>\n",
       "      <td>daewoo</td>\n",
       "      <td>nexia 1 поколение [2-й рестайлинг]</td>\n",
       "      <td>140200</td>\n",
       "      <td>2012</td>\n",
       "      <td>60500</td>\n",
       "      <td>седан</td>\n",
       "      <td>механика</td>\n",
       "      <td>бензин</td>\n",
       "      <td>1.5</td>\n",
       "      <td>80.0</td>\n",
       "    </tr>\n",
       "    <tr>\n",
       "      <th>2</th>\n",
       "      <td>suzuki</td>\n",
       "      <td>jimny 3 поколение [рестайлинг]</td>\n",
       "      <td>750000</td>\n",
       "      <td>2011</td>\n",
       "      <td>29000</td>\n",
       "      <td>внедорожник</td>\n",
       "      <td>автомат</td>\n",
       "      <td>бензин</td>\n",
       "      <td>1.3</td>\n",
       "      <td>85.0</td>\n",
       "    </tr>\n",
       "    <tr>\n",
       "      <th>3</th>\n",
       "      <td>bmw</td>\n",
       "      <td>x1 18 e84 [рестайлинг]</td>\n",
       "      <td>970000</td>\n",
       "      <td>2014</td>\n",
       "      <td>49500</td>\n",
       "      <td>кроссовер</td>\n",
       "      <td>автомат</td>\n",
       "      <td>бензин</td>\n",
       "      <td>2.0</td>\n",
       "      <td>150.0</td>\n",
       "    </tr>\n",
       "    <tr>\n",
       "      <th>4</th>\n",
       "      <td>chevrolet</td>\n",
       "      <td>lacetti 1 поколение</td>\n",
       "      <td>205000</td>\n",
       "      <td>2007</td>\n",
       "      <td>151445</td>\n",
       "      <td>седан</td>\n",
       "      <td>механика</td>\n",
       "      <td>бензин</td>\n",
       "      <td>1.4</td>\n",
       "      <td>95.0</td>\n",
       "    </tr>\n",
       "  </tbody>\n",
       "</table>\n",
       "</div>"
      ],
      "text/plain": [
       "        mark                               model   price  year  mileage  \\\n",
       "0        kia                              cerato  996000  2018    28000   \n",
       "1     daewoo  nexia 1 поколение [2-й рестайлинг]  140200  2012    60500   \n",
       "2     suzuki      jimny 3 поколение [рестайлинг]  750000  2011    29000   \n",
       "3        bmw              x1 18 e84 [рестайлинг]  970000  2014    49500   \n",
       "4  chevrolet                 lacetti 1 поколение  205000  2007   151445   \n",
       "\n",
       "          body       kpp    fuel  volume  power  \n",
       "0        седан   автомат  бензин     2.0  150.0  \n",
       "1        седан  механика  бензин     1.5   80.0  \n",
       "2  внедорожник   автомат  бензин     1.3   85.0  \n",
       "3    кроссовер   автомат  бензин     2.0  150.0  \n",
       "4        седан  механика  бензин     1.4   95.0  "
      ]
     },
     "execution_count": 15,
     "metadata": {},
     "output_type": "execute_result"
    }
   ],
   "source": [
    "cars_df = pd.read_csv('cars_new.csv', sep=',')\n",
    "cars_df.head()"
   ]
  },
  {
   "cell_type": "code",
   "execution_count": 16,
   "id": "2f873da4",
   "metadata": {},
   "outputs": [
    {
     "name": "stdout",
     "output_type": "stream",
     "text": [
      "(70119, 10)\n"
     ]
    }
   ],
   "source": [
    "print(cars_df.shape)"
   ]
  },
  {
   "cell_type": "code",
   "execution_count": 17,
   "id": "6f8dd4f7",
   "metadata": {},
   "outputs": [
    {
     "data": {
      "text/plain": [
       "mark       0\n",
       "model      0\n",
       "price      0\n",
       "year       0\n",
       "mileage    0\n",
       "body       3\n",
       "kpp        4\n",
       "fuel       0\n",
       "volume     0\n",
       "power      0\n",
       "dtype: int64"
      ]
     },
     "execution_count": 17,
     "metadata": {},
     "output_type": "execute_result"
    }
   ],
   "source": [
    "cars_df.isnull().sum()"
   ]
  },
  {
   "cell_type": "code",
   "execution_count": 18,
   "id": "fef61cc4",
   "metadata": {},
   "outputs": [
    {
     "name": "stdout",
     "output_type": "stream",
     "text": [
      "['седан' 'внедорожник' 'кроссовер' 'хетчбэк' 'универсал' 'минивэн'\n",
      " 'лифтбэк' 'купе' 'микроавтобус' 'пикап' 'кабриолет' 'хардтоп' 'родстер'\n",
      " 'тарга' nan 'лимузин' 'фастбэк']\n",
      "['автомат' 'механика' 'робот' 'вариатор' nan]\n"
     ]
    }
   ],
   "source": [
    "print(cars_df['body'].unique())\n",
    "print(cars_df['kpp'].unique())"
   ]
  },
  {
   "cell_type": "code",
   "execution_count": 19,
   "id": "b34e10d1",
   "metadata": {},
   "outputs": [],
   "source": [
    "values = {\"body\": 'unknown', \"kpp\": 'unknown'}\n",
    "cars_df.fillna(value=values, inplace=True)"
   ]
  },
  {
   "cell_type": "code",
   "execution_count": 20,
   "id": "3ac8eba0",
   "metadata": {},
   "outputs": [],
   "source": [
    "vocab, indexes = np.unique(cars_df['mark'], return_inverse=True)"
   ]
  },
  {
   "cell_type": "code",
   "execution_count": 21,
   "id": "8eceebfc",
   "metadata": {},
   "outputs": [
    {
     "data": {
      "text/plain": [
       "array(['audi', 'bmw', 'chery', 'chevrolet', 'daewoo', 'ford', 'honda',\n",
       "       'hyundai', 'kia', 'mazda', 'mercedes-benz', 'mitsubishi', 'nissan',\n",
       "       'opel', 'peugeot', 'renault', 'skoda', 'subaru', 'suzuki',\n",
       "       'toyota', 'volkswagen'], dtype=object)"
      ]
     },
     "execution_count": 21,
     "metadata": {},
     "output_type": "execute_result"
    }
   ],
   "source": [
    "vocab"
   ]
  },
  {
   "cell_type": "code",
   "execution_count": 22,
   "id": "00c280b6",
   "metadata": {},
   "outputs": [
    {
     "data": {
      "text/plain": [
       "(70119,)"
      ]
     },
     "execution_count": 22,
     "metadata": {},
     "output_type": "execute_result"
    }
   ],
   "source": [
    "indexes.shape"
   ]
  },
  {
   "cell_type": "code",
   "execution_count": 23,
   "id": "7176be1a",
   "metadata": {},
   "outputs": [
    {
     "data": {
      "text/plain": [
       "array([[0., 0., 0., ..., 0., 0., 0.],\n",
       "       [0., 0., 0., ..., 0., 0., 0.],\n",
       "       [0., 0., 0., ..., 1., 0., 0.],\n",
       "       ...,\n",
       "       [0., 0., 0., ..., 0., 0., 0.],\n",
       "       [0., 0., 0., ..., 0., 1., 0.],\n",
       "       [0., 0., 0., ..., 0., 0., 0.]], dtype=float32)"
      ]
     },
     "execution_count": 23,
     "metadata": {},
     "output_type": "execute_result"
    }
   ],
   "source": [
    "utils.to_categorical(indexes.reshape(-1, 1), num_classes = len(vocab))"
   ]
  },
  {
   "cell_type": "code",
   "execution_count": 24,
   "id": "169c8534",
   "metadata": {},
   "outputs": [],
   "source": [
    "# Funktion zur Konvertierung einer Datenspalte aus einem Pandas DataFrame in OneHot\n",
    "def labelsToOneHot(column): \n",
    "    #Ein Array mit eindeutigen Werten für die Spalte und die gleiche Spalte, aber als Indizes von Werten aus dem Dictionary\n",
    "    vocab, indexes = np.unique(cars_df[column], return_inverse=True) \n",
    "    # Indizes in One-Hot umwandeln\n",
    "    oneHotData = utils.to_categorical(indexes.reshape(-1, 1), num_classes = len(vocab))\n",
    "    \n",
    "    # Rückgabe der Indizes in one-hot und einer Liste eindeutiger Werte\n",
    "    return oneHotData, vocab.tolist() "
   ]
  },
  {
   "cell_type": "code",
   "execution_count": 25,
   "id": "4d72b27e",
   "metadata": {},
   "outputs": [
    {
     "name": "stdout",
     "output_type": "stream",
     "text": [
      "mark\n",
      "model\n",
      "body\n",
      "kpp\n",
      "fuel\n"
     ]
    }
   ],
   "source": [
    "labelData = ['mark', 'model', 'body', 'kpp', 'fuel']\n",
    "vocabulary = []\n",
    "oneHot = []\n",
    "\n",
    "for column in labelData:\n",
    "    print(column)\n",
    "    oneHotData, vocab = labelsToOneHot(column)\n",
    "    vocabulary.append(vocab)\n",
    "    oneHot.append(oneHotData)"
   ]
  },
  {
   "cell_type": "code",
   "execution_count": 26,
   "id": "117cd2e9",
   "metadata": {},
   "outputs": [],
   "source": [
    "#Kombinieren alle Arrays zu einem.\n",
    "oneHotArray = np.concatenate([i for i in oneHot], axis = 1) "
   ]
  },
  {
   "cell_type": "code",
   "execution_count": 27,
   "id": "6639e837",
   "metadata": {},
   "outputs": [
    {
     "data": {
      "text/plain": [
       "(70119, 3204)"
      ]
     },
     "execution_count": 27,
     "metadata": {},
     "output_type": "execute_result"
    }
   ],
   "source": [
    "oneHotArray.shape"
   ]
  },
  {
   "cell_type": "code",
   "execution_count": 28,
   "id": "6abb9774",
   "metadata": {},
   "outputs": [
    {
     "name": "stdout",
     "output_type": "stream",
     "text": [
      "Anzahl der eindeutigen Elemente in mark : 21\n",
      "Anzahl der eindeutigen Elemente in model : 3156\n",
      "Anzahl der eindeutigen Elemente in body : 17\n",
      "Anzahl der eindeutigen Elemente in kpp : 5\n",
      "Anzahl der eindeutigen Elemente in fuel : 5\n"
     ]
    }
   ],
   "source": [
    "for voc in vocabulary:\n",
    "    print('Anzahl der eindeutigen Elemente in', labelData[vocabulary.index(voc)], ':', len(voc))"
   ]
  },
  {
   "cell_type": "code",
   "execution_count": 29,
   "id": "c80943b7",
   "metadata": {},
   "outputs": [
    {
     "name": "stdout",
     "output_type": "stream",
     "text": [
      "['audi', 'bmw', 'chery', 'chevrolet', 'daewoo', 'ford', 'honda', 'hyundai', 'kia', 'mazda', 'mercedes-benz', 'mitsubishi', 'nissan', 'opel', 'peugeot', 'renault', 'skoda', 'subaru', 'suzuki', 'toyota', 'volkswagen']\n"
     ]
    }
   ],
   "source": [
    "print(vocabulary[0]) \n",
    "lenmarks = len(vocabulary[0]) "
   ]
  },
  {
   "cell_type": "code",
   "execution_count": 30,
   "id": "ee145bf5",
   "metadata": {},
   "outputs": [
    {
     "data": {
      "text/plain": [
       "array([0., 0., 0., 0., 0., 0., 0., 0., 0., 0., 1., 0., 0., 0., 0., 0., 0.,\n",
       "       0., 0., 0., 0.], dtype=float32)"
      ]
     },
     "execution_count": 30,
     "metadata": {},
     "output_type": "execute_result"
    }
   ],
   "source": [
    "oneHotArray[100, :lenmarks]"
   ]
  },
  {
   "cell_type": "code",
   "execution_count": 31,
   "id": "c2476ea8",
   "metadata": {},
   "outputs": [
    {
     "data": {
      "text/plain": [
       "10"
      ]
     },
     "execution_count": 31,
     "metadata": {},
     "output_type": "execute_result"
    }
   ],
   "source": [
    "np.argmax(oneHotArray[100, :lenmarks]) "
   ]
  },
  {
   "cell_type": "code",
   "execution_count": 32,
   "id": "f873018c",
   "metadata": {},
   "outputs": [
    {
     "data": {
      "text/plain": [
       "'mercedes-benz'"
      ]
     },
     "execution_count": 32,
     "metadata": {},
     "output_type": "execute_result"
    }
   ],
   "source": [
    "vocabulary[0][np.argmax(oneHotArray[100, :lenmarks])]"
   ]
  },
  {
   "cell_type": "code",
   "execution_count": 33,
   "id": "36b58115",
   "metadata": {},
   "outputs": [],
   "source": [
    "prices = np.array(cars_df['price'], dtype=np.float64)\n",
    "\n",
    "\n",
    "years = preprocessing.scale(cars_df['year'])\n",
    "mileages = preprocessing.scale(cars_df['mileage'])\n",
    "volumes = preprocessing.scale(cars_df['volume'])\n",
    "powers = preprocessing.scale(cars_df['power'])"
   ]
  },
  {
   "cell_type": "code",
   "execution_count": 34,
   "id": "cef961a1",
   "metadata": {},
   "outputs": [
    {
     "data": {
      "text/plain": [
       "0.0"
      ]
     },
     "execution_count": 34,
     "metadata": {},
     "output_type": "execute_result"
    }
   ],
   "source": [
    "round(years.mean(),3)"
   ]
  },
  {
   "cell_type": "code",
   "execution_count": 35,
   "id": "9b26f212",
   "metadata": {},
   "outputs": [
    {
     "data": {
      "text/plain": [
       "1.0"
      ]
     },
     "execution_count": 35,
     "metadata": {},
     "output_type": "execute_result"
    }
   ],
   "source": [
    "mileages.std()"
   ]
  },
  {
   "cell_type": "code",
   "execution_count": 36,
   "id": "681d0bc2",
   "metadata": {},
   "outputs": [
    {
     "data": {
      "text/plain": [
       "(70119, 1)"
      ]
     },
     "execution_count": 36,
     "metadata": {},
     "output_type": "execute_result"
    }
   ],
   "source": [
    "type(years)\n",
    "years.reshape(-1, 1).shape"
   ]
  },
  {
   "cell_type": "code",
   "execution_count": 37,
   "id": "34678631",
   "metadata": {},
   "outputs": [],
   "source": [
    "X = np.concatenate(\n",
    "    [years.reshape(-1, 1), mileages.reshape(-1, 1), volumes.reshape(-1, 1), powers.reshape(-1, 1), oneHotArray],\n",
    "    axis = 1) "
   ]
  },
  {
   "cell_type": "code",
   "execution_count": 38,
   "id": "034dbcf4",
   "metadata": {},
   "outputs": [
    {
     "data": {
      "text/plain": [
       "(70119, 3208)"
      ]
     },
     "execution_count": 38,
     "metadata": {},
     "output_type": "execute_result"
    }
   ],
   "source": [
    "X.shape"
   ]
  },
  {
   "cell_type": "code",
   "execution_count": 39,
   "id": "933e3c8c",
   "metadata": {},
   "outputs": [
    {
     "data": {
      "text/plain": [
       "(70119,)"
      ]
     },
     "execution_count": 39,
     "metadata": {},
     "output_type": "execute_result"
    }
   ],
   "source": [
    "type(prices)\n",
    "prices.shape"
   ]
  },
  {
   "cell_type": "code",
   "execution_count": 40,
   "id": "465d3a48",
   "metadata": {},
   "outputs": [],
   "source": [
    "y = prices"
   ]
  },
  {
   "cell_type": "code",
   "execution_count": 41,
   "id": "cbfe7c43",
   "metadata": {},
   "outputs": [],
   "source": [
    "X_train, X_test, y_train, y_test = train_test_split(X, y, test_size=0.2)"
   ]
  },
  {
   "cell_type": "code",
   "execution_count": 42,
   "id": "e98b81fe",
   "metadata": {},
   "outputs": [
    {
     "name": "stdout",
     "output_type": "stream",
     "text": [
      "(56095, 3208)\n",
      "(56095,)\n",
      "(14024, 3208)\n",
      "(14024,)\n"
     ]
    }
   ],
   "source": [
    "print(X_train.shape)\n",
    "print(y_train.shape)\n",
    "print(X_test.shape)\n",
    "print(y_test.shape)"
   ]
  },
  {
   "cell_type": "code",
   "execution_count": 43,
   "id": "ad7b28ee",
   "metadata": {},
   "outputs": [],
   "source": [
    "# Нормализуем y_train\n",
    "y_scaler = StandardScaler()\n",
    "y_train_scaled = y_scaler.fit_transform(y_train.reshape(-1,1)).flatten()"
   ]
  },
  {
   "cell_type": "code",
   "execution_count": 44,
   "id": "eb95290f",
   "metadata": {},
   "outputs": [
    {
     "data": {
      "text/plain": [
       "(56095,)"
      ]
     },
     "execution_count": 44,
     "metadata": {},
     "output_type": "execute_result"
    }
   ],
   "source": [
    "y_train_scaled.shape"
   ]
  },
  {
   "cell_type": "code",
   "execution_count": 45,
   "id": "9f52f5cc",
   "metadata": {},
   "outputs": [
    {
     "name": "stdout",
     "output_type": "stream",
     "text": [
      "[480000. 250000. 175000. 150000. 490000. 525000. 290000. 150000. 529000.\n",
      "  95000.]\n",
      "[-0.07764972 -0.45536525 -0.57853336 -0.6195894  -0.0612273  -0.00374885\n",
      " -0.38967559 -0.6195894   0.00282011 -0.70991268]\n"
     ]
    }
   ],
   "source": [
    "print(y_train[:10])\n",
    "print(y_train_scaled[:10])"
   ]
  },
  {
   "cell_type": "code",
   "execution_count": 46,
   "id": "e571f01c",
   "metadata": {},
   "outputs": [
    {
     "data": {
      "text/plain": [
       "numpy.ndarray"
      ]
     },
     "execution_count": 46,
     "metadata": {},
     "output_type": "execute_result"
    }
   ],
   "source": [
    "type(X_train)"
   ]
  },
  {
   "cell_type": "code",
   "execution_count": 47,
   "id": "54fe7997",
   "metadata": {},
   "outputs": [
    {
     "data": {
      "text/plain": [
       "6.333387429896605e-17"
      ]
     },
     "execution_count": 47,
     "metadata": {},
     "output_type": "execute_result"
    }
   ],
   "source": [
    "y_train_scaled.mean()"
   ]
  },
  {
   "cell_type": "markdown",
   "id": "ae27dbf7",
   "metadata": {},
   "source": [
    "### FCNN Model "
   ]
  },
  {
   "cell_type": "code",
   "execution_count": 56,
   "id": "50cf8a56",
   "metadata": {},
   "outputs": [
    {
     "name": "stdout",
     "output_type": "stream",
     "text": [
      "Epoch 1/10\n",
      "1490/1490 [==============================] - 38s 25ms/step - loss: 0.1961 - mae: 0.1743 - val_loss: 0.2527 - val_mae: 0.1271\n",
      "Epoch 2/10\n",
      "1490/1490 [==============================] - 33s 22ms/step - loss: 0.1048 - mae: 0.1300 - val_loss: 0.2394 - val_mae: 0.1264\n",
      "Epoch 3/10\n",
      "1490/1490 [==============================] - 34s 23ms/step - loss: 0.0852 - mae: 0.1209 - val_loss: 0.2151 - val_mae: 0.1221\n",
      "Epoch 4/10\n",
      "1490/1490 [==============================] - 30s 20ms/step - loss: 0.0754 - mae: 0.1164 - val_loss: 0.2117 - val_mae: 0.1187\n",
      "Epoch 5/10\n",
      "1490/1490 [==============================] - 36s 24ms/step - loss: 0.0655 - mae: 0.1123 - val_loss: 0.2033 - val_mae: 0.1155\n",
      "Epoch 6/10\n",
      "1490/1490 [==============================] - 28s 19ms/step - loss: 0.0589 - mae: 0.1103 - val_loss: 0.1988 - val_mae: 0.1131\n",
      "Epoch 7/10\n",
      "1490/1490 [==============================] - 29s 20ms/step - loss: 0.0545 - mae: 0.1071 - val_loss: 0.2050 - val_mae: 0.1133\n",
      "Epoch 8/10\n",
      "1490/1490 [==============================] - 31s 21ms/step - loss: 0.0521 - mae: 0.1066 - val_loss: 0.2013 - val_mae: 0.1112\n",
      "Epoch 9/10\n",
      "1490/1490 [==============================] - 29s 20ms/step - loss: 0.0505 - mae: 0.1051 - val_loss: 0.1995 - val_mae: 0.1324\n",
      "Epoch 10/10\n",
      "1490/1490 [==============================] - 30s 20ms/step - loss: 0.0471 - mae: 0.1028 - val_loss: 0.1896 - val_mae: 0.1149\n"
     ]
    }
   ],
   "source": [
    "model = Sequential()\n",
    "model.add(Dense(1000, input_shape=(X_train.shape[1],), activation='relu'))\n",
    "model.add(Dropout(0.2))\n",
    "\n",
    "model.add(Dense(100, activation='relu'))\n",
    "\n",
    "model.add(Dense(1, activation='linear'))\n",
    "\n",
    "model.compile(optimizer=Adam(lr=0.0001), loss='mse', metrics='mae')\n",
    "\n",
    "history = model.fit(X_train,         \n",
    "          y_train_scaled,         \n",
    "          batch_size=32,    \n",
    "          epochs=10,\n",
    "          validation_split=0.15,\n",
    "          verbose=1) \n"
   ]
  },
  {
   "cell_type": "code",
   "execution_count": 57,
   "id": "9da19912",
   "metadata": {},
   "outputs": [
    {
     "data": {
      "image/png": "[encoded data removed]",
      "text/plain": [
       "<Figure size 576x432 with 1 Axes>"
      ]
     },
     "metadata": {
      "needs_background": "light"
     },
     "output_type": "display_data"
    },
    {
     "data": {
      "image/png": "[encoded data removed]",
      "text/plain": [
       "<Figure size 576x432 with 1 Axes>"
      ]
     },
     "metadata": {
      "needs_background": "light"
     },
     "output_type": "display_data"
    }
   ],
   "source": [
    "plot_train_history(history, loss='loss', metrics='mae')"
   ]
  },
  {
   "cell_type": "code",
   "execution_count": 58,
   "id": "b9dc311d",
   "metadata": {},
   "outputs": [],
   "source": [
    "predict = model.predict(X_test)"
   ]
  },
  {
   "cell_type": "code",
   "execution_count": 59,
   "id": "38f23d49",
   "metadata": {},
   "outputs": [],
   "source": [
    "predict = y_scaler.inverse_transform(predict).flatten()"
   ]
  },
  {
   "cell_type": "code",
   "execution_count": 60,
   "id": "3835d0b2",
   "metadata": {},
   "outputs": [
    {
     "data": {
      "text/plain": [
       "array([1149746.6 ,  448804.34,  474139.22, ...,  106638.05,  691111.75,\n",
       "        456501.12], dtype=float32)"
      ]
     },
     "execution_count": 60,
     "metadata": {},
     "output_type": "execute_result"
    }
   ],
   "source": [
    "predict"
   ]
  },
  {
   "cell_type": "code",
   "execution_count": 61,
   "id": "89db9c07",
   "metadata": {},
   "outputs": [
    {
     "name": "stdout",
     "output_type": "stream",
     "text": [
      "Mean Error:  69573\n",
      "Mean Price:  529499\n",
      "Total error rate: 13%\n"
     ]
    }
   ],
   "source": [
    "mean_delta = np.mean(abs(predict - y_test))\n",
    "mean_price = np.mean(y_test)\n",
    "print('Mean Error: ', round(mean_delta))\n",
    "print('Mean Price: ', round(mean_price))\n",
    "print('Total error rate: ', round(100*mean_delta/mean_price), '%', sep='')"
   ]
  },
  {
   "cell_type": "code",
   "execution_count": null,
   "id": "7ef70455",
   "metadata": {},
   "outputs": [],
   "source": []
  }
 ],
 "metadata": {
  "kernelspec": {
   "display_name": "Python 3 (ipykernel)",
   "language": "python",
   "name": "python3"
  },
  "language_info": {
   "codemirror_mode": {
    "name": "ipython",
    "version": 3
   },
   "file_extension": ".py",
   "mimetype": "text/x-python",
   "name": "python",
   "nbconvert_exporter": "python",
   "pygments_lexer": "ipython3",
   "version": "3.8.13"
  },
  "toc": {
   "base_numbering": 1,
   "nav_menu": {},
   "number_sections": true,
   "sideBar": true,
   "skip_h1_title": false,
   "title_cell": "Table of Contents",
   "title_sidebar": "Contents",
   "toc_cell": false,
   "toc_position": {},
   "toc_section_display": true,
   "toc_window_display": false
  },
  "varInspector": {
   "cols": {
    "lenName": 16,
    "lenType": 16,
    "lenVar": 40
   },
   "kernels_config": {
    "python": {
     "delete_cmd_postfix": "",
     "delete_cmd_prefix": "del ",
     "library": "var_list.py",
     "varRefreshCmd": "print(var_dic_list())"
    },
    "r": {
     "delete_cmd_postfix": ") ",
     "delete_cmd_prefix": "rm(",
     "library": "var_list.r",
     "varRefreshCmd": "cat(var_dic_list()) "
    }
   },
   "types_to_exclude": [
    "module",
    "function",
    "builtin_function_or_method",
    "instance",
    "_Feature"
   ],
   "window_display": false
  }
 },
 "nbformat": 4,
 "nbformat_minor": 5
}
