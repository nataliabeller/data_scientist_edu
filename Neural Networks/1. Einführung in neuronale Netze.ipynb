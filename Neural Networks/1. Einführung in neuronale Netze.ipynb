{
 "cells": [
  {
   "cell_type": "code",
   "execution_count": 33,
   "id": "1f3a08db",
   "metadata": {},
   "outputs": [],
   "source": [
    "from tensorflow.keras.datasets import mnist \n",
    "from tensorflow.keras.models import Sequential \n",
    "from tensorflow.keras.layers import Dense\n",
    "import matplotlib.pyplot as plt \n",
    "from tensorflow.keras import utils\n",
    "\n",
    "import pandas as pd\n",
    "\n",
    "import time\n",
    "from tqdm import tqdm\n",
    "\n",
    "%matplotlib inline "
   ]
  },
  {
   "cell_type": "code",
   "execution_count": 2,
   "id": "3d139460",
   "metadata": {},
   "outputs": [],
   "source": [
    "# MNIST Daten laden\n",
    "(X_train, y_train), (X_test, y_test) = mnist.load_data()"
   ]
  },
  {
   "cell_type": "code",
   "execution_count": 3,
   "id": "5cbcd940",
   "metadata": {},
   "outputs": [
    {
     "name": "stdout",
     "output_type": "stream",
     "text": [
      "<class 'numpy.ndarray'>\n",
      "(60000, 28, 28)\n",
      "(60000,)\n",
      "(10000, 28, 28)\n",
      "(10000,)\n"
     ]
    }
   ],
   "source": [
    "# Überprüfung der Dimensionen\n",
    "print(type(X_train))\n",
    "print(X_train.shape)\n",
    "print(y_train.shape)\n",
    "print(X_test.shape)\n",
    "print(y_test.shape)"
   ]
  },
  {
   "cell_type": "code",
   "execution_count": 4,
   "id": "125a44f4",
   "metadata": {},
   "outputs": [
    {
     "data": {
      "text/plain": [
       "array([[  0,   0,   0,   0,   0,   0,   0,   0,   0,   0,   0,   0,   0,\n",
       "          0,   0,   0,   0,   0,   0,   0,   0,   0,   0,   0,   0,   0,\n",
       "          0,   0],\n",
       "       [  0,   0,   0,   0,   0,   0,   0,   0,   0,   0,   0,   0,   0,\n",
       "          0,   0,   0,   0,   0,   0,   0,   0,   0,   0,   0,   0,   0,\n",
       "          0,   0],\n",
       "       [  0,   0,   0,   0,   0,   0,   0,   0,   0,   0,   0,   0,   0,\n",
       "          0,   0,   0,   0,   0,   0,   0,   0,   0,   0,   0,   0,   0,\n",
       "          0,   0],\n",
       "       [  0,   0,   0,   0,   0,   0,   0,   0,   0,   0,   0,   0,   0,\n",
       "          0,   0,   0,   0,   0,   0,   0,   0,   0,   0,   0,   0,   0,\n",
       "          0,   0],\n",
       "       [  0,   0,   0,   0,   0,   0,   0,   0,   0,   0,   0,   0,  83,\n",
       "         91, 143, 255, 190,  91,  50,   0,   0,   0,   0,   0,   0,   0,\n",
       "          0,   0],\n",
       "       [  0,   0,   0,   0,   0,   0,   0,   0,   0,   9,  49, 180, 246,\n",
       "        253, 253, 253, 253, 253, 220, 154,  17,   3,   0,   0,   0,   0,\n",
       "          0,   0],\n",
       "       [  0,   0,   0,   0,   0,   0,   0,  46, 107, 178, 253, 253, 253,\n",
       "        253, 253, 253, 253, 253, 253, 253, 253, 126,  45,   0,   0,   0,\n",
       "          0,   0],\n",
       "       [  0,   0,   0,   0,   0,   0,   0, 107, 253, 253, 253, 253, 223,\n",
       "        220, 220, 220, 220, 245, 253, 253, 253, 253, 106,   0,   0,   0,\n",
       "          0,   0],\n",
       "       [  0,   0,   0,   0,   0,   0,   0, 107, 173, 253, 229, 129,  12,\n",
       "          0,   0,   0,   0, 110, 253, 253, 253, 253, 106,   0,   0,   0,\n",
       "          0,   0],\n",
       "       [  0,   0,   0,   0,   0,   0,   0,  17,  14,  40,  32,   0,   0,\n",
       "          0,   0,   0,   0,  57, 253, 253, 253, 242,  85,   0,   0,   0,\n",
       "          0,   0],\n",
       "       [  0,   0,   0,   0,   0,   0,   0,   0,   0,   0,   0,   0,   0,\n",
       "          0,   0,   5, 139, 224, 253, 253, 253, 105,   0,   0,   0,   0,\n",
       "          0,   0],\n",
       "       [  0,   0,   0,   0,   0,   0,   0,   0,   0,   0,   0,   0,   0,\n",
       "          0,  65, 178, 253, 253, 253, 253, 219,  24,   0,   0,   0,   0,\n",
       "          0,   0],\n",
       "       [  0,   0,   0,   0,   0,   0,   0,   0,   0,   0,   0,   0,   0,\n",
       "         97, 250, 253, 253, 253, 253, 127,  47,   0,   0,   0,   0,   0,\n",
       "          0,   0],\n",
       "       [  0,   0,   0,   0,   0,   0,   0,   0,   0,   0,   0,  46, 125,\n",
       "        250, 253, 253, 253, 245, 171,  33,   0,   0,   0,   0,   0,   0,\n",
       "          0,   0],\n",
       "       [  0,   0,   0,   0,   0,   0,   0,   0,   0,   5,  41, 217, 253,\n",
       "        253, 250, 245, 245, 115,   0,   0,   0,   0,   0,   0,   0,   0,\n",
       "          0,   0],\n",
       "       [  0,   0,   0,   0,   0,   0,   0,   0,   0, 124, 253, 253, 253,\n",
       "        192, 105,   0,   0,   0,   0,   0,   0,   0,   0,   0,   0,   0,\n",
       "          0,   0],\n",
       "       [  0,   0,   0,   0,   0,   0,   0,  11,  47, 220, 253, 253, 188,\n",
       "         25,   0,   0,   0,   0,   0,   0,   0,   0,   0,   0,   0,   0,\n",
       "          0,   0],\n",
       "       [  0,   0,   0,   0,   0,   0,   0, 107, 253, 253, 253, 189,  13,\n",
       "          0,   0,   0,   0,   0,   0,   0,   0,   0,   0,   0,   0,   0,\n",
       "          0,   0],\n",
       "       [  0,   0,   0,   0,   0,   0,  41, 225, 253, 253, 186,  22,   0,\n",
       "          0,   0,   0,   0,  31,  42, 174, 205, 205, 205, 193,  58,   0,\n",
       "          0,   0],\n",
       "       [  0,   0,   0,   0,   0,  48, 218, 253, 253, 253, 150,  59,   0,\n",
       "          0, 128, 131, 131, 222, 253, 253, 253, 253, 253,  94,   0,   0,\n",
       "          0,   0],\n",
       "       [  0,   0,   0,   0,   0,  12, 152, 253, 253, 253, 253, 236, 222,\n",
       "        222, 252, 253, 253, 253, 253, 253, 253, 253, 253, 122,   0,   0,\n",
       "          0,   0],\n",
       "       [  0,   0,   0,   0,   0,   0,   7, 167, 253, 253, 253, 253, 253,\n",
       "        253, 253, 253, 253, 253, 253, 253, 253, 124, 106,   7,   0,   0,\n",
       "          0,   0],\n",
       "       [  0,   0,   0,   0,   0,   0,   0,  76, 188, 253, 253, 253, 253,\n",
       "        253, 253, 253, 224,  57,  15,  15,  15,   2,   0,   0,   0,   0,\n",
       "          0,   0],\n",
       "       [  0,   0,   0,   0,   0,   0,   0,   0,  12,  89, 121, 253, 253,\n",
       "        151,  89,  89,  55,   0,   0,   0,   0,   0,   0,   0,   0,   0,\n",
       "          0,   0],\n",
       "       [  0,   0,   0,   0,   0,   0,   0,   0,   0,   0,   0,   0,   0,\n",
       "          0,   0,   0,   0,   0,   0,   0,   0,   0,   0,   0,   0,   0,\n",
       "          0,   0],\n",
       "       [  0,   0,   0,   0,   0,   0,   0,   0,   0,   0,   0,   0,   0,\n",
       "          0,   0,   0,   0,   0,   0,   0,   0,   0,   0,   0,   0,   0,\n",
       "          0,   0],\n",
       "       [  0,   0,   0,   0,   0,   0,   0,   0,   0,   0,   0,   0,   0,\n",
       "          0,   0,   0,   0,   0,   0,   0,   0,   0,   0,   0,   0,   0,\n",
       "          0,   0],\n",
       "       [  0,   0,   0,   0,   0,   0,   0,   0,   0,   0,   0,   0,   0,\n",
       "          0,   0,   0,   0,   0,   0,   0,   0,   0,   0,   0,   0,   0,\n",
       "          0,   0]], dtype=uint8)"
      ]
     },
     "execution_count": 4,
     "metadata": {},
     "output_type": "execute_result"
    }
   ],
   "source": [
    "img_num = 25 \n",
    "X_train[img_num]"
   ]
  },
  {
   "cell_type": "code",
   "execution_count": 5,
   "id": "6b09cec1",
   "metadata": {},
   "outputs": [
    {
     "data": {
      "text/plain": [
       "2"
      ]
     },
     "execution_count": 5,
     "metadata": {},
     "output_type": "execute_result"
    }
   ],
   "source": [
    "y_train[img_num]"
   ]
  },
  {
   "cell_type": "code",
   "execution_count": 6,
   "id": "97600b74",
   "metadata": {},
   "outputs": [
    {
     "data": {
      "image/png": "[encoded data removed]",
      "text/plain": [
       "<Figure size 432x288 with 1 Axes>"
      ]
     },
     "metadata": {
      "needs_background": "light"
     },
     "output_type": "display_data"
    }
   ],
   "source": [
    "plt.imshow(X_train[img_num], cmap='Greys') \n",
    "plt.show() "
   ]
  },
  {
   "cell_type": "code",
   "execution_count": 7,
   "id": "95d6794b",
   "metadata": {},
   "outputs": [
    {
     "name": "stdout",
     "output_type": "stream",
     "text": [
      "(60000, 28, 28)\n",
      "(60000, 784)\n"
     ]
    }
   ],
   "source": [
    "# bildformat von 28x28 auf 784x1 ändern (Dense Layer arbeitet mit Vectors)\n",
    "X_train_vec = X_train.reshape(60000, 784)\n",
    "X_test_vec = X_test.reshape(10000, 784)\n",
    "print(X_train.shape)\n",
    "print(X_train_vec.shape)"
   ]
  },
  {
   "cell_type": "code",
   "execution_count": 8,
   "id": "8c0ca0bf",
   "metadata": {},
   "outputs": [],
   "source": [
    "# Normalisierung der Bilder\n",
    "X_train_vec = X_train_vec.astype('float32')\n",
    "X_train_vec = X_train_vec / 255\n",
    "X_test_vec = X_test_vec.astype('float32')\n",
    "X_test_vec = X_test_vec / 255"
   ]
  },
  {
   "cell_type": "code",
   "execution_count": 9,
   "id": "1438e918",
   "metadata": {},
   "outputs": [
    {
     "data": {
      "text/plain": [
       "array([0.        , 0.        , 0.        , 0.        , 0.        ,\n",
       "       0.        , 0.        , 0.        , 0.        , 0.        ,\n",
       "       0.        , 0.        , 0.        , 0.        , 0.        ,\n",
       "       0.        , 0.        , 0.        , 0.        , 0.        ,\n",
       "       0.        , 0.        , 0.        , 0.        , 0.        ,\n",
       "       0.        , 0.        , 0.        , 0.        , 0.        ,\n",
       "       0.        , 0.        , 0.        , 0.        , 0.        ,\n",
       "       0.        , 0.        , 0.        , 0.        , 0.        ,\n",
       "       0.        , 0.        , 0.        , 0.        , 0.        ,\n",
       "       0.        , 0.        , 0.        , 0.        , 0.        ,\n",
       "       0.        , 0.        , 0.        , 0.        , 0.        ,\n",
       "       0.        , 0.        , 0.        , 0.        , 0.        ,\n",
       "       0.        , 0.        , 0.        , 0.        , 0.        ,\n",
       "       0.        , 0.        , 0.        , 0.        , 0.        ,\n",
       "       0.        , 0.        , 0.        , 0.        , 0.        ,\n",
       "       0.        , 0.        , 0.        , 0.        , 0.        ,\n",
       "       0.        , 0.        , 0.        , 0.        , 0.        ,\n",
       "       0.        , 0.        , 0.        , 0.        , 0.        ,\n",
       "       0.        , 0.        , 0.        , 0.        , 0.        ,\n",
       "       0.        , 0.        , 0.        , 0.        , 0.        ,\n",
       "       0.        , 0.        , 0.        , 0.        , 0.        ,\n",
       "       0.        , 0.        , 0.        , 0.        , 0.        ,\n",
       "       0.        , 0.        , 0.        , 0.        , 0.        ,\n",
       "       0.        , 0.        , 0.        , 0.        , 0.        ,\n",
       "       0.        , 0.        , 0.        , 0.        , 0.3254902 ,\n",
       "       0.35686275, 0.56078434, 1.        , 0.74509805, 0.35686275,\n",
       "       0.19607843, 0.        , 0.        , 0.        , 0.        ,\n",
       "       0.        , 0.        , 0.        , 0.        , 0.        ,\n",
       "       0.        , 0.        , 0.        , 0.        , 0.        ,\n",
       "       0.        , 0.        , 0.        , 0.        , 0.03529412,\n",
       "       0.19215687, 0.7058824 , 0.9647059 , 0.99215686, 0.99215686,\n",
       "       0.99215686, 0.99215686, 0.99215686, 0.8627451 , 0.6039216 ,\n",
       "       0.06666667, 0.01176471, 0.        , 0.        , 0.        ,\n",
       "       0.        , 0.        , 0.        , 0.        , 0.        ,\n",
       "       0.        , 0.        , 0.        , 0.        , 0.        ,\n",
       "       0.18039216, 0.41960785, 0.69803923, 0.99215686, 0.99215686,\n",
       "       0.99215686, 0.99215686, 0.99215686, 0.99215686, 0.99215686,\n",
       "       0.99215686, 0.99215686, 0.99215686, 0.99215686, 0.49411765,\n",
       "       0.1764706 , 0.        , 0.        , 0.        , 0.        ,\n",
       "       0.        , 0.        , 0.        , 0.        , 0.        ,\n",
       "       0.        , 0.        , 0.        , 0.41960785, 0.99215686,\n",
       "       0.99215686, 0.99215686, 0.99215686, 0.8745098 , 0.8627451 ,\n",
       "       0.8627451 , 0.8627451 , 0.8627451 , 0.9607843 , 0.99215686,\n",
       "       0.99215686, 0.99215686, 0.99215686, 0.41568628, 0.        ,\n",
       "       0.        , 0.        , 0.        , 0.        , 0.        ,\n",
       "       0.        , 0.        , 0.        , 0.        , 0.        ,\n",
       "       0.        , 0.41960785, 0.6784314 , 0.99215686, 0.8980392 ,\n",
       "       0.5058824 , 0.04705882, 0.        , 0.        , 0.        ,\n",
       "       0.        , 0.43137255, 0.99215686, 0.99215686, 0.99215686,\n",
       "       0.99215686, 0.41568628, 0.        , 0.        , 0.        ,\n",
       "       0.        , 0.        , 0.        , 0.        , 0.        ,\n",
       "       0.        , 0.        , 0.        , 0.        , 0.06666667,\n",
       "       0.05490196, 0.15686275, 0.1254902 , 0.        , 0.        ,\n",
       "       0.        , 0.        , 0.        , 0.        , 0.22352941,\n",
       "       0.99215686, 0.99215686, 0.99215686, 0.9490196 , 0.33333334,\n",
       "       0.        , 0.        , 0.        , 0.        , 0.        ,\n",
       "       0.        , 0.        , 0.        , 0.        , 0.        ,\n",
       "       0.        , 0.        , 0.        , 0.        , 0.        ,\n",
       "       0.        , 0.        , 0.        , 0.        , 0.        ,\n",
       "       0.01960784, 0.54509807, 0.8784314 , 0.99215686, 0.99215686,\n",
       "       0.99215686, 0.4117647 , 0.        , 0.        , 0.        ,\n",
       "       0.        , 0.        , 0.        , 0.        , 0.        ,\n",
       "       0.        , 0.        , 0.        , 0.        , 0.        ,\n",
       "       0.        , 0.        , 0.        , 0.        , 0.        ,\n",
       "       0.        , 0.        , 0.25490198, 0.69803923, 0.99215686,\n",
       "       0.99215686, 0.99215686, 0.99215686, 0.85882354, 0.09411765,\n",
       "       0.        , 0.        , 0.        , 0.        , 0.        ,\n",
       "       0.        , 0.        , 0.        , 0.        , 0.        ,\n",
       "       0.        , 0.        , 0.        , 0.        , 0.        ,\n",
       "       0.        , 0.        , 0.        , 0.        , 0.38039216,\n",
       "       0.98039216, 0.99215686, 0.99215686, 0.99215686, 0.99215686,\n",
       "       0.49803922, 0.18431373, 0.        , 0.        , 0.        ,\n",
       "       0.        , 0.        , 0.        , 0.        , 0.        ,\n",
       "       0.        , 0.        , 0.        , 0.        , 0.        ,\n",
       "       0.        , 0.        , 0.        , 0.        , 0.        ,\n",
       "       0.18039216, 0.49019608, 0.98039216, 0.99215686, 0.99215686,\n",
       "       0.99215686, 0.9607843 , 0.67058825, 0.12941177, 0.        ,\n",
       "       0.        , 0.        , 0.        , 0.        , 0.        ,\n",
       "       0.        , 0.        , 0.        , 0.        , 0.        ,\n",
       "       0.        , 0.        , 0.        , 0.        , 0.        ,\n",
       "       0.        , 0.01960784, 0.16078432, 0.8509804 , 0.99215686,\n",
       "       0.99215686, 0.98039216, 0.9607843 , 0.9607843 , 0.4509804 ,\n",
       "       0.        , 0.        , 0.        , 0.        , 0.        ,\n",
       "       0.        , 0.        , 0.        , 0.        , 0.        ,\n",
       "       0.        , 0.        , 0.        , 0.        , 0.        ,\n",
       "       0.        , 0.        , 0.        , 0.        , 0.4862745 ,\n",
       "       0.99215686, 0.99215686, 0.99215686, 0.7529412 , 0.4117647 ,\n",
       "       0.        , 0.        , 0.        , 0.        , 0.        ,\n",
       "       0.        , 0.        , 0.        , 0.        , 0.        ,\n",
       "       0.        , 0.        , 0.        , 0.        , 0.        ,\n",
       "       0.        , 0.        , 0.        , 0.        , 0.        ,\n",
       "       0.04313726, 0.18431373, 0.8627451 , 0.99215686, 0.99215686,\n",
       "       0.7372549 , 0.09803922, 0.        , 0.        , 0.        ,\n",
       "       0.        , 0.        , 0.        , 0.        , 0.        ,\n",
       "       0.        , 0.        , 0.        , 0.        , 0.        ,\n",
       "       0.        , 0.        , 0.        , 0.        , 0.        ,\n",
       "       0.        , 0.        , 0.        , 0.41960785, 0.99215686,\n",
       "       0.99215686, 0.99215686, 0.7411765 , 0.05098039, 0.        ,\n",
       "       0.        , 0.        , 0.        , 0.        , 0.        ,\n",
       "       0.        , 0.        , 0.        , 0.        , 0.        ,\n",
       "       0.        , 0.        , 0.        , 0.        , 0.        ,\n",
       "       0.        , 0.        , 0.        , 0.        , 0.        ,\n",
       "       0.16078432, 0.88235295, 0.99215686, 0.99215686, 0.7294118 ,\n",
       "       0.08627451, 0.        , 0.        , 0.        , 0.        ,\n",
       "       0.        , 0.12156863, 0.16470589, 0.68235296, 0.8039216 ,\n",
       "       0.8039216 , 0.8039216 , 0.75686276, 0.22745098, 0.        ,\n",
       "       0.        , 0.        , 0.        , 0.        , 0.        ,\n",
       "       0.        , 0.        , 0.1882353 , 0.85490197, 0.99215686,\n",
       "       0.99215686, 0.99215686, 0.5882353 , 0.23137255, 0.        ,\n",
       "       0.        , 0.5019608 , 0.5137255 , 0.5137255 , 0.87058824,\n",
       "       0.99215686, 0.99215686, 0.99215686, 0.99215686, 0.99215686,\n",
       "       0.36862746, 0.        , 0.        , 0.        , 0.        ,\n",
       "       0.        , 0.        , 0.        , 0.        , 0.        ,\n",
       "       0.04705882, 0.59607846, 0.99215686, 0.99215686, 0.99215686,\n",
       "       0.99215686, 0.9254902 , 0.87058824, 0.87058824, 0.9882353 ,\n",
       "       0.99215686, 0.99215686, 0.99215686, 0.99215686, 0.99215686,\n",
       "       0.99215686, 0.99215686, 0.99215686, 0.47843137, 0.        ,\n",
       "       0.        , 0.        , 0.        , 0.        , 0.        ,\n",
       "       0.        , 0.        , 0.        , 0.        , 0.02745098,\n",
       "       0.654902  , 0.99215686, 0.99215686, 0.99215686, 0.99215686,\n",
       "       0.99215686, 0.99215686, 0.99215686, 0.99215686, 0.99215686,\n",
       "       0.99215686, 0.99215686, 0.99215686, 0.99215686, 0.4862745 ,\n",
       "       0.41568628, 0.02745098, 0.        , 0.        , 0.        ,\n",
       "       0.        , 0.        , 0.        , 0.        , 0.        ,\n",
       "       0.        , 0.        , 0.        , 0.29803923, 0.7372549 ,\n",
       "       0.99215686, 0.99215686, 0.99215686, 0.99215686, 0.99215686,\n",
       "       0.99215686, 0.99215686, 0.8784314 , 0.22352941, 0.05882353,\n",
       "       0.05882353, 0.05882353, 0.00784314, 0.        , 0.        ,\n",
       "       0.        , 0.        , 0.        , 0.        , 0.        ,\n",
       "       0.        , 0.        , 0.        , 0.        , 0.        ,\n",
       "       0.        , 0.        , 0.04705882, 0.34901962, 0.4745098 ,\n",
       "       0.99215686, 0.99215686, 0.5921569 , 0.34901962, 0.34901962,\n",
       "       0.21568628, 0.        , 0.        , 0.        , 0.        ,\n",
       "       0.        , 0.        , 0.        , 0.        , 0.        ,\n",
       "       0.        , 0.        , 0.        , 0.        , 0.        ,\n",
       "       0.        , 0.        , 0.        , 0.        , 0.        ,\n",
       "       0.        , 0.        , 0.        , 0.        , 0.        ,\n",
       "       0.        , 0.        , 0.        , 0.        , 0.        ,\n",
       "       0.        , 0.        , 0.        , 0.        , 0.        ,\n",
       "       0.        , 0.        , 0.        , 0.        , 0.        ,\n",
       "       0.        , 0.        , 0.        , 0.        , 0.        ,\n",
       "       0.        , 0.        , 0.        , 0.        , 0.        ,\n",
       "       0.        , 0.        , 0.        , 0.        , 0.        ,\n",
       "       0.        , 0.        , 0.        , 0.        , 0.        ,\n",
       "       0.        , 0.        , 0.        , 0.        , 0.        ,\n",
       "       0.        , 0.        , 0.        , 0.        , 0.        ,\n",
       "       0.        , 0.        , 0.        , 0.        , 0.        ,\n",
       "       0.        , 0.        , 0.        , 0.        , 0.        ,\n",
       "       0.        , 0.        , 0.        , 0.        , 0.        ,\n",
       "       0.        , 0.        , 0.        , 0.        , 0.        ,\n",
       "       0.        , 0.        , 0.        , 0.        , 0.        ,\n",
       "       0.        , 0.        , 0.        , 0.        , 0.        ,\n",
       "       0.        , 0.        , 0.        , 0.        , 0.        ,\n",
       "       0.        , 0.        , 0.        , 0.        , 0.        ,\n",
       "       0.        , 0.        , 0.        , 0.        , 0.        ,\n",
       "       0.        , 0.        , 0.        , 0.        , 0.        ,\n",
       "       0.        , 0.        , 0.        , 0.        ], dtype=float32)"
      ]
     },
     "execution_count": 9,
     "metadata": {},
     "output_type": "execute_result"
    }
   ],
   "source": [
    "X_train_vec[img_num]"
   ]
  },
  {
   "cell_type": "code",
   "execution_count": 10,
   "id": "3250632a",
   "metadata": {},
   "outputs": [
    {
     "data": {
      "text/plain": [
       "2"
      ]
     },
     "execution_count": 10,
     "metadata": {},
     "output_type": "execute_result"
    }
   ],
   "source": [
    "y_train[img_num]"
   ]
  },
  {
   "cell_type": "code",
   "execution_count": 11,
   "id": "386d9d99",
   "metadata": {},
   "outputs": [
    {
     "data": {
      "text/plain": [
       "array([0., 0., 1., 0., 0., 0., 0., 0., 0., 0.], dtype=float32)"
      ]
     },
     "execution_count": 11,
     "metadata": {},
     "output_type": "execute_result"
    }
   ],
   "source": [
    "utils.to_categorical(y_train[img_num], 10)"
   ]
  },
  {
   "cell_type": "code",
   "execution_count": 12,
   "id": "3777dd09",
   "metadata": {},
   "outputs": [],
   "source": [
    "# Antworten in das Format one_hot_encoding umwandeln\n",
    "y_train_vec = utils.to_categorical(y_train, 10)\n",
    "y_test_vec = utils.to_categorical(y_test, 10)"
   ]
  },
  {
   "cell_type": "code",
   "execution_count": 13,
   "id": "8302e7af",
   "metadata": {},
   "outputs": [
    {
     "name": "stdout",
     "output_type": "stream",
     "text": [
      "(60000, 10)\n"
     ]
    }
   ],
   "source": [
    "print(y_train_vec.shape)"
   ]
  },
  {
   "cell_type": "markdown",
   "id": "15ad7e51",
   "metadata": {},
   "source": [
    "## Erstellen eines neuronalen Netzwerks"
   ]
  },
  {
   "cell_type": "code",
   "execution_count": 14,
   "id": "3313ce93",
   "metadata": {},
   "outputs": [
    {
     "name": "stdout",
     "output_type": "stream",
     "text": [
      "Model: \"sequential\"\n",
      "_________________________________________________________________\n",
      "Layer (type)                 Output Shape              Param #   \n",
      "=================================================================\n",
      "dense (Dense)                (None, 100)               78500     \n",
      "_________________________________________________________________\n",
      "dense_1 (Dense)              (None, 50)                5050      \n",
      "_________________________________________________________________\n",
      "dense_2 (Dense)              (None, 10)                510       \n",
      "=================================================================\n",
      "Total params: 84,060\n",
      "Trainable params: 84,060\n",
      "Non-trainable params: 0\n",
      "_________________________________________________________________\n"
     ]
    }
   ],
   "source": [
    "model = Sequential()\n",
    "model.add(Dense(100, input_dim = 784, activation = 'relu'))\n",
    "model.add(Dense(50, activation = 'relu'))\n",
    "model.add(Dense(10, activation = 'softmax'))\n",
    "model.summary()"
   ]
  },
  {
   "cell_type": "code",
   "execution_count": 15,
   "id": "dc506e9b",
   "metadata": {},
   "outputs": [],
   "source": [
    "model.compile(loss=\"categorical_crossentropy\", optimizer=\"adam\", metrics=[\"accuracy\"])"
   ]
  },
  {
   "cell_type": "code",
   "execution_count": 16,
   "id": "d0f8150f",
   "metadata": {},
   "outputs": [],
   "source": [
    "# model.get_weights()"
   ]
  },
  {
   "cell_type": "code",
   "execution_count": 17,
   "id": "107c5903",
   "metadata": {},
   "outputs": [
    {
     "name": "stdout",
     "output_type": "stream",
     "text": [
      "Epoch 1/15\n",
      "375/375 [==============================] - 1s 3ms/step - loss: 0.4104 - accuracy: 0.8879 - val_loss: 0.1904 - val_accuracy: 0.9453\n",
      "Epoch 2/15\n",
      "375/375 [==============================] - 1s 2ms/step - loss: 0.1671 - accuracy: 0.9507 - val_loss: 0.1382 - val_accuracy: 0.9603\n",
      "Epoch 3/15\n",
      "375/375 [==============================] - 1s 2ms/step - loss: 0.1178 - accuracy: 0.9652 - val_loss: 0.1275 - val_accuracy: 0.9629\n",
      "Epoch 4/15\n",
      "375/375 [==============================] - 1s 2ms/step - loss: 0.0906 - accuracy: 0.9735 - val_loss: 0.1141 - val_accuracy: 0.9661\n",
      "Epoch 5/15\n",
      "375/375 [==============================] - 1s 2ms/step - loss: 0.0727 - accuracy: 0.9783 - val_loss: 0.1006 - val_accuracy: 0.9701\n",
      "Epoch 6/15\n",
      "375/375 [==============================] - 1s 2ms/step - loss: 0.0601 - accuracy: 0.9821 - val_loss: 0.0973 - val_accuracy: 0.9707\n",
      "Epoch 7/15\n",
      "375/375 [==============================] - 1s 3ms/step - loss: 0.0470 - accuracy: 0.9863 - val_loss: 0.1083 - val_accuracy: 0.9686\n",
      "Epoch 8/15\n",
      "375/375 [==============================] - 1s 3ms/step - loss: 0.0413 - accuracy: 0.9877 - val_loss: 0.0981 - val_accuracy: 0.9714\n",
      "Epoch 9/15\n",
      "375/375 [==============================] - 1s 2ms/step - loss: 0.0340 - accuracy: 0.9903 - val_loss: 0.1066 - val_accuracy: 0.9715\n",
      "Epoch 10/15\n",
      "375/375 [==============================] - 1s 2ms/step - loss: 0.0287 - accuracy: 0.9913 - val_loss: 0.1017 - val_accuracy: 0.9730\n",
      "Epoch 11/15\n",
      "375/375 [==============================] - 1s 2ms/step - loss: 0.0240 - accuracy: 0.9927 - val_loss: 0.1061 - val_accuracy: 0.9726\n",
      "Epoch 12/15\n",
      "375/375 [==============================] - 1s 2ms/step - loss: 0.0209 - accuracy: 0.9937 - val_loss: 0.1054 - val_accuracy: 0.9727\n",
      "Epoch 13/15\n",
      "375/375 [==============================] - 1s 2ms/step - loss: 0.0207 - accuracy: 0.9935 - val_loss: 0.1161 - val_accuracy: 0.9698\n",
      "Epoch 14/15\n",
      "375/375 [==============================] - 1s 2ms/step - loss: 0.0142 - accuracy: 0.9959 - val_loss: 0.1092 - val_accuracy: 0.9733\n",
      "Epoch 15/15\n",
      "375/375 [==============================] - 1s 2ms/step - loss: 0.0148 - accuracy: 0.9958 - val_loss: 0.1173 - val_accuracy: 0.9732\n"
     ]
    }
   ],
   "source": [
    "# Training des neuronalen Netzwerks\n",
    "history = model.fit(X_train_vec, y_train_vec, batch_size=128, epochs=15, verbose=1, validation_split=0.2)"
   ]
  },
  {
   "cell_type": "code",
   "execution_count": 18,
   "id": "5fe96930",
   "metadata": {},
   "outputs": [
    {
     "data": {
      "image/png": "[encoded data removed]",
      "text/plain": [
       "<Figure size 432x288 with 1 Axes>"
      ]
     },
     "metadata": {
      "needs_background": "light"
     },
     "output_type": "display_data"
    },
    {
     "data": {
      "image/png": "[encoded data removed]",
      "text/plain": [
       "<Figure size 432x288 with 1 Axes>"
      ]
     },
     "metadata": {
      "needs_background": "light"
     },
     "output_type": "display_data"
    }
   ],
   "source": [
    "# Die Lernkurven grafisch darstellen (loss)\n",
    "plt.plot(history.history['loss'], label='Train data')\n",
    "plt.plot(history.history['val_loss'], label='Val data')\n",
    "plt.legend()\n",
    "plt.xlabel('Epoch')\n",
    "plt.ylabel('Loss')\n",
    "plt.show()\n",
    "\n",
    "# Die Lernkurven grafisch darstellen (accuracy)\n",
    "plt.plot(history.history['accuracy'], label='Train data')\n",
    "plt.plot(history.history['val_accuracy'], label='Val data')\n",
    "plt.legend()\n",
    "plt.xlabel('Epoch')\n",
    "plt.ylabel('Accuracy')\n",
    "plt.show()"
   ]
  },
  {
   "cell_type": "code",
   "execution_count": 19,
   "id": "542d7cee",
   "metadata": {},
   "outputs": [],
   "source": [
    "model.save_weights('model.h5')\n",
    "# model.load_weights('model.h5')"
   ]
  },
  {
   "cell_type": "markdown",
   "id": "0e471a05",
   "metadata": {},
   "source": [
    "## Experimente mit neuronalen Netzwerkeinstellungen"
   ]
  },
  {
   "cell_type": "code",
   "execution_count": 46,
   "id": "6ff430de",
   "metadata": {},
   "outputs": [],
   "source": [
    "def log_results(neuron_num, akt_func, batch_size, loss, acc, run_time):\n",
    "    return {'neuron_num': neuron_num, 'aktivation_func':akt_func,  'batch_size':batch_size, \n",
    "                 'loss' : round(loss, 3), 'acc': round(acc, 3), 'exec_time': round(run_time, 3) }"
   ]
  },
  {
   "cell_type": "code",
   "execution_count": 38,
   "id": "6eb4bd59",
   "metadata": {},
   "outputs": [],
   "source": [
    "results = []"
   ]
  },
  {
   "cell_type": "code",
   "execution_count": 39,
   "id": "f26ac4ab",
   "metadata": {},
   "outputs": [],
   "source": [
    "start_time = time.time()\n",
    "\n",
    "model = Sequential() \n",
    "model.add(Dense(800, input_dim=784, activation=\"relu\"))\n",
    "model.add(Dense(10, activation=\"softmax\"))"
   ]
  },
  {
   "cell_type": "code",
   "execution_count": 40,
   "id": "ec15e53a",
   "metadata": {},
   "outputs": [
    {
     "name": "stdout",
     "output_type": "stream",
     "text": [
      "Model: \"sequential_13\"\n",
      "_________________________________________________________________\n",
      "Layer (type)                 Output Shape              Param #   \n",
      "=================================================================\n",
      "dense_28 (Dense)             (None, 800)               628000    \n",
      "_________________________________________________________________\n",
      "dense_29 (Dense)             (None, 10)                8010      \n",
      "=================================================================\n",
      "Total params: 636,010\n",
      "Trainable params: 636,010\n",
      "Non-trainable params: 0\n",
      "_________________________________________________________________\n",
      "None\n"
     ]
    }
   ],
   "source": [
    "model.compile(loss=\"categorical_crossentropy\", optimizer=\"adam\", metrics=[\"accuracy\"]) # Компилируем модель\n",
    "print(model.summary())"
   ]
  },
  {
   "cell_type": "code",
   "execution_count": 41,
   "id": "7ab60db3",
   "metadata": {},
   "outputs": [
    {
     "name": "stdout",
     "output_type": "stream",
     "text": [
      "Epoch 1/15\n",
      "375/375 [==============================] - 3s 7ms/step - loss: 0.2765 - accuracy: 0.9211 - val_loss: 0.1460 - val_accuracy: 0.9582\n",
      "Epoch 2/15\n",
      "375/375 [==============================] - 3s 7ms/step - loss: 0.1106 - accuracy: 0.9674 - val_loss: 0.0991 - val_accuracy: 0.9708\n",
      "Epoch 3/15\n",
      "375/375 [==============================] - 2s 6ms/step - loss: 0.0699 - accuracy: 0.9799 - val_loss: 0.0885 - val_accuracy: 0.9730\n",
      "Epoch 4/15\n",
      "375/375 [==============================] - 3s 7ms/step - loss: 0.0486 - accuracy: 0.9856 - val_loss: 0.0794 - val_accuracy: 0.9758\n",
      "Epoch 5/15\n",
      "375/375 [==============================] - 3s 7ms/step - loss: 0.0339 - accuracy: 0.9908 - val_loss: 0.0792 - val_accuracy: 0.9775\n",
      "Epoch 6/15\n",
      "375/375 [==============================] - 3s 7ms/step - loss: 0.0245 - accuracy: 0.9930 - val_loss: 0.0797 - val_accuracy: 0.9753\n",
      "Epoch 7/15\n",
      "375/375 [==============================] - 3s 8ms/step - loss: 0.0174 - accuracy: 0.9957 - val_loss: 0.0781 - val_accuracy: 0.9767\n",
      "Epoch 8/15\n",
      "375/375 [==============================] - 3s 9ms/step - loss: 0.0128 - accuracy: 0.9971 - val_loss: 0.0771 - val_accuracy: 0.9788\n",
      "Epoch 9/15\n",
      "375/375 [==============================] - 3s 8ms/step - loss: 0.0091 - accuracy: 0.9981 - val_loss: 0.0840 - val_accuracy: 0.9772\n",
      "Epoch 10/15\n",
      "375/375 [==============================] - 3s 9ms/step - loss: 0.0069 - accuracy: 0.9987 - val_loss: 0.0793 - val_accuracy: 0.9784\n",
      "Epoch 11/15\n",
      "375/375 [==============================] - 3s 8ms/step - loss: 0.0074 - accuracy: 0.9983 - val_loss: 0.0901 - val_accuracy: 0.9762\n",
      "Epoch 12/15\n",
      "375/375 [==============================] - 3s 8ms/step - loss: 0.0079 - accuracy: 0.9979 - val_loss: 0.0901 - val_accuracy: 0.9776\n",
      "Epoch 13/15\n",
      "375/375 [==============================] - 3s 7ms/step - loss: 0.0056 - accuracy: 0.9985 - val_loss: 0.0839 - val_accuracy: 0.9783\n",
      "Epoch 14/15\n",
      "375/375 [==============================] - 3s 7ms/step - loss: 0.0055 - accuracy: 0.9985 - val_loss: 0.0833 - val_accuracy: 0.9794\n",
      "Epoch 15/15\n",
      "375/375 [==============================] - 2s 6ms/step - loss: 0.0079 - accuracy: 0.9977 - val_loss: 0.0887 - val_accuracy: 0.9787\n"
     ]
    },
    {
     "data": {
      "text/plain": [
       "<tensorflow.python.keras.callbacks.History at 0x22d608d3820>"
      ]
     },
     "execution_count": 41,
     "metadata": {},
     "output_type": "execute_result"
    }
   ],
   "source": [
    "model.fit(X_train_vec, y_train_vec, batch_size=128, epochs=15, verbose=1, validation_split=0.2)"
   ]
  },
  {
   "cell_type": "code",
   "execution_count": 42,
   "id": "8d51cbe6",
   "metadata": {},
   "outputs": [
    {
     "name": "stdout",
     "output_type": "stream",
     "text": [
      "313/313 [==============================] - 1s 2ms/step - loss: 0.0796 - accuracy: 0.9798\n"
     ]
    }
   ],
   "source": [
    "res = model.evaluate(X_test_vec, y_test_vec)\n",
    "\n",
    "end_time = time.time()"
   ]
  },
  {
   "cell_type": "code",
   "execution_count": 47,
   "id": "7af62cce",
   "metadata": {},
   "outputs": [
    {
     "data": {
      "text/plain": [
       "[{'neuron_num': 800,\n",
       "  'aktivation_func': 'relu',\n",
       "  'batch_size': 128,\n",
       "  'loss': 0.08,\n",
       "  'acc': 0.98,\n",
       "  'exec_time': 43.445}]"
      ]
     },
     "execution_count": 47,
     "metadata": {},
     "output_type": "execute_result"
    }
   ],
   "source": [
    "results.append(log_results(800, 'relu', 128, res[0], res[1], end_time - start_time))\n",
    "results"
   ]
  },
  {
   "cell_type": "markdown",
   "id": "7edfd5b0",
   "metadata": {},
   "source": [
    "### Aufgabe 1"
   ]
  },
  {
   "cell_type": "markdown",
   "id": "0e613b07",
   "metadata": {},
   "source": [
    "Ändern Sie die Anzahl der Neuronen im Netz mit den folgenden Werten:<br><br>\n",
    "    ○ eine Schicht 10 Neuronen<br>\n",
    "    ○ eine Schicht 100 Neuronen<br>\n",
    "    ○ eine Schicht 5000 Neuronen<br>"
   ]
  },
  {
   "cell_type": "code",
   "execution_count": 49,
   "id": "91e97cec",
   "metadata": {},
   "outputs": [
    {
     "name": "stderr",
     "output_type": "stream",
     "text": [
      "\r",
      "  0%|          | 0/3 [00:00<?, ?it/s]"
     ]
    },
    {
     "name": "stdout",
     "output_type": "stream",
     "text": [
      "313/313 [==============================] - 0s 793us/step - loss: 0.2432 - accuracy: 0.9315\n"
     ]
    },
    {
     "name": "stderr",
     "output_type": "stream",
     "text": [
      "\r",
      " 33%|███▎      | 1/3 [00:07<00:14,  7.20s/it]"
     ]
    },
    {
     "name": "stdout",
     "output_type": "stream",
     "text": [
      "313/313 [==============================] - 0s 849us/step - loss: 0.0789 - accuracy: 0.9781\n"
     ]
    },
    {
     "name": "stderr",
     "output_type": "stream",
     "text": [
      "\r",
      " 67%|██████▋   | 2/3 [00:15<00:08,  8.11s/it]"
     ]
    },
    {
     "name": "stdout",
     "output_type": "stream",
     "text": [
      "313/313 [==============================] - 1s 4ms/step - loss: 0.0794 - accuracy: 0.9834\n"
     ]
    },
    {
     "name": "stderr",
     "output_type": "stream",
     "text": [
      "100%|██████████| 3/3 [02:56<00:00, 58.71s/it]\n"
     ]
    }
   ],
   "source": [
    "neuron_num = [10, 100, 5000]\n",
    "\n",
    "for n in tqdm(neuron_num):\n",
    "    start_time = time.time()\n",
    "    model = Sequential() \n",
    "    model.add(Dense(n, input_dim=784, activation=\"relu\"))\n",
    "    model.add(Dense(10, activation=\"softmax\"))\n",
    "    \n",
    "    model.compile(loss=\"categorical_crossentropy\", optimizer=\"adam\", metrics=[\"accuracy\"])\n",
    "    \n",
    "    model.fit(X_train_vec, y_train_vec, batch_size=128, epochs=15, verbose=0, validation_split=0.2)\n",
    "    \n",
    "    res = model.evaluate(X_test_vec, y_test_vec)\n",
    "    \n",
    "    end_time = time.time()\n",
    "    \n",
    "    results.append(log_results(n, 'relu', 128, res[0], res[1], end_time - start_time))\n",
    "    \n",
    "    "
   ]
  },
  {
   "cell_type": "code",
   "execution_count": 52,
   "id": "c26cda38",
   "metadata": {},
   "outputs": [
    {
     "name": "stdout",
     "output_type": "stream",
     "text": [
      "4\n"
     ]
    }
   ],
   "source": [
    "print(len(results))"
   ]
  },
  {
   "cell_type": "markdown",
   "id": "d43fa166",
   "metadata": {},
   "source": [
    "### Aufgabe 2"
   ]
  },
  {
   "cell_type": "markdown",
   "id": "d3746555",
   "metadata": {},
   "source": [
    "Ändern Sie die Aktivierungsfunktion in den versteckten Schichten von relu auf linear."
   ]
  },
  {
   "cell_type": "code",
   "execution_count": 53,
   "id": "dbaf345c",
   "metadata": {},
   "outputs": [
    {
     "name": "stdout",
     "output_type": "stream",
     "text": [
      "313/313 [==============================] - 1s 2ms/step - loss: 0.2873 - accuracy: 0.9243\n"
     ]
    }
   ],
   "source": [
    "start_time = time.time()\n",
    "    \n",
    "model = Sequential() \n",
    "model.add(Dense(800, input_dim=784, activation=\"linear\"))\n",
    "model.add(Dense(10, activation=\"softmax\"))\n",
    "    \n",
    "model.compile(loss=\"categorical_crossentropy\", optimizer=\"adam\", metrics=[\"accuracy\"])\n",
    "    \n",
    "model.fit(X_train_vec, y_train_vec, batch_size=128, epochs=15, verbose=0, validation_split=0.2)\n",
    "    \n",
    "res = model.evaluate(X_test_vec, y_test_vec)\n",
    "    \n",
    "end_time = time.time()\n",
    "    \n",
    "results.append(log_results(800, 'linear', 128, res[0], res[1], end_time - start_time))"
   ]
  },
  {
   "cell_type": "code",
   "execution_count": 54,
   "id": "de8c6b25",
   "metadata": {},
   "outputs": [
    {
     "name": "stdout",
     "output_type": "stream",
     "text": [
      "5\n"
     ]
    }
   ],
   "source": [
    "print(len(results))"
   ]
  },
  {
   "cell_type": "markdown",
   "id": "a7d06eee",
   "metadata": {},
   "source": [
    "### Aufgbe 3"
   ]
  },
  {
   "cell_type": "markdown",
   "id": "6d70d11c",
   "metadata": {},
   "source": [
    "Ändern Sie die batch_size:<br><br>\n",
    "    ○ 1<br>\n",
    "    ○ 10<br>\n",
    "    ○ 100<br>\n",
    "    ○ Alle Basis (60000)"
   ]
  },
  {
   "cell_type": "code",
   "execution_count": 55,
   "id": "96efc011",
   "metadata": {},
   "outputs": [
    {
     "name": "stdout",
     "output_type": "stream",
     "text": [
      "Epoch 1/15\n",
      "48000/48000 [==============================] - 49s 1ms/step - loss: 0.2263 - accuracy: 0.9332 - val_loss: 0.1447 - val_accuracy: 0.9601\n",
      "Epoch 2/15\n",
      "48000/48000 [==============================] - 48s 1ms/step - loss: 0.1282 - accuracy: 0.9647 - val_loss: 0.1812 - val_accuracy: 0.9572\n",
      "Epoch 3/15\n",
      "48000/48000 [==============================] - 48s 1ms/step - loss: 0.1056 - accuracy: 0.9715 - val_loss: 0.1543 - val_accuracy: 0.9678\n",
      "Epoch 4/15\n",
      "48000/48000 [==============================] - 48s 1ms/step - loss: 0.0874 - accuracy: 0.9781 - val_loss: 0.1807 - val_accuracy: 0.9666\n",
      "Epoch 5/15\n",
      "48000/48000 [==============================] - 48s 1ms/step - loss: 0.0814 - accuracy: 0.9791 - val_loss: 0.1577 - val_accuracy: 0.9718\n",
      "Epoch 6/15\n",
      "48000/48000 [==============================] - 48s 1ms/step - loss: 0.0715 - accuracy: 0.9829 - val_loss: 0.1920 - val_accuracy: 0.9675\n",
      "Epoch 7/15\n",
      "48000/48000 [==============================] - 53s 1ms/step - loss: 0.0615 - accuracy: 0.9847 - val_loss: 0.1971 - val_accuracy: 0.9712\n",
      "Epoch 8/15\n",
      "48000/48000 [==============================] - 48s 1ms/step - loss: 0.0568 - accuracy: 0.9862 - val_loss: 0.2301 - val_accuracy: 0.9721\n",
      "Epoch 9/15\n",
      "48000/48000 [==============================] - 48s 1ms/step - loss: 0.0538 - accuracy: 0.9880 - val_loss: 0.2399 - val_accuracy: 0.9697\n",
      "Epoch 10/15\n",
      "48000/48000 [==============================] - 48s 1ms/step - loss: 0.0489 - accuracy: 0.9887 - val_loss: 0.2433 - val_accuracy: 0.9727\n",
      "Epoch 11/15\n",
      "48000/48000 [==============================] - 49s 1ms/step - loss: 0.0419 - accuracy: 0.9902 - val_loss: 0.2656 - val_accuracy: 0.9702\n",
      "Epoch 12/15\n",
      "48000/48000 [==============================] - 48s 1ms/step - loss: 0.0435 - accuracy: 0.9906 - val_loss: 0.2879 - val_accuracy: 0.9718\n",
      "Epoch 13/15\n",
      "48000/48000 [==============================] - 48s 997us/step - loss: 0.0438 - accuracy: 0.9911 - val_loss: 0.2987 - val_accuracy: 0.9707\n",
      "Epoch 14/15\n",
      "48000/48000 [==============================] - 48s 1ms/step - loss: 0.0406 - accuracy: 0.9919 - val_loss: 0.3260 - val_accuracy: 0.9693\n",
      "Epoch 15/15\n",
      "48000/48000 [==============================] - 48s 1ms/step - loss: 0.0360 - accuracy: 0.9920 - val_loss: 0.3053 - val_accuracy: 0.9737\n",
      "313/313 [==============================] - 0s 1ms/step - loss: 0.2865 - accuracy: 0.9730\n",
      "Epoch 1/15\n",
      "4800/4800 [==============================] - 5s 1ms/step - loss: 0.2540 - accuracy: 0.9268 - val_loss: 0.1411 - val_accuracy: 0.9598\n",
      "Epoch 2/15\n",
      "4800/4800 [==============================] - 6s 1ms/step - loss: 0.1147 - accuracy: 0.9648 - val_loss: 0.1179 - val_accuracy: 0.9655\n",
      "Epoch 3/15\n",
      "4800/4800 [==============================] - 5s 1ms/step - loss: 0.0793 - accuracy: 0.9750 - val_loss: 0.0943 - val_accuracy: 0.9718\n",
      "Epoch 4/15\n",
      "4800/4800 [==============================] - 5s 1ms/step - loss: 0.0598 - accuracy: 0.9821 - val_loss: 0.0946 - val_accuracy: 0.9718\n",
      "Epoch 5/15\n",
      "4800/4800 [==============================] - 6s 1ms/step - loss: 0.0476 - accuracy: 0.9849 - val_loss: 0.0979 - val_accuracy: 0.9720\n",
      "Epoch 6/15\n",
      "4800/4800 [==============================] - 5s 1ms/step - loss: 0.0367 - accuracy: 0.9882 - val_loss: 0.1003 - val_accuracy: 0.9736\n",
      "Epoch 7/15\n",
      "4800/4800 [==============================] - 5s 1ms/step - loss: 0.0297 - accuracy: 0.9906 - val_loss: 0.1410 - val_accuracy: 0.9648\n",
      "Epoch 8/15\n",
      "4800/4800 [==============================] - 6s 1ms/step - loss: 0.0244 - accuracy: 0.9920 - val_loss: 0.1041 - val_accuracy: 0.9740\n",
      "Epoch 9/15\n",
      "4800/4800 [==============================] - 5s 1ms/step - loss: 0.0224 - accuracy: 0.9925 - val_loss: 0.1199 - val_accuracy: 0.9707\n",
      "Epoch 10/15\n",
      "4800/4800 [==============================] - 5s 1ms/step - loss: 0.0192 - accuracy: 0.9939 - val_loss: 0.1145 - val_accuracy: 0.9755\n",
      "Epoch 11/15\n",
      "4800/4800 [==============================] - 6s 1ms/step - loss: 0.0165 - accuracy: 0.9944 - val_loss: 0.1161 - val_accuracy: 0.9757\n",
      "Epoch 12/15\n",
      "4800/4800 [==============================] - 5s 1ms/step - loss: 0.0144 - accuracy: 0.9951 - val_loss: 0.1195 - val_accuracy: 0.9757\n",
      "Epoch 13/15\n",
      "4800/4800 [==============================] - 5s 1ms/step - loss: 0.0119 - accuracy: 0.9956 - val_loss: 0.1268 - val_accuracy: 0.9748\n",
      "Epoch 14/15\n",
      "4800/4800 [==============================] - 6s 1ms/step - loss: 0.0105 - accuracy: 0.9963 - val_loss: 0.1420 - val_accuracy: 0.9737\n",
      "Epoch 15/15\n",
      "4800/4800 [==============================] - 5s 1ms/step - loss: 0.0117 - accuracy: 0.9958 - val_loss: 0.1477 - val_accuracy: 0.9742\n",
      "313/313 [==============================] - 0s 1ms/step - loss: 0.1233 - accuracy: 0.9768\n",
      "Epoch 1/15\n",
      "480/480 [==============================] - 1s 2ms/step - loss: 0.3989 - accuracy: 0.8886 - val_loss: 0.2158 - val_accuracy: 0.9393\n",
      "Epoch 2/15\n",
      "480/480 [==============================] - 1s 2ms/step - loss: 0.1866 - accuracy: 0.9457 - val_loss: 0.1677 - val_accuracy: 0.9519\n",
      "Epoch 3/15\n",
      "480/480 [==============================] - 1s 1ms/step - loss: 0.1390 - accuracy: 0.9595 - val_loss: 0.1401 - val_accuracy: 0.9597\n",
      "Epoch 4/15\n",
      "480/480 [==============================] - 1s 1ms/step - loss: 0.1095 - accuracy: 0.9689 - val_loss: 0.1222 - val_accuracy: 0.9643\n",
      "Epoch 5/15\n",
      "480/480 [==============================] - 1s 2ms/step - loss: 0.0906 - accuracy: 0.9741 - val_loss: 0.1160 - val_accuracy: 0.9657\n",
      "Epoch 6/15\n",
      "480/480 [==============================] - 1s 2ms/step - loss: 0.0753 - accuracy: 0.9782 - val_loss: 0.1064 - val_accuracy: 0.9681\n",
      "Epoch 7/15\n",
      "480/480 [==============================] - 1s 2ms/step - loss: 0.0639 - accuracy: 0.9819 - val_loss: 0.1011 - val_accuracy: 0.9706\n",
      "Epoch 8/15\n",
      "480/480 [==============================] - 1s 2ms/step - loss: 0.0551 - accuracy: 0.9843 - val_loss: 0.0989 - val_accuracy: 0.9705\n",
      "Epoch 9/15\n",
      "480/480 [==============================] - 1s 1ms/step - loss: 0.0466 - accuracy: 0.9873 - val_loss: 0.0982 - val_accuracy: 0.9710\n",
      "Epoch 10/15\n",
      "480/480 [==============================] - 1s 1ms/step - loss: 0.0409 - accuracy: 0.9885 - val_loss: 0.0944 - val_accuracy: 0.9741\n",
      "Epoch 11/15\n",
      "480/480 [==============================] - 1s 2ms/step - loss: 0.0348 - accuracy: 0.9904 - val_loss: 0.0991 - val_accuracy: 0.9722\n",
      "Epoch 12/15\n",
      "480/480 [==============================] - 1s 2ms/step - loss: 0.0300 - accuracy: 0.9920 - val_loss: 0.0992 - val_accuracy: 0.9733\n",
      "Epoch 13/15\n",
      "480/480 [==============================] - 1s 2ms/step - loss: 0.0250 - accuracy: 0.9938 - val_loss: 0.0969 - val_accuracy: 0.9743\n",
      "Epoch 14/15\n",
      "480/480 [==============================] - 1s 1ms/step - loss: 0.0223 - accuracy: 0.9944 - val_loss: 0.0975 - val_accuracy: 0.9748\n",
      "Epoch 15/15\n",
      "480/480 [==============================] - 1s 1ms/step - loss: 0.0191 - accuracy: 0.9955 - val_loss: 0.0998 - val_accuracy: 0.9752\n",
      "313/313 [==============================] - 0s 1ms/step - loss: 0.0833 - accuracy: 0.9765\n",
      "Epoch 1/15\n",
      "1/1 [==============================] - 0s 172ms/step - loss: 2.3171 - accuracy: 0.1185 - val_loss: 2.1857 - val_accuracy: 0.2017\n",
      "Epoch 2/15\n",
      "1/1 [==============================] - 0s 31ms/step - loss: 2.1855 - accuracy: 0.1986 - val_loss: 2.0604 - val_accuracy: 0.3210\n",
      "Epoch 3/15\n",
      "1/1 [==============================] - 0s 31ms/step - loss: 2.0640 - accuracy: 0.3184 - val_loss: 1.9425 - val_accuracy: 0.4453\n",
      "Epoch 4/15\n",
      "1/1 [==============================] - 0s 31ms/step - loss: 1.9493 - accuracy: 0.4369 - val_loss: 1.8297 - val_accuracy: 0.5450\n",
      "Epoch 5/15\n",
      "1/1 [==============================] - 0s 31ms/step - loss: 1.8396 - accuracy: 0.5307 - val_loss: 1.7211 - val_accuracy: 0.6132\n",
      "Epoch 6/15\n",
      "1/1 [==============================] - 0s 31ms/step - loss: 1.7338 - accuracy: 0.5983 - val_loss: 1.6165 - val_accuracy: 0.6586\n",
      "Epoch 7/15\n",
      "1/1 [==============================] - 0s 31ms/step - loss: 1.6317 - accuracy: 0.6444 - val_loss: 1.5164 - val_accuracy: 0.6875\n",
      "Epoch 8/15\n",
      "1/1 [==============================] - 0s 63ms/step - loss: 1.5339 - accuracy: 0.6769 - val_loss: 1.4213 - val_accuracy: 0.7104\n",
      "Epoch 9/15\n",
      "1/1 [==============================] - 0s 47ms/step - loss: 1.4410 - accuracy: 0.6991 - val_loss: 1.3318 - val_accuracy: 0.7327\n",
      "Epoch 10/15\n",
      "1/1 [==============================] - 0s 31ms/step - loss: 1.3535 - accuracy: 0.7181 - val_loss: 1.2481 - val_accuracy: 0.7503\n",
      "Epoch 11/15\n",
      "1/1 [==============================] - 0s 31ms/step - loss: 1.2716 - accuracy: 0.7354 - val_loss: 1.1702 - val_accuracy: 0.7632\n",
      "Epoch 12/15\n",
      "1/1 [==============================] - 0s 31ms/step - loss: 1.1955 - accuracy: 0.7488 - val_loss: 1.0978 - val_accuracy: 0.7772\n",
      "Epoch 13/15\n",
      "1/1 [==============================] - 0s 47ms/step - loss: 1.1249 - accuracy: 0.7617 - val_loss: 1.0311 - val_accuracy: 0.7905\n",
      "Epoch 14/15\n",
      "1/1 [==============================] - 0s 31ms/step - loss: 1.0599 - accuracy: 0.7717 - val_loss: 0.9700 - val_accuracy: 0.7986\n",
      "Epoch 15/15\n",
      "1/1 [==============================] - 0s 31ms/step - loss: 1.0003 - accuracy: 0.7825 - val_loss: 0.9142 - val_accuracy: 0.8070\n",
      "313/313 [==============================] - 0s 799us/step - loss: 0.9217 - accuracy: 0.8041\n"
     ]
    }
   ],
   "source": [
    "batch_sizes = [1, 10, 100, 60000]\n",
    "\n",
    "for b_s in batch_sizes:\n",
    "    start_time = time.time()\n",
    "    model = Sequential() \n",
    "    model.add(Dense(100, input_dim=784, activation=\"relu\"))\n",
    "    model.add(Dense(10, activation=\"softmax\"))\n",
    "    \n",
    "    model.compile(loss=\"categorical_crossentropy\", optimizer=\"adam\", metrics=[\"accuracy\"])\n",
    "    \n",
    "    model.fit(X_train_vec, y_train_vec, batch_size=b_s, epochs=15, verbose=1, validation_split=0.2)\n",
    "    \n",
    "    res = model.evaluate(X_test_vec, y_test_vec)\n",
    "    \n",
    "    end_time = time.time()\n",
    "    \n",
    "    results.append(log_results(800, 'relu', b_s, res[0], res[1], end_time - start_time))"
   ]
  },
  {
   "cell_type": "code",
   "execution_count": 56,
   "id": "5f96c0ef",
   "metadata": {},
   "outputs": [
    {
     "data": {
      "text/plain": [
       "[{'neuron_num': 800,\n",
       "  'aktivation_func': 'relu',\n",
       "  'batch_size': 128,\n",
       "  'loss': 0.08,\n",
       "  'acc': 0.98,\n",
       "  'exec_time': 43.445},\n",
       " {'neuron_num': 10,\n",
       "  'aktivation_func': 'relu',\n",
       "  'batch_size': 128,\n",
       "  'loss': 0.243,\n",
       "  'acc': 0.932,\n",
       "  'exec_time': 7.203},\n",
       " {'neuron_num': 100,\n",
       "  'aktivation_func': 'relu',\n",
       "  'batch_size': 128,\n",
       "  'loss': 0.079,\n",
       "  'acc': 0.978,\n",
       "  'exec_time': 8.746},\n",
       " {'neuron_num': 5000,\n",
       "  'aktivation_func': 'relu',\n",
       "  'batch_size': 128,\n",
       "  'loss': 0.079,\n",
       "  'acc': 0.983,\n",
       "  'exec_time': 160.189},\n",
       " {'neuron_num': 800,\n",
       "  'aktivation_func': 'linear',\n",
       "  'batch_size': 128,\n",
       "  'loss': 0.287,\n",
       "  'acc': 0.924,\n",
       "  'exec_time': 36.541},\n",
       " {'neuron_num': 800,\n",
       "  'aktivation_func': 'relu',\n",
       "  'batch_size': 1,\n",
       "  'loss': 0.286,\n",
       "  'acc': 0.973,\n",
       "  'exec_time': 729.46},\n",
       " {'neuron_num': 800,\n",
       "  'aktivation_func': 'relu',\n",
       "  'batch_size': 10,\n",
       "  'loss': 0.123,\n",
       "  'acc': 0.977,\n",
       "  'exec_time': 82.407},\n",
       " {'neuron_num': 800,\n",
       "  'aktivation_func': 'relu',\n",
       "  'batch_size': 100,\n",
       "  'loss': 0.083,\n",
       "  'acc': 0.976,\n",
       "  'exec_time': 12.109},\n",
       " {'neuron_num': 800,\n",
       "  'aktivation_func': 'relu',\n",
       "  'batch_size': 60000,\n",
       "  'loss': 0.922,\n",
       "  'acc': 0.804,\n",
       "  'exec_time': 3.422}]"
      ]
     },
     "execution_count": 56,
     "metadata": {},
     "output_type": "execute_result"
    }
   ],
   "source": [
    "results"
   ]
  },
  {
   "cell_type": "code",
   "execution_count": 58,
   "id": "d72def49",
   "metadata": {},
   "outputs": [
    {
     "data": {
      "text/html": [
       "<div>\n",
       "<style scoped>\n",
       "    .dataframe tbody tr th:only-of-type {\n",
       "        vertical-align: middle;\n",
       "    }\n",
       "\n",
       "    .dataframe tbody tr th {\n",
       "        vertical-align: top;\n",
       "    }\n",
       "\n",
       "    .dataframe thead th {\n",
       "        text-align: right;\n",
       "    }\n",
       "</style>\n",
       "<table border=\"1\" class=\"dataframe\">\n",
       "  <thead>\n",
       "    <tr style=\"text-align: right;\">\n",
       "      <th></th>\n",
       "      <th>neuron_num</th>\n",
       "      <th>aktivation_func</th>\n",
       "      <th>batch_size</th>\n",
       "      <th>loss</th>\n",
       "      <th>acc</th>\n",
       "      <th>exec_time</th>\n",
       "    </tr>\n",
       "  </thead>\n",
       "  <tbody>\n",
       "    <tr>\n",
       "      <th>0</th>\n",
       "      <td>800</td>\n",
       "      <td>relu</td>\n",
       "      <td>128</td>\n",
       "      <td>0.080</td>\n",
       "      <td>0.980</td>\n",
       "      <td>43.445</td>\n",
       "    </tr>\n",
       "    <tr>\n",
       "      <th>1</th>\n",
       "      <td>10</td>\n",
       "      <td>relu</td>\n",
       "      <td>128</td>\n",
       "      <td>0.243</td>\n",
       "      <td>0.932</td>\n",
       "      <td>7.203</td>\n",
       "    </tr>\n",
       "    <tr>\n",
       "      <th>2</th>\n",
       "      <td>100</td>\n",
       "      <td>relu</td>\n",
       "      <td>128</td>\n",
       "      <td>0.079</td>\n",
       "      <td>0.978</td>\n",
       "      <td>8.746</td>\n",
       "    </tr>\n",
       "    <tr>\n",
       "      <th>3</th>\n",
       "      <td>5000</td>\n",
       "      <td>relu</td>\n",
       "      <td>128</td>\n",
       "      <td>0.079</td>\n",
       "      <td>0.983</td>\n",
       "      <td>160.189</td>\n",
       "    </tr>\n",
       "    <tr>\n",
       "      <th>4</th>\n",
       "      <td>800</td>\n",
       "      <td>linear</td>\n",
       "      <td>128</td>\n",
       "      <td>0.287</td>\n",
       "      <td>0.924</td>\n",
       "      <td>36.541</td>\n",
       "    </tr>\n",
       "    <tr>\n",
       "      <th>5</th>\n",
       "      <td>800</td>\n",
       "      <td>relu</td>\n",
       "      <td>1</td>\n",
       "      <td>0.286</td>\n",
       "      <td>0.973</td>\n",
       "      <td>729.460</td>\n",
       "    </tr>\n",
       "    <tr>\n",
       "      <th>6</th>\n",
       "      <td>800</td>\n",
       "      <td>relu</td>\n",
       "      <td>10</td>\n",
       "      <td>0.123</td>\n",
       "      <td>0.977</td>\n",
       "      <td>82.407</td>\n",
       "    </tr>\n",
       "    <tr>\n",
       "      <th>7</th>\n",
       "      <td>800</td>\n",
       "      <td>relu</td>\n",
       "      <td>100</td>\n",
       "      <td>0.083</td>\n",
       "      <td>0.976</td>\n",
       "      <td>12.109</td>\n",
       "    </tr>\n",
       "    <tr>\n",
       "      <th>8</th>\n",
       "      <td>800</td>\n",
       "      <td>relu</td>\n",
       "      <td>60000</td>\n",
       "      <td>0.922</td>\n",
       "      <td>0.804</td>\n",
       "      <td>3.422</td>\n",
       "    </tr>\n",
       "  </tbody>\n",
       "</table>\n",
       "</div>"
      ],
      "text/plain": [
       "   neuron_num aktivation_func  batch_size   loss    acc  exec_time\n",
       "0         800            relu         128  0.080  0.980     43.445\n",
       "1          10            relu         128  0.243  0.932      7.203\n",
       "2         100            relu         128  0.079  0.978      8.746\n",
       "3        5000            relu         128  0.079  0.983    160.189\n",
       "4         800          linear         128  0.287  0.924     36.541\n",
       "5         800            relu           1  0.286  0.973    729.460\n",
       "6         800            relu          10  0.123  0.977     82.407\n",
       "7         800            relu         100  0.083  0.976     12.109\n",
       "8         800            relu       60000  0.922  0.804      3.422"
      ]
     },
     "execution_count": 58,
     "metadata": {},
     "output_type": "execute_result"
    }
   ],
   "source": [
    "res_df = pd.DataFrame(results)\n",
    "res_df"
   ]
  },
  {
   "cell_type": "code",
   "execution_count": 59,
   "id": "78dab78c",
   "metadata": {},
   "outputs": [
    {
     "data": {
      "text/html": [
       "<div>\n",
       "<style scoped>\n",
       "    .dataframe tbody tr th:only-of-type {\n",
       "        vertical-align: middle;\n",
       "    }\n",
       "\n",
       "    .dataframe tbody tr th {\n",
       "        vertical-align: top;\n",
       "    }\n",
       "\n",
       "    .dataframe thead th {\n",
       "        text-align: right;\n",
       "    }\n",
       "</style>\n",
       "<table border=\"1\" class=\"dataframe\">\n",
       "  <thead>\n",
       "    <tr style=\"text-align: right;\">\n",
       "      <th></th>\n",
       "      <th>neuron_num</th>\n",
       "      <th>aktivation_func</th>\n",
       "      <th>batch_size</th>\n",
       "      <th>loss</th>\n",
       "      <th>acc</th>\n",
       "      <th>exec_time</th>\n",
       "    </tr>\n",
       "  </thead>\n",
       "  <tbody>\n",
       "    <tr>\n",
       "      <th>8</th>\n",
       "      <td>800</td>\n",
       "      <td>relu</td>\n",
       "      <td>60000</td>\n",
       "      <td>0.922</td>\n",
       "      <td>0.804</td>\n",
       "      <td>3.422</td>\n",
       "    </tr>\n",
       "    <tr>\n",
       "      <th>4</th>\n",
       "      <td>800</td>\n",
       "      <td>linear</td>\n",
       "      <td>128</td>\n",
       "      <td>0.287</td>\n",
       "      <td>0.924</td>\n",
       "      <td>36.541</td>\n",
       "    </tr>\n",
       "    <tr>\n",
       "      <th>1</th>\n",
       "      <td>10</td>\n",
       "      <td>relu</td>\n",
       "      <td>128</td>\n",
       "      <td>0.243</td>\n",
       "      <td>0.932</td>\n",
       "      <td>7.203</td>\n",
       "    </tr>\n",
       "    <tr>\n",
       "      <th>5</th>\n",
       "      <td>800</td>\n",
       "      <td>relu</td>\n",
       "      <td>1</td>\n",
       "      <td>0.286</td>\n",
       "      <td>0.973</td>\n",
       "      <td>729.460</td>\n",
       "    </tr>\n",
       "    <tr>\n",
       "      <th>7</th>\n",
       "      <td>800</td>\n",
       "      <td>relu</td>\n",
       "      <td>100</td>\n",
       "      <td>0.083</td>\n",
       "      <td>0.976</td>\n",
       "      <td>12.109</td>\n",
       "    </tr>\n",
       "    <tr>\n",
       "      <th>6</th>\n",
       "      <td>800</td>\n",
       "      <td>relu</td>\n",
       "      <td>10</td>\n",
       "      <td>0.123</td>\n",
       "      <td>0.977</td>\n",
       "      <td>82.407</td>\n",
       "    </tr>\n",
       "    <tr>\n",
       "      <th>2</th>\n",
       "      <td>100</td>\n",
       "      <td>relu</td>\n",
       "      <td>128</td>\n",
       "      <td>0.079</td>\n",
       "      <td>0.978</td>\n",
       "      <td>8.746</td>\n",
       "    </tr>\n",
       "    <tr>\n",
       "      <th>0</th>\n",
       "      <td>800</td>\n",
       "      <td>relu</td>\n",
       "      <td>128</td>\n",
       "      <td>0.080</td>\n",
       "      <td>0.980</td>\n",
       "      <td>43.445</td>\n",
       "    </tr>\n",
       "    <tr>\n",
       "      <th>3</th>\n",
       "      <td>5000</td>\n",
       "      <td>relu</td>\n",
       "      <td>128</td>\n",
       "      <td>0.079</td>\n",
       "      <td>0.983</td>\n",
       "      <td>160.189</td>\n",
       "    </tr>\n",
       "  </tbody>\n",
       "</table>\n",
       "</div>"
      ],
      "text/plain": [
       "   neuron_num aktivation_func  batch_size   loss    acc  exec_time\n",
       "8         800            relu       60000  0.922  0.804      3.422\n",
       "4         800          linear         128  0.287  0.924     36.541\n",
       "1          10            relu         128  0.243  0.932      7.203\n",
       "5         800            relu           1  0.286  0.973    729.460\n",
       "7         800            relu         100  0.083  0.976     12.109\n",
       "6         800            relu          10  0.123  0.977     82.407\n",
       "2         100            relu         128  0.079  0.978      8.746\n",
       "0         800            relu         128  0.080  0.980     43.445\n",
       "3        5000            relu         128  0.079  0.983    160.189"
      ]
     },
     "execution_count": 59,
     "metadata": {},
     "output_type": "execute_result"
    }
   ],
   "source": [
    "res_df.sort_values(by='acc')"
   ]
  },
  {
   "cell_type": "markdown",
   "id": "cb964bf7",
   "metadata": {},
   "source": [
    "## Handgeschriebene Ziffernerkennung"
   ]
  },
  {
   "cell_type": "markdown",
   "id": "9be6c5e8",
   "metadata": {},
   "source": [
    "### Aufgabe 1 \n",
    "(eine in einem grafischen Editor gezeichnete Ziffer erkennen)"
   ]
  },
  {
   "cell_type": "code",
   "execution_count": 62,
   "id": "93d37a16",
   "metadata": {},
   "outputs": [],
   "source": [
    "from tensorflow.keras.preprocessing import image"
   ]
  },
  {
   "cell_type": "code",
   "execution_count": 85,
   "id": "54cb37e6",
   "metadata": {},
   "outputs": [
    {
     "data": {
      "image/png": "[encoded data removed]",
      "text/plain": [
       "<Figure size 432x288 with 1 Axes>"
      ]
     },
     "metadata": {
      "needs_background": "light"
     },
     "output_type": "display_data"
    }
   ],
   "source": [
    "example = image.load_img('4_.png', target_size=(28, 28), color_mode = 'grayscale') \n",
    "\n",
    "\n",
    "plt.imshow(example.convert('RGBA')) \n",
    "plt.show()"
   ]
  },
  {
   "cell_type": "code",
   "execution_count": 86,
   "id": "dd356344",
   "metadata": {},
   "outputs": [],
   "source": [
    "example = image.img_to_array(example)\n",
    "example = example.reshape(1,784)\n",
    "example = example.astype('float32')\n",
    "example = 1- example/255"
   ]
  },
  {
   "cell_type": "code",
   "execution_count": 98,
   "id": "35fa8e0d",
   "metadata": {},
   "outputs": [
    {
     "data": {
      "text/plain": [
       "(1, 784)"
      ]
     },
     "execution_count": 98,
     "metadata": {},
     "output_type": "execute_result"
    }
   ],
   "source": [
    "example.shape"
   ]
  },
  {
   "cell_type": "code",
   "execution_count": 106,
   "id": "4354d21e",
   "metadata": {},
   "outputs": [
    {
     "data": {
      "image/png": "[encoded data removed]",
      "text/plain": [
       "<Figure size 432x288 with 1 Axes>"
      ]
     },
     "metadata": {
      "needs_background": "light"
     },
     "output_type": "display_data"
    }
   ],
   "source": [
    "plt.imshow(image.array_to_img(example.reshape(28,28, 1)).convert('RGBA')) \n",
    "plt.show()"
   ]
  },
  {
   "cell_type": "code",
   "execution_count": 88,
   "id": "374d7cb5",
   "metadata": {},
   "outputs": [
    {
     "name": "stdout",
     "output_type": "stream",
     "text": [
      "Model: \"sequential_24\"\n",
      "_________________________________________________________________\n",
      "Layer (type)                 Output Shape              Param #   \n",
      "=================================================================\n",
      "dense_50 (Dense)             (None, 800)               628000    \n",
      "_________________________________________________________________\n",
      "dense_51 (Dense)             (None, 10)                8010      \n",
      "=================================================================\n",
      "Total params: 636,010\n",
      "Trainable params: 636,010\n",
      "Non-trainable params: 0\n",
      "_________________________________________________________________\n",
      "None\n"
     ]
    }
   ],
   "source": [
    "model = Sequential() \n",
    "model.add(Dense(800, input_dim=784, activation=\"relu\"))\n",
    "# model.add(Dense(400, activation=\"relu\"))\n",
    "model.add(Dense(10, activation=\"softmax\"))\n",
    "\n",
    "model.compile(loss=\"categorical_crossentropy\", optimizer=\"adam\", metrics=[\"accuracy\"]) # Компилируем модель\n",
    "print(model.summary())"
   ]
  },
  {
   "cell_type": "code",
   "execution_count": 76,
   "id": "ef1a74cb",
   "metadata": {},
   "outputs": [],
   "source": [
    "X_vec = np.concatenate((X_train_vec, X_test_vec), axis=0)\n",
    "y_vec = np.concatenate((y_train_vec, y_test_vec), axis=0)"
   ]
  },
  {
   "cell_type": "code",
   "execution_count": 78,
   "id": "d7a07cd9",
   "metadata": {},
   "outputs": [
    {
     "name": "stdout",
     "output_type": "stream",
     "text": [
      "(70000, 784)\n",
      "(70000, 10)\n"
     ]
    }
   ],
   "source": [
    "print(X_vec.shape)\n",
    "print(y_vec.shape)\n"
   ]
  },
  {
   "cell_type": "code",
   "execution_count": 79,
   "id": "0c462568",
   "metadata": {},
   "outputs": [
    {
     "name": "stdout",
     "output_type": "stream",
     "text": [
      "Epoch 1/15\n",
      "547/547 [==============================] - 3s 6ms/step - loss: 0.2252 - accuracy: 0.9358\n",
      "Epoch 2/15\n",
      "547/547 [==============================] - 3s 6ms/step - loss: 0.0872 - accuracy: 0.9743\n",
      "Epoch 3/15\n",
      "547/547 [==============================] - 3s 6ms/step - loss: 0.0559 - accuracy: 0.9832\n",
      "Epoch 4/15\n",
      "547/547 [==============================] - 3s 6ms/step - loss: 0.0382 - accuracy: 0.9886\n",
      "Epoch 5/15\n",
      "547/547 [==============================] - 3s 5ms/step - loss: 0.0286 - accuracy: 0.9918\n",
      "Epoch 6/15\n",
      "547/547 [==============================] - 3s 6ms/step - loss: 0.0205 - accuracy: 0.9942\n",
      "Epoch 7/15\n",
      "547/547 [==============================] - 3s 6ms/step - loss: 0.0147 - accuracy: 0.9959\n",
      "Epoch 8/15\n",
      "547/547 [==============================] - 3s 5ms/step - loss: 0.0125 - accuracy: 0.9964\n",
      "Epoch 9/15\n",
      "547/547 [==============================] - 3s 6ms/step - loss: 0.0100 - accuracy: 0.9971\n",
      "Epoch 10/15\n",
      "547/547 [==============================] - 3s 6ms/step - loss: 0.0079 - accuracy: 0.9978\n",
      "Epoch 11/15\n",
      "547/547 [==============================] - 3s 6ms/step - loss: 0.0073 - accuracy: 0.9979\n",
      "Epoch 12/15\n",
      "547/547 [==============================] - 3s 6ms/step - loss: 0.0050 - accuracy: 0.9987\n",
      "Epoch 13/15\n",
      "547/547 [==============================] - 3s 5ms/step - loss: 0.0078 - accuracy: 0.9976\n",
      "Epoch 14/15\n",
      "547/547 [==============================] - 3s 6ms/step - loss: 0.0070 - accuracy: 0.9979\n",
      "Epoch 15/15\n",
      "547/547 [==============================] - 3s 6ms/step - loss: 0.0040 - accuracy: 0.9989\n"
     ]
    },
    {
     "data": {
      "text/plain": [
       "<tensorflow.python.keras.callbacks.History at 0x22d60975790>"
      ]
     },
     "execution_count": 79,
     "metadata": {},
     "output_type": "execute_result"
    }
   ],
   "source": [
    "model.fit(X_vec, y_vec, batch_size=128, epochs=15, verbose=1)"
   ]
  },
  {
   "cell_type": "code",
   "execution_count": 82,
   "id": "2da32497",
   "metadata": {},
   "outputs": [],
   "source": [
    "example_pred = model.predict(example)"
   ]
  },
  {
   "cell_type": "code",
   "execution_count": 83,
   "id": "d91cc534",
   "metadata": {},
   "outputs": [
    {
     "name": "stdout",
     "output_type": "stream",
     "text": [
      "4\n"
     ]
    }
   ],
   "source": [
    "pred = np.argmax(example_pred)\n",
    "print(pred)"
   ]
  },
  {
   "cell_type": "markdown",
   "id": "ec67cf8f",
   "metadata": {},
   "source": [
    "### Aufgabe 2\n",
    "(eine auf einem Blatt Papier geschriebene Zahl erkennen)"
   ]
  },
  {
   "cell_type": "code",
   "execution_count": 133,
   "id": "3d5ea894",
   "metadata": {},
   "outputs": [
    {
     "data": {
      "image/png": "[encoded data removed]",
      "text/plain": [
       "<Figure size 432x288 with 1 Axes>"
      ]
     },
     "metadata": {
      "needs_background": "light"
     },
     "output_type": "display_data"
    }
   ],
   "source": [
    "example = image.load_img('6_.png', target_size=(28, 28), color_mode = 'grayscale') \n",
    "\n",
    "\n",
    "plt.imshow(example.convert('RGBA')) \n",
    "plt.show()"
   ]
  },
  {
   "cell_type": "code",
   "execution_count": 134,
   "id": "e692b7b5",
   "metadata": {},
   "outputs": [
    {
     "name": "stdout",
     "output_type": "stream",
     "text": [
      "[[213. 210. 208. 205. 207. 208. 211. 209. 209. 208. 208. 206. 209. 211.\n",
      "  209. 210. 210. 211. 208. 210. 212. 212. 213. 213. 210. 216. 215. 214.\n",
      "  206. 209. 205. 209. 207. 209. 212. 208. 208. 211. 206. 208. 210. 209.\n",
      "  209. 212. 209. 215. 211. 209. 212. 213. 213. 211. 213. 212. 211. 211.\n",
      "  209. 214. 205. 208. 206. 214. 210. 209. 207. 209. 209. 210. 213. 211.\n",
      "  207. 214. 211. 212. 207. 212. 212. 207. 210. 215. 212. 213. 217. 214.\n",
      "  208. 209. 212. 209. 206. 208. 211. 210. 211. 209. 212. 208. 209. 207.\n",
      "  208. 211. 211. 211. 211. 211. 211. 211. 211. 211. 215. 210. 210. 212.\n",
      "  211. 207. 208. 209. 204. 206. 206. 208. 211. 208. 211. 208. 207. 207.\n",
      "  216. 211. 214. 217. 214. 210. 211. 212. 211. 211. 213. 210. 212. 212.\n",
      "  206. 208. 211. 206. 208. 208. 208. 209. 209. 207. 209. 209. 209. 209.\n",
      "  208. 122.  83.  55.  59. 188. 211. 213. 210. 210. 209. 211. 211. 211.\n",
      "  210. 208. 208. 206. 205. 208. 208. 213. 211. 204. 210. 208. 207. 217.\n",
      "   92.  68. 209. 209.  55. 107. 210. 210. 212. 212. 211. 211. 211. 211.\n",
      "  207. 208. 208. 206. 208. 208. 208. 209. 207. 208. 207. 205. 214.  75.\n",
      "   62. 210. 208. 202.  51. 209. 207. 211. 212. 210. 212. 210. 210. 213.\n",
      "  205. 208. 208. 207. 208. 204. 206. 206. 209. 210. 208. 207.  66.  56.\n",
      "  208. 207. 214. 212. 211. 211. 209. 212. 211. 212. 212. 210. 209. 210.\n",
      "  203. 205. 208. 204. 205. 207. 207. 209. 208. 208. 213. 117.  53. 205.\n",
      "  210. 210. 211. 211. 212. 212. 209. 210. 212. 210. 210. 211. 211. 211.\n",
      "  208. 207. 209. 208. 211. 202. 208. 208. 208. 209. 199.  38. 219. 211.\n",
      "  209. 208. 210. 211. 212. 211. 211. 212. 212. 210. 213. 210. 211. 212.\n",
      "  206. 209. 207. 209. 208. 206. 209. 211. 210. 211.  56. 105. 209. 209.\n",
      "  209. 209. 208. 211. 210. 211. 211. 212. 209. 209. 209. 210. 210. 210.\n",
      "  208. 206. 209. 208. 209. 209. 212. 213. 210. 199.  46. 226. 209. 208.\n",
      "  209. 209. 210. 212. 210. 210. 210. 210. 212. 212. 213. 212. 211. 211.\n",
      "  209. 208. 209. 208. 211. 211. 209. 207. 209.  47.  61. 212. 207. 207.\n",
      "  187.  77. 172. 210. 212. 210. 211. 210. 212. 212. 209. 210. 211. 211.\n",
      "  207. 209. 211. 209. 208. 211. 210. 208. 202.  87. 148. 214.  95.  34.\n",
      "   56.  56.  72. 135. 209. 212. 211. 212. 210. 210. 209. 213. 210. 213.\n",
      "  211. 208. 210. 208. 210. 210. 209. 208. 198.  49. 142.  60.  59. 216.\n",
      "  211. 208.  63.  68. 186. 211. 210. 212. 211. 211. 212. 211. 213. 210.\n",
      "  208. 208. 208. 209. 209. 209. 209. 208. 132.  51.  45.  65. 217. 211.\n",
      "  211. 212.  52.  44. 209. 211. 212. 211. 211. 211. 213. 211. 210. 210.\n",
      "  206. 209. 211. 210. 208. 208. 209. 208.  79.  55. 208. 215. 211. 212.\n",
      "  212. 215.  70.  73. 210. 211. 210. 211. 212. 212. 211. 211. 212. 210.\n",
      "  208. 209. 205. 205. 210. 203. 210. 209. 129.  62. 211. 209. 214. 214.\n",
      "  212.  56.  76. 222. 211. 211. 210. 211. 211. 211. 209. 211. 210. 211.\n",
      "  208. 206. 208. 210. 211. 212. 209. 212. 211.  62. 220. 210. 209. 215.\n",
      "   37.  57. 221. 212. 213. 213. 212. 213. 212. 212. 211. 210. 210. 209.\n",
      "  207. 207. 210. 208. 210. 213. 209. 209. 209. 158.  54.  69.  73.  51.\n",
      "  185. 213. 212. 212. 211. 211. 211. 212. 212. 212. 212. 210. 209. 211.\n",
      "  207. 209. 210. 210. 210. 210. 208. 209. 211. 210. 215. 170.  59. 219.\n",
      "  207. 210. 209. 211. 212. 211. 211. 208. 211. 211. 211. 212. 211. 210.\n",
      "  207. 209. 210. 211. 210. 210. 210. 211. 209. 210. 211. 208. 212. 212.\n",
      "  214. 211. 209. 211. 210. 211. 211. 210. 211. 211. 209. 212. 213. 210.\n",
      "  209. 207. 210. 209. 209. 209. 209. 209. 209. 210. 210. 210. 210. 210.\n",
      "  210. 211. 211. 211. 211. 211. 211. 210. 211. 213. 208. 209. 210. 210.\n",
      "  208. 208. 208. 210. 208. 206. 207. 208. 208. 209. 209. 208. 209. 209.\n",
      "  209. 211. 210. 210. 211. 210. 210. 210. 212. 211. 208. 210. 209. 209.\n",
      "  207. 209. 207. 207. 207. 207. 208. 209. 210. 208. 207. 209. 209. 209.\n",
      "  211. 211. 210. 211. 210. 209. 208. 209. 208. 208. 208. 207. 209. 209.\n",
      "  206. 207. 207. 207. 207. 208. 208. 208. 205. 208. 208. 208. 208. 209.\n",
      "  209. 209. 207. 210. 211. 210. 208. 208. 207. 208. 208. 208. 208. 208.\n",
      "  206. 204. 208. 211. 207. 207. 207. 207. 206. 208. 208. 209. 208. 208.\n",
      "  208. 208. 208. 207. 208. 208. 207. 207. 209. 209. 209. 210. 209. 208.]]\n"
     ]
    }
   ],
   "source": [
    "example = image.img_to_array(example)\n",
    "example = example.reshape(1,784)\n",
    "print(example)"
   ]
  },
  {
   "cell_type": "code",
   "execution_count": 135,
   "id": "628c0d53",
   "metadata": {},
   "outputs": [],
   "source": [
    "example = np.where(example> 200, 255, example)"
   ]
  },
  {
   "cell_type": "code",
   "execution_count": 136,
   "id": "e53cbb27",
   "metadata": {},
   "outputs": [
    {
     "data": {
      "image/png": "[encoded data removed]",
      "text/plain": [
       "<Figure size 432x288 with 1 Axes>"
      ]
     },
     "metadata": {
      "needs_background": "light"
     },
     "output_type": "display_data"
    }
   ],
   "source": [
    "plt.imshow(image.array_to_img(example.reshape(28,28, 1)).convert('RGBA')) \n",
    "plt.show()"
   ]
  },
  {
   "cell_type": "code",
   "execution_count": 137,
   "id": "1b76d20e",
   "metadata": {},
   "outputs": [],
   "source": [
    "example = example.astype('float32')\n",
    "example = 1 - example/255"
   ]
  },
  {
   "cell_type": "code",
   "execution_count": 138,
   "id": "4f968f6d",
   "metadata": {},
   "outputs": [
    {
     "name": "stdout",
     "output_type": "stream",
     "text": [
      "9\n"
     ]
    }
   ],
   "source": [
    "example_pred = model.predict(example)\n",
    "pred = np.argmax(example_pred)\n",
    "print(pred)"
   ]
  },
  {
   "cell_type": "code",
   "execution_count": 139,
   "id": "323f7f4d",
   "metadata": {},
   "outputs": [
    {
     "data": {
      "text/plain": [
       "array([[0.10269517, 0.09389957, 0.10594906, 0.09734263, 0.08776778,\n",
       "        0.07983898, 0.11005578, 0.09556652, 0.10007852, 0.12680598]],\n",
       "      dtype=float32)"
      ]
     },
     "execution_count": 139,
     "metadata": {},
     "output_type": "execute_result"
    }
   ],
   "source": [
    "example_pred"
   ]
  },
  {
   "cell_type": "code",
   "execution_count": null,
   "id": "468df62b",
   "metadata": {},
   "outputs": [],
   "source": []
  }
 ],
 "metadata": {
  "kernelspec": {
   "display_name": "Python 3 (ipykernel)",
   "language": "python",
   "name": "python3"
  },
  "language_info": {
   "codemirror_mode": {
    "name": "ipython",
    "version": 3
   },
   "file_extension": ".py",
   "mimetype": "text/x-python",
   "name": "python",
   "nbconvert_exporter": "python",
   "pygments_lexer": "ipython3",
   "version": "3.8.13"
  },
  "toc": {
   "base_numbering": 1,
   "nav_menu": {},
   "number_sections": true,
   "sideBar": true,
   "skip_h1_title": false,
   "title_cell": "Table of Contents",
   "title_sidebar": "Contents",
   "toc_cell": false,
   "toc_position": {},
   "toc_section_display": true,
   "toc_window_display": false
  },
  "varInspector": {
   "cols": {
    "lenName": 16,
    "lenType": 16,
    "lenVar": 40
   },
   "kernels_config": {
    "python": {
     "delete_cmd_postfix": "",
     "delete_cmd_prefix": "del ",
     "library": "var_list.py",
     "varRefreshCmd": "print(var_dic_list())"
    },
    "r": {
     "delete_cmd_postfix": ") ",
     "delete_cmd_prefix": "rm(",
     "library": "var_list.r",
     "varRefreshCmd": "cat(var_dic_list()) "
    }
   },
   "types_to_exclude": [
    "module",
    "function",
    "builtin_function_or_method",
    "instance",
    "_Feature"
   ],
   "window_display": false
  }
 },
 "nbformat": 4,
 "nbformat_minor": 5
}
